{
 "cells": [
  {
   "cell_type": "markdown",
   "metadata": {},
   "source": [
    "A.S. Lundervold, v260922"
   ]
  },
  {
   "cell_type": "markdown",
   "metadata": {},
   "source": [
    "# Introduction"
   ]
  },
  {
   "cell_type": "markdown",
   "metadata": {},
   "source": [
    "In this notebook, we'll study **decision trees**. Why?\n",
    "1. They form the basis for some of the most powerful methods in all of machine learning\n",
    "2. They produce highly interpretable models, which is useful in contexts where you need high explainability (law, finance, medicine, and much more)."
   ]
  },
  {
   "cell_type": "markdown",
   "metadata": {},
   "source": [
    "## Overview"
   ]
  },
  {
   "cell_type": "markdown",
   "metadata": {},
   "source": [
    "- We'll first introduce decision trees: what they are, and how they can be trained (or \"grown\") using the so-called CART algorithm.\n",
    "\n",
    "\n",
    "\n",
    "- We'll also see that they can produce highly complex decision boundaries when used for classification, which makes them capable of fitting very complicated training data sets. \n",
    "\n",
    "\n",
    "\n",
    "- We'll see how decision trees can be used for both classification and regression. \n",
    "\n",
    "\n",
    "\n",
    "- We'll also see that they often tend to overfit, motivating an extension to models with less variance through ensembling. This will result in the *random forests* models discussed in the next notebook. "
   ]
  },
  {
   "cell_type": "markdown",
   "metadata": {},
   "source": [
    "<img src=\"https://github.com/alu042/DAT158-2022/raw/main/notebooks/assets/decision_tree_cancer.png\">"
   ]
  },
  {
   "cell_type": "markdown",
   "metadata": {},
   "source": [
    "# Setup"
   ]
  },
  {
   "cell_type": "code",
   "execution_count": null,
   "metadata": {},
   "outputs": [],
   "source": [
    "# This is a quick check of whether the notebook is currently running on Google Colaboratory\n",
    "# or on Kaggle, as that makes some difference for the code below.\n",
    "# We'll do this in every notebook of the course.\n",
    "try:\n",
    "    import colab\n",
    "    colab=True\n",
    "except:\n",
    "    colab=False\n",
    "\n",
    "import os\n",
    "kaggle = os.environ.get('KAGGLE_KERNEL_RUN_TYPE', '')"
   ]
  },
  {
   "cell_type": "markdown",
   "metadata": {},
   "source": [
    "We need our standard framework:"
   ]
  },
  {
   "cell_type": "code",
   "execution_count": null,
   "metadata": {},
   "outputs": [],
   "source": [
    "# To display plots directly in the notebook:\n",
    "%matplotlib inline"
   ]
  },
  {
   "cell_type": "code",
   "execution_count": null,
   "metadata": {},
   "outputs": [],
   "source": [
    "import numpy as np, pandas as pd, matplotlib.pyplot as plt\n",
    "import matplotlib\n",
    "import sklearn\n",
    "from pathlib import Path\n",
    "import seaborn as sns"
   ]
  },
  {
   "cell_type": "code",
   "execution_count": null,
   "metadata": {},
   "outputs": [],
   "source": [
    "# To make the notebook reproducible\n",
    "seed = 42\n",
    "np.random.seed(seed)"
   ]
  },
  {
   "cell_type": "code",
   "execution_count": null,
   "metadata": {},
   "outputs": [],
   "source": [
    "# Set the directory in which to store data\n",
    "NB_DIR = Path.cwd()       # Set NB_DIR to be the current working directory\n",
    "DATA = NB_DIR/'data'      # The data dir is the subdirectory 'data' under NB_DIR\n",
    "\n",
    "DATA.mkdir(exist_ok=True) # Create the data directory"
   ]
  },
  {
   "cell_type": "code",
   "execution_count": null,
   "metadata": {},
   "outputs": [],
   "source": [
    "import warnings\n",
    "warnings.simplefilter(action='ignore', category=DeprecationWarning)\n",
    "warnings.simplefilter(action='ignore', category=UserWarning)"
   ]
  },
  {
   "cell_type": "markdown",
   "metadata": {},
   "source": [
    "# Decision trees"
   ]
  },
  {
   "cell_type": "markdown",
   "metadata": {},
   "source": [
    "From a set of labelled data, a classification tree learns a set of if-else questions about the features and is used to predict the labels. "
   ]
  },
  {
   "cell_type": "markdown",
   "metadata": {},
   "source": [
    "To be concrete, let's use the diabetes data set studied in previous notebooks. First, we load it as before:"
   ]
  },
  {
   "cell_type": "code",
   "execution_count": null,
   "metadata": {},
   "outputs": [],
   "source": [
    "import urllib.request\n",
    "\n",
    "url = 'https://assets.datacamp.com/production/course_1939/datasets/diabetes.csv'\n",
    "urllib.request.urlretrieve(url, DATA/'diabetes.csv')"
   ]
  },
  {
   "cell_type": "code",
   "execution_count": null,
   "metadata": {},
   "outputs": [],
   "source": [
    "diabetes = pd.read_csv(DATA/'diabetes.csv')"
   ]
  },
  {
   "cell_type": "markdown",
   "metadata": {},
   "source": [
    "It has 8 features and a binary label (diabetes vs. not diabetes):"
   ]
  },
  {
   "cell_type": "code",
   "execution_count": null,
   "metadata": {},
   "outputs": [],
   "source": [
    "diabetes.head()"
   ]
  },
  {
   "cell_type": "markdown",
   "metadata": {},
   "source": [
    "We restrict ourselves to two features for easier visualization:"
   ]
  },
  {
   "cell_type": "code",
   "execution_count": null,
   "metadata": {},
   "outputs": [],
   "source": [
    "data = diabetes[['glucose', 'bmi', 'diabetes']]"
   ]
  },
  {
   "cell_type": "markdown",
   "metadata": {},
   "source": [
    "Here's a scatter plot of the data we have, with glucose levels plotted against bmi and the dots colored by whether the person has diabetes or not:"
   ]
  },
  {
   "cell_type": "code",
   "execution_count": null,
   "metadata": {},
   "outputs": [],
   "source": [
    "sns.pairplot(x_vars = 'glucose', y_vars = 'bmi', data=data, hue='diabetes', \n",
    "             height=7, \n",
    "             plot_kws={\"s\": 55} # Size of markers\n",
    "            )\n",
    "plt.show()"
   ]
  },
  {
   "cell_type": "markdown",
   "metadata": {},
   "source": [
    "We notice that diabetes instances tend to have higher blood glucose levels and higher body mass index.\n",
    "\n",
    "To decide whether a person has diabetes, we could therefore make a set of rules saying things like\n",
    "\n",
    "- \"If your glucose level is above 125 *and* your BMI is above 30, predict diabetes.\"\n",
    "- \"If glucose below 150 _and_ BMI above 40, then predict diabetes\"\n",
    "- and so on..."
   ]
  },
  {
   "cell_type": "markdown",
   "metadata": {},
   "source": [
    "> Such a set of rules is precisely a **decision tree**."
   ]
  },
  {
   "cell_type": "markdown",
   "metadata": {},
   "source": [
    "Let's use scikit-learn to make the rules and the tree for us:"
   ]
  },
  {
   "cell_type": "code",
   "execution_count": null,
   "metadata": {},
   "outputs": [],
   "source": [
    "from sklearn.tree import DecisionTreeClassifier"
   ]
  },
  {
   "cell_type": "code",
   "execution_count": null,
   "metadata": {},
   "outputs": [],
   "source": [
    "#?DecisionTreeClassifier"
   ]
  },
  {
   "cell_type": "code",
   "execution_count": null,
   "metadata": {},
   "outputs": [],
   "source": [
    "tree_clf = DecisionTreeClassifier(max_depth=2, random_state=seed) # We'll discuss `max_depth=2` soon"
   ]
  },
  {
   "cell_type": "code",
   "execution_count": null,
   "metadata": {},
   "outputs": [],
   "source": [
    "X=data[['glucose', 'bmi']] # The features\n",
    "y=data['diabetes'] # The labels"
   ]
  },
  {
   "cell_type": "code",
   "execution_count": null,
   "metadata": {},
   "outputs": [],
   "source": [
    "from sklearn.model_selection import train_test_split"
   ]
  },
  {
   "cell_type": "code",
   "execution_count": null,
   "metadata": {},
   "outputs": [],
   "source": [
    "X_train, X_test, y_train, y_test = train_test_split(X, y, stratify=y, random_state=seed)"
   ]
  },
  {
   "cell_type": "code",
   "execution_count": null,
   "metadata": {},
   "outputs": [],
   "source": [
    "tree_clf.fit(X_train, y_train)"
   ]
  },
  {
   "cell_type": "markdown",
   "metadata": {},
   "source": [
    "...and plot it:"
   ]
  },
  {
   "cell_type": "markdown",
   "metadata": {},
   "source": [
    "> **Note: you need graphviz https://graphviz.gitlab.io/download/ on your computer for the below plotting to work.** If you don't want to install graphviz or you're using Colab, you can simply run the cell with `IPython.display.Image` below to load a pre-computed version."
   ]
  },
  {
   "cell_type": "code",
   "execution_count": null,
   "metadata": {},
   "outputs": [],
   "source": [
    "import sys\n",
    "!{sys.executable} -m pip install graphviz\n",
    "from graphviz import Source"
   ]
  },
  {
   "cell_type": "code",
   "execution_count": null,
   "metadata": {
    "scrolled": true
   },
   "outputs": [],
   "source": [
    "from IPython.display import display\n",
    "from IPython.display import SVG"
   ]
  },
  {
   "cell_type": "code",
   "execution_count": null,
   "metadata": {},
   "outputs": [],
   "source": [
    "from sklearn.tree import export_graphviz"
   ]
  },
  {
   "cell_type": "code",
   "execution_count": null,
   "metadata": {},
   "outputs": [],
   "source": [
    "graph = Source(export_graphviz(tree_clf, out_file=None, feature_names=X.columns, \n",
    "                               class_names=['not diabetes','diabetes'], filled = True, rounded=True))"
   ]
  },
  {
   "cell_type": "code",
   "execution_count": null,
   "metadata": {},
   "outputs": [],
   "source": [
    "# The following requires graphviz on your computer\n",
    "display(SVG(graph.pipe(format='svg')))"
   ]
  },
  {
   "cell_type": "markdown",
   "metadata": {},
   "source": [
    "*Run the below cell if you couldn't get the above plot to work:*"
   ]
  },
  {
   "cell_type": "code",
   "execution_count": null,
   "metadata": {},
   "outputs": [],
   "source": [
    "if colab:\n",
    "    import cv2\n",
    "    from google.colab.patches import cv2_imshow\n",
    "    !wget https://raw.githubusercontent.com/alu042/DAT158-2022/master/notebooks/assets/decision_tree_diabetes.png\n",
    "    img = cv2.imread(\"decision_tree_diabetes.png\", cv2.IMREAD_UNCHANGED)\n",
    "    cv2_imshow(img)"
   ]
  },
  {
   "cell_type": "code",
   "execution_count": null,
   "metadata": {},
   "outputs": [],
   "source": [
    "if not colab:\n",
    "    from IPython.display import Image, display\n",
    "    display(Image(\"https://raw.githubusercontent.com/alu042/DAT158-2022/master/notebooks/assets/decision_tree_diabetes.png\", width='90%'))"
   ]
  },
  {
   "cell_type": "markdown",
   "metadata": {},
   "source": [
    "We see that we get something that can be used to make predictions. If you're tasked with diagnosing diabetes or not diabetes for an instance based on this decision tree, you do as follows:\n",
    "\n",
    "- Start at the root node. If the glucose level is 132.5 or below, take the path on the left. Else take the path on the right.\n",
    "- If you took the left path, then you look at the BMI. \n",
    "    - If BMI is less than 26.9, take the next left path. You end at a **leaf node** (a node where you can't go further). Your prediction is then `class = not diabetes`. \n",
    "    - If the BMI is larger than 26.9, take the right path. You end at another leaf node and make the prediction `class = not diabetes`.\n",
    "- If you took the right path, then you again look at the glucose.\n",
    "    - If glucose is less than 154.5, you take the left path. You end up at a leaf node and make the prediction `class = not diabetes`\n",
    "    - If glucose is larger than 154.5, you take the right path, end up at a leaf node, and make the prediction `class = diabetes`."
   ]
  },
  {
   "cell_type": "markdown",
   "metadata": {},
   "source": [
    "This is exactly how predictions are made if you run `tree_clf.predict`. Each instance is fed through the tree according to its features until it hits a leaf node, where the class is assigned."
   ]
  },
  {
   "cell_type": "markdown",
   "metadata": {},
   "source": [
    "> What are the other terms listed inside the nodes? \"Gini\", \"samples\", \"value\", what do they mean?\n",
    "\n",
    "> And how did scikit-learn construct the decision tree?"
   ]
  },
  {
   "cell_type": "markdown",
   "metadata": {},
   "source": [
    "> **Your turn!** <br>- How accurate is our classifier on the test set?<br>- Try creating a decision tree with `max_depth=3` and interpret the resulting tree as we did above."
   ]
  },
  {
   "cell_type": "markdown",
   "metadata": {},
   "source": [
    "## Decision trees glossary"
   ]
  },
  {
   "cell_type": "markdown",
   "metadata": {},
   "source": [
    "- **Root node**: The top-most node. No parent node. Where you start. Poses the first if-else question.\n",
    "\n",
    "\n",
    "- **Internal node**: Has one parent node and two children. These nodes pose if-else questions.\n",
    "\n",
    "\n",
    "- **Leaf node**: A node without children. Not possible to go any further. A bottom node. These nodes provide predictions.\n",
    "\n",
    "\n",
    "- **`samples`**: The number of training samples that the node applies to. The number of training instances that end up passing through the node. For example, there are 179 samples for which the glucose is less than 154.5\n",
    "\n",
    "\n",
    "- **`value`**: A list of the number of samples *of each class* that the node applies to. \n",
    "\n",
    "\n",
    "- **`gini`**: A measure of \"impurity\". The gini is 0 if all the training samples in that node belongs to a single class. It grows towards 1 as the class diversity at the node increases. "
   ]
  },
  {
   "cell_type": "markdown",
   "metadata": {},
   "source": [
    "We'll have more to say about the Gini impurity shortly, as it's what's used to make decision trees."
   ]
  },
  {
   "cell_type": "markdown",
   "metadata": {},
   "source": [
    "But first, it's instructive to visualize the decision boundary produced by our decision tree:"
   ]
  },
  {
   "cell_type": "markdown",
   "metadata": {},
   "source": [
    "## Decision boundaries for decision trees"
   ]
  },
  {
   "cell_type": "code",
   "execution_count": null,
   "metadata": {},
   "outputs": [],
   "source": [
    "from matplotlib.colors import ListedColormap"
   ]
  },
  {
   "cell_type": "code",
   "execution_count": null,
   "metadata": {},
   "outputs": [],
   "source": [
    "if (colab or kaggle):\n",
    "    !wget https://raw.githubusercontent.com/alu042/DAT158-2022/master/notebooks/utils.py"
   ]
  },
  {
   "cell_type": "code",
   "execution_count": null,
   "metadata": {},
   "outputs": [],
   "source": [
    "# We use a custom function for plotting the decision boundary. \n",
    "# Have a look at the file `utils.py` if you're curious about how it's made.\n",
    "from utils import plot_decision_boundary"
   ]
  },
  {
   "cell_type": "code",
   "execution_count": null,
   "metadata": {},
   "outputs": [],
   "source": [
    "_ = plot_decision_boundary(tree_clf, X_train,y_train)"
   ]
  },
  {
   "cell_type": "markdown",
   "metadata": {},
   "source": [
    "Let's plot the decision boundary for a tree with `max_depth=3`:"
   ]
  },
  {
   "cell_type": "code",
   "execution_count": null,
   "metadata": {},
   "outputs": [],
   "source": [
    "tree_clf_d3 = DecisionTreeClassifier(max_depth=3, random_state=seed)"
   ]
  },
  {
   "cell_type": "code",
   "execution_count": null,
   "metadata": {},
   "outputs": [],
   "source": [
    "tree_clf_d3.fit(X_train, y_train)"
   ]
  },
  {
   "cell_type": "code",
   "execution_count": null,
   "metadata": {},
   "outputs": [],
   "source": [
    "_ = plot_decision_boundary(tree_clf_d3, X_train,y_train)"
   ]
  },
  {
   "cell_type": "markdown",
   "metadata": {},
   "source": [
    "Note that the boundary is **not linear**. It is not a straight line and is not smooth."
   ]
  },
  {
   "cell_type": "markdown",
   "metadata": {},
   "source": [
    "**Note:** The decision boundaries of decision trees are always parallel to an axis. Why is that? It's because each node in a decision tree consists of a test using only **one feature at a time**. "
   ]
  },
  {
   "cell_type": "markdown",
   "metadata": {},
   "source": [
    "> **Your turn!** \n",
    "- Create a function that plots the decision boundary for a classifier with a specified `max_depth`. Note that the decision boundary gets more complex as you increase `max_depth`. That should make us fear overfitting...\n",
    "- Compute the decision boundary for a different pair of features. That is, not (`glucose`, `bmi`), but something else."
   ]
  },
  {
   "cell_type": "markdown",
   "metadata": {},
   "source": [
    "## Gini and information gain"
   ]
  },
  {
   "cell_type": "markdown",
   "metadata": {},
   "source": [
    "By organizing the training data in a binary tree, decision trees learn the relationship between the training data and the corresponding labels. Each leaf in the tree makes a specific prediction. Each internal node compares a single feature value against a single threshold and places instances in their corresponding child nodes. \n",
    "\n",
    "Training a decision tree is done recursively, roughly as follows (we'll study training more carefully below): \n",
    "\n",
    "* The goal is to obtain leaves that are as pure as possible, with the maximum amount of samples in the leaves belonging to the same class.\n",
    "* Starting at the root node, the data is split into two parts based on the feature that has the largest **information gain**. \n",
    "* This is repeated for each child of the node and so on, iteratively.\n"
   ]
  },
  {
   "cell_type": "markdown",
   "metadata": {},
   "source": [
    "To achieve this, we need a measure of information gain, and we also need it to tell us when a node is pure."
   ]
  },
  {
   "cell_type": "markdown",
   "metadata": {},
   "source": [
    "**Gini impurity** is one such measure:\n",
    "\n",
    "$$G_i = 1 - \\sum_{k=1}^n p_{i,k}^2 $$\n",
    "\n",
    "Here $p_{i,k}$ is the proportion of the samples that belong to class $k$ for the node $i$. "
   ]
  },
  {
   "cell_type": "markdown",
   "metadata": {},
   "source": [
    "We note that:\n",
    "- If the node is **pure**, that is, all the samples belong to a single class, then $G_i$ = 0. \n",
    "- If a node has many samples belonging to each of many classes, then $G_i$ gets closer to 1. Very impure.\n",
    "- The **information gain** of a node can be computed as the Gini impurity at the node minus the sum of the Gini impurity of its children weighted by their sizes relative to the parent node. "
   ]
  },
  {
   "cell_type": "markdown",
   "metadata": {},
   "source": [
    "Let's try out the formula for the tree we found above:"
   ]
  },
  {
   "cell_type": "code",
   "execution_count": null,
   "metadata": {},
   "outputs": [],
   "source": [
    "if colab:\n",
    "    img = cv2.imread(\"decision_tree_diabetes.png\", cv2.IMREAD_UNCHANGED)\n",
    "    cv2_imshow(img)"
   ]
  },
  {
   "cell_type": "code",
   "execution_count": null,
   "metadata": {},
   "outputs": [],
   "source": [
    "if not colab:\n",
    "    display(Image(\"https://github.com/alu042/DAT158-2022/raw/main/notebooks/assets/decision_tree_diabetes.png\", width='90%'))"
   ]
  },
  {
   "cell_type": "markdown",
   "metadata": {},
   "source": [
    "At the left child of the root node there are 397 samples, 316 belonging to not diabetes, 81 to diabetes. \n",
    "\n",
    "The formula for $G$ gives:\n",
    "\n",
    "$$G_i = 1 - \\left(\\left(\\frac{316}{397}\\right)^2 + \\left(\\frac{81}{397}\\right)^2\\right),$$\n",
    "which is"
   ]
  },
  {
   "cell_type": "code",
   "execution_count": null,
   "metadata": {},
   "outputs": [],
   "source": [
    "1 - ((316/397)**2 + (81/397)**2)"
   ]
  },
  {
   "cell_type": "markdown",
   "metadata": {},
   "source": [
    "...which corresponds to what scikit-learn found for this tree."
   ]
  },
  {
   "cell_type": "markdown",
   "metadata": {},
   "source": [
    "The information gain at this node with respect to the feature BMI is the Gini impurity at the node minus the Gini impurities of its children, weighted by their relative sizes:\n",
    "\n",
    "$$0.325 - \\bigg(\\left(\\frac{101}{397}\\right)\\cdot 0.058 + \\left(\\frac{296}{397}\\right)\\cdot 0.388\\bigg)$$"
   ]
  },
  {
   "cell_type": "markdown",
   "metadata": {},
   "source": [
    "which is"
   ]
  },
  {
   "cell_type": "code",
   "execution_count": null,
   "metadata": {},
   "outputs": [],
   "source": [
    "0.325-((101/397) * 0.058 + (296/397) * 0.388)"
   ]
  },
  {
   "cell_type": "markdown",
   "metadata": {},
   "source": [
    "We can read this as: \n",
    "> \"if we split the node on the feature BMI, then the information gained is 0.021\". \n",
    "\n",
    "We want to split nodes in a way that gives very high information gain because that would mean very pure children. This leads us to how decision trees are trained, which we'll study more closely below."
   ]
  },
  {
   "cell_type": "markdown",
   "metadata": {},
   "source": [
    "> **Your turn!** Calculate the Gini impurity for the second node in the bottom row (the second leaf)."
   ]
  },
  {
   "cell_type": "markdown",
   "metadata": {},
   "source": [
    "## Estimating class probabilities"
   ]
  },
  {
   "cell_type": "markdown",
   "metadata": {},
   "source": [
    "As we discussed when studying logistic regression, having models output predictions *and* estimated probabilities is very useful in practice. We want models that can say things like _\"the model predicts that you have diabetes with 74% probability\"_.\n",
    "\n",
    "Decision trees are able to do this.\n",
    "\n",
    "The idea is simple: when an instance is fed to the decision tree, it goes through some path until it ends up at a leaf node. The fraction of each class associated with that leaf is a probability, and we can interpret it as the probability of belonging to each class.\n",
    "\n",
    "For example, looking at our above tree again, "
   ]
  },
  {
   "cell_type": "code",
   "execution_count": null,
   "metadata": {},
   "outputs": [],
   "source": [
    "if colab:\n",
    "    img = cv2.imread(\"decision_tree_diabetes.png\", cv2.IMREAD_UNCHANGED)\n",
    "    cv2_imshow(img)"
   ]
  },
  {
   "cell_type": "code",
   "execution_count": null,
   "metadata": {},
   "outputs": [],
   "source": [
    "if not colab:\n",
    "    display(Image(\"https://github.com/alu042/DAT158-2022/raw/main/notebooks/assets/decision_tree_diabetes.png\", width='90%'))"
   ]
  },
  {
   "cell_type": "markdown",
   "metadata": {},
   "source": [
    "an instance with glucose level 100 and BMI 35 ends up in the second leaf node. There are 218 not diabetes and 78 diabetes training instances in that node, and the model will spit out the probabilities\n",
    "\n",
    "$$218/296 = 0.736, \\qquad 78/296 = 0.264$$\n",
    "\n",
    "for not diabetes and diabetes."
   ]
  },
  {
   "cell_type": "markdown",
   "metadata": {},
   "source": [
    "Let's try it out:"
   ]
  },
  {
   "cell_type": "code",
   "execution_count": null,
   "metadata": {},
   "outputs": [],
   "source": [
    "test_sample = [100, 35]"
   ]
  },
  {
   "cell_type": "markdown",
   "metadata": {},
   "source": [
    "We use `predict_proba` to get the probabilities:"
   ]
  },
  {
   "cell_type": "code",
   "execution_count": null,
   "metadata": {},
   "outputs": [],
   "source": [
    "tree_clf.predict_proba([test_sample,])"
   ]
  },
  {
   "cell_type": "markdown",
   "metadata": {},
   "source": [
    "This seems nice, but it gets less nice once you realise that this method would produce the exact same probabilities for an instance whose glucose is 20 and BMI is 10..."
   ]
  },
  {
   "cell_type": "code",
   "execution_count": null,
   "metadata": {},
   "outputs": [],
   "source": [
    "tree_clf.predict_proba([[20, 28],])"
   ]
  },
  {
   "cell_type": "markdown",
   "metadata": {},
   "source": [
    "> **Your turn!** Calculate the probability for not diabetes for an instance with glucose level 140 and BMI at 25 by hand. Then do the same using scikit-learn."
   ]
  },
  {
   "cell_type": "markdown",
   "metadata": {},
   "source": [
    "# Growing decision trees: The CART algorithm for classification"
   ]
  },
  {
   "cell_type": "markdown",
   "metadata": {},
   "source": [
    "Decision trees are constructed (that is, trained) using an algorithm that depends on information gain. \n",
    "\n",
    "The CART algorithm is one way to grow trees (other alternative algorithms are ID3, C4.5, and C5.0): \n",
    "\n",
    "Starting at the root node, the algorithm searches *greedily* for a feature and a threshold (for example, *glucose* and *glucose less than 132.5*) that gives the **highest information gain** when used to split the data. "
   ]
  },
  {
   "cell_type": "markdown",
   "metadata": {},
   "source": [
    "<img width=60% src=\"https://github.com/alu042/DAT158-2022/raw/main/notebooks/assets/information_gain_georgia.PNG\"><br><center><small>Image from Georgia Tech</small></center>"
   ]
  },
  {
   "cell_type": "markdown",
   "metadata": {},
   "source": [
    "Once it has split the training data in two at the root, it continues in the same way on each of the two subsets. "
   ]
  },
  {
   "cell_type": "markdown",
   "metadata": {},
   "source": [
    "## Cost function"
   ]
  },
  {
   "cell_type": "markdown",
   "metadata": {},
   "source": [
    "If we write $f$ for feature and $t_k$ for threshold, the cost function that CART tries to minimize is **the node impurity**:\n",
    "\n",
    "$$J(f, t_k) = \\frac{m_{\\mbox{left}}}{m} G_{\\mbox{left}} + \\frac{m_{\\mbox{right}}}{m} G_{\\mbox{right}}, $$\n",
    "\n",
    "where $m$ is the total number of samples in the node and $m_{\\mbox{left}}$, $m_{\\mbox{right}}$ the number of samples in the left and right child. "
   ]
  },
  {
   "cell_type": "markdown",
   "metadata": {},
   "source": [
    "The algorithm stops once it reaches the `max_depth` or if it's impossible to find more splits that reduce the impurity. Or when another stopping criterium, for example a minimum number of samples allowed in the nodes, is reached. "
   ]
  },
  {
   "cell_type": "markdown",
   "metadata": {},
   "source": [
    "# Regularization: preventing overfitting"
   ]
  },
  {
   "cell_type": "markdown",
   "metadata": {},
   "source": [
    "If you put no constraints on the decision trees, they will very quickly produce very complex decision boundaries, which leads to overfitting. In fact, if you let the trees grow until all the leaves are *pure*, i.e., consisting of data points that are all of the same class, then the decision tree will be 100% accurate on the training set. That's typically not good..."
   ]
  },
  {
   "cell_type": "markdown",
   "metadata": {},
   "source": [
    "Let's see this in action on our data set:"
   ]
  },
  {
   "cell_type": "markdown",
   "metadata": {},
   "source": [
    "## Overfitting the diabetes data set"
   ]
  },
  {
   "cell_type": "code",
   "execution_count": null,
   "metadata": {},
   "outputs": [],
   "source": [
    "f, axes = plt.subplots(3,2, figsize=(12,12))\n",
    "max_depths = [2, 3, 4, 5, 6, 7]\n",
    "\n",
    "for i, ax in enumerate(axes.flat):\n",
    "    tree_clf = DecisionTreeClassifier(max_depth=max_depths[i])\n",
    "    tree_clf.fit(X_train, y_train)\n",
    "    _ = plot_decision_boundary(tree_clf, X_train, y_train, ax=ax)\n",
    "    ax.set_title(f'Max depth {max_depths[i]}')\n",
    "    plt.tight_layout(pad=0.5)"
   ]
  },
  {
   "cell_type": "markdown",
   "metadata": {},
   "source": [
    "We see that already with `max_depth` set to 4, the decision tree seems to be overfitting pretty badly. This gets even worse if you have more complicated data sets. "
   ]
  },
  {
   "cell_type": "markdown",
   "metadata": {},
   "source": [
    "> **Question for you:** How would you go about finding a good setting for `max_depth`?"
   ]
  },
  {
   "cell_type": "markdown",
   "metadata": {},
   "source": [
    "## Regularization: controlling the complexity"
   ]
  },
  {
   "cell_type": "markdown",
   "metadata": {},
   "source": [
    "Restricting models can be used to reduce their variance and, therefore, their tendency to overfit. This is called **regularization**."
   ]
  },
  {
   "cell_type": "markdown",
   "metadata": {},
   "source": [
    "In decision trees, the following parameters can be used for regularization:\n",
    "\n",
    "- **`Max_depth`:** As we saw above, by reducing the maximum depth a decision tree is allowed to have, one can simplify the decision boundary and therefore prevent overfitting. Decrease to regularize.\n",
    "- **`min_samples_split`**: This parameter controls the minimum number of samples a node can have to be allowed to split. Increase to regularize.\n",
    "- **`min_samples_leaf`**: The minimum number of samples a leaf must contain. Increase to regularize.\n",
    "- **`max_features`**: The maximum number of features that are evaluated when deciding whether to split each node. Decrease to regularize.\n",
    "- **`max_leaf_nodes`**: The maximum number of leaf nodes. Decrease to regularize.\n",
    "- **`min_impurity_decrease`**: Split nodes if the split results in a decrease of the impurity greater than or equal to this value. Increase to regularize.\n",
    "- **`min_impurity_split`**: Split a node if its impurity is above this threshold. Otherwise, it's a leaf. Decrease to regularize."
   ]
  },
  {
   "cell_type": "markdown",
   "metadata": {},
   "source": [
    "We can play around with some of these parameters on a data set:"
   ]
  },
  {
   "cell_type": "code",
   "execution_count": null,
   "metadata": {},
   "outputs": [],
   "source": [
    "from sklearn.datasets import make_moons # A simple toy data set\n",
    "Xm, ym = make_moons(n_samples=100, noise=0.25, random_state=42)"
   ]
  },
  {
   "cell_type": "code",
   "execution_count": null,
   "metadata": {},
   "outputs": [],
   "source": [
    "tree_clf_noreg = DecisionTreeClassifier()\n",
    "tree_clf_noreg.fit(Xm, ym)\n",
    "\n",
    "tree_clf_reg = DecisionTreeClassifier(max_depth=2) # Try out different settings here\n",
    "tree_clf_reg.fit(Xm, ym)"
   ]
  },
  {
   "cell_type": "code",
   "execution_count": null,
   "metadata": {},
   "outputs": [],
   "source": [
    "_ = plot_decision_boundary(tree_clf_noreg, Xm, ym)"
   ]
  },
  {
   "cell_type": "code",
   "execution_count": null,
   "metadata": {},
   "outputs": [],
   "source": [
    "_ = plot_decision_boundary(tree_clf_reg, Xm, ym)"
   ]
  },
  {
   "cell_type": "markdown",
   "metadata": {},
   "source": [
    "Let's make it interactive:"
   ]
  },
  {
   "cell_type": "code",
   "execution_count": null,
   "metadata": {},
   "outputs": [],
   "source": [
    "from ipywidgets import interactive, FloatSlider, IntSlider"
   ]
  },
  {
   "cell_type": "code",
   "execution_count": null,
   "metadata": {},
   "outputs": [],
   "source": [
    "def make_decision_tree(max_depth, min_samples_leaf):\n",
    "    tree_clf = DecisionTreeClassifier(max_depth=max_depth,                                      \n",
    "                                        min_samples_leaf=min_samples_leaf,\n",
    "                                     )\n",
    "    \n",
    "    tree_clf.fit(Xm, ym)\n",
    "    \n",
    "    _ = plot_decision_boundary(tree_clf, Xm, ym)\n",
    "    \n",
    "    plt.show()"
   ]
  },
  {
   "cell_type": "code",
   "execution_count": null,
   "metadata": {},
   "outputs": [],
   "source": [
    "interactive_plot = interactive(make_decision_tree, \n",
    "                               max_depth = IntSlider(min=1, max=15, step=1, value=2),\n",
    "                               min_samples_leaf=IntSlider(min=1, max=15, value=None)\n",
    "                              )\n",
    "output = interactive_plot.children[-1]\n",
    "interactive_plot"
   ]
  },
  {
   "cell_type": "markdown",
   "metadata": {},
   "source": [
    "> Feel free to play around also with other parameter settings."
   ]
  },
  {
   "cell_type": "markdown",
   "metadata": {},
   "source": [
    "> In practice, it's typically enough to use *one* of `max_depth`, `max_leaf_nodes` or `min_samples_leaf` to prevent overfitting. "
   ]
  },
  {
   "cell_type": "markdown",
   "metadata": {},
   "source": [
    "# Decision trees for regression"
   ]
  },
  {
   "cell_type": "markdown",
   "metadata": {},
   "source": [
    "Decision trees can also be used for regression, in a similar way as for classification. The idea is to use mean squared error (MSE) to measure the impurity of the nodes, and make splits based on MSE. "
   ]
  },
  {
   "cell_type": "markdown",
   "metadata": {},
   "source": [
    "Let's try it out on the California Housing Dataset built into scikit-learn:"
   ]
  },
  {
   "cell_type": "code",
   "execution_count": null,
   "metadata": {},
   "outputs": [],
   "source": [
    "from sklearn.tree import DecisionTreeRegressor"
   ]
  },
  {
   "cell_type": "code",
   "execution_count": null,
   "metadata": {},
   "outputs": [],
   "source": [
    "from sklearn.datasets import fetch_california_housing"
   ]
  },
  {
   "cell_type": "code",
   "execution_count": null,
   "metadata": {},
   "outputs": [],
   "source": [
    "housing = fetch_california_housing(as_frame=True)"
   ]
  },
  {
   "cell_type": "code",
   "execution_count": null,
   "metadata": {},
   "outputs": [],
   "source": [
    "print(housing.DESCR)"
   ]
  },
  {
   "cell_type": "code",
   "execution_count": null,
   "metadata": {},
   "outputs": [],
   "source": [
    "housing.keys()"
   ]
  },
  {
   "cell_type": "code",
   "execution_count": null,
   "metadata": {},
   "outputs": [],
   "source": [
    "X = housing.data\n",
    "y = housing.target"
   ]
  },
  {
   "cell_type": "code",
   "execution_count": null,
   "metadata": {},
   "outputs": [],
   "source": [
    "X_train, X_test, y_train, y_test = train_test_split(X, y, random_state=42)"
   ]
  },
  {
   "cell_type": "code",
   "execution_count": null,
   "metadata": {},
   "outputs": [],
   "source": [
    "tree_reg = DecisionTreeRegressor(max_depth=3, random_state=42)"
   ]
  },
  {
   "cell_type": "code",
   "execution_count": null,
   "metadata": {},
   "outputs": [],
   "source": [
    "tree_reg.fit(X_train, y_train)"
   ]
  },
  {
   "cell_type": "markdown",
   "metadata": {},
   "source": [
    "**Plotting the tree:**"
   ]
  },
  {
   "cell_type": "code",
   "execution_count": null,
   "metadata": {},
   "outputs": [],
   "source": [
    "graph = Source(export_graphviz(tree_reg, out_file=None, feature_names=X.columns, \n",
    "                               filled = True, rounded=True))"
   ]
  },
  {
   "cell_type": "code",
   "execution_count": null,
   "metadata": {},
   "outputs": [],
   "source": [
    "# The following requires graphviz on your computer\n",
    "display(SVG(graph.pipe(format='svg')))"
   ]
  },
  {
   "cell_type": "markdown",
   "metadata": {},
   "source": [
    "*Run the below cell if you couldn't get the above plot to work:*"
   ]
  },
  {
   "cell_type": "code",
   "execution_count": null,
   "metadata": {},
   "outputs": [],
   "source": [
    "if colab:\n",
    "    import cv2\n",
    "    from google.colab.patches import cv2_imshow\n",
    "    !wget https://raw.githubusercontent.com/alu042/DAT158-2022/master/notebooks/assets/decision_tree_housing.png\n",
    "    img = cv2.imread(\"decision_tree_housing.png\", cv2.IMREAD_UNCHANGED)\n",
    "    cv2_imshow(img)"
   ]
  },
  {
   "cell_type": "code",
   "execution_count": null,
   "metadata": {},
   "outputs": [],
   "source": [
    "if not colab:\n",
    "    display(Image(\"https://raw.githubusercontent.com/alu042/DAT158-2022/master/notebooks/assets/decision_tree_housing.png\", width='90%'))"
   ]
  },
  {
   "cell_type": "markdown",
   "metadata": {},
   "source": [
    "When decision trees are used for regression, the nodes are split by minimizing the *mean square error* (MSE) instead of the Gini impurity:"
   ]
  },
  {
   "cell_type": "markdown",
   "metadata": {},
   "source": [
    "$$\\mbox{MSE}(\\mbox{node}) = \\frac{1}{m_{\\mbox{node}}} \\sum_{i \\in \\mbox{node}} \\big(y^{(i)} - \\hat{y}_{\\mbox{node}}\\big)^2,$$\n",
    "\n",
    "where $\\hat{y}_{\\mbox{node}}$ is the mean target value: $$\\hat{y}_{\\mbox{node}} = \\frac{1}{N_{\\mbox{node}}} \\sum_{i \\in \\mbox{node}} y^{(i)}.$$"
   ]
  },
  {
   "cell_type": "markdown",
   "metadata": {},
   "source": [
    "The cost function becomes:\n",
    "\n",
    "$$J(f, t_k) = \\frac{m_{\\mbox{left}}}{m} \\mbox{MSE}_{\\mbox{left}} + \\frac{m_{\\mbox{right}}}{m} \\mbox{MSE}_{\\mbox{right}}$$"
   ]
  },
  {
   "cell_type": "markdown",
   "metadata": {},
   "source": [
    "> The tree tries to find splits that results in leafs whose target values are on average as close as possible to the mean value of the labels in each leaf."
   ]
  },
  {
   "cell_type": "markdown",
   "metadata": {},
   "source": [
    "Let's check how well the model performs by computing the mean square error on the test set:"
   ]
  },
  {
   "cell_type": "code",
   "execution_count": null,
   "metadata": {},
   "outputs": [],
   "source": [
    "from sklearn.metrics import mean_squared_error, mean_absolute_error"
   ]
  },
  {
   "cell_type": "code",
   "execution_count": null,
   "metadata": {},
   "outputs": [],
   "source": [
    "y_pred = tree_reg.predict(X_test)"
   ]
  },
  {
   "cell_type": "code",
   "execution_count": null,
   "metadata": {},
   "outputs": [],
   "source": [
    "mean_squared_error(y_test, y_pred)"
   ]
  },
  {
   "cell_type": "code",
   "execution_count": null,
   "metadata": {},
   "outputs": [],
   "source": [
    "mean_absolute_error(y_test, y_pred)"
   ]
  },
  {
   "cell_type": "markdown",
   "metadata": {},
   "source": [
    "### Feature importances"
   ]
  },
  {
   "cell_type": "markdown",
   "metadata": {},
   "source": [
    "A nice thing about decision trees is that we can easily figure out which features were most important in its predicitions:"
   ]
  },
  {
   "cell_type": "code",
   "execution_count": null,
   "metadata": {},
   "outputs": [],
   "source": [
    "tree_reg.feature_importances_"
   ]
  },
  {
   "cell_type": "code",
   "execution_count": null,
   "metadata": {},
   "outputs": [],
   "source": [
    "importances = tree_reg.feature_importances_\n",
    "indices = np.argsort(importances)[::-1]\n",
    "for f in range(len(indices)):\n",
    "    print(f'{housing[\"feature_names\"][indices[f]]}: {np.round(importances[indices[f]], 2)}')"
   ]
  },
  {
   "cell_type": "code",
   "execution_count": null,
   "metadata": {},
   "outputs": [],
   "source": [
    "f, ax = plt.subplots(figsize=(12,8))\n",
    "plt.barh(X_train.columns[indices], np.round(importances[indices],2))\n",
    "plt.xlabel(\"Relative importance\")\n",
    "plt.show()"
   ]
  },
  {
   "cell_type": "markdown",
   "metadata": {},
   "source": [
    "**WARNING:** The importance of the different features can be quite random. That a feature is low in importance for this tree doesn't necessarily mean that it's an uninformative feature! The decision tree just didn't pick that feature. Either because it found that another feature in the data set encoded the same information better. Which could happen by chance, since decision trees are quite unstable..."
   ]
  },
  {
   "cell_type": "markdown",
   "metadata": {},
   "source": [
    "> How are the feature importances calculated? It's the normalized impurity decrease caused by each feature. See the <a href=\"http://scikit-learn.org/stable/modules/generated/sklearn.tree.DecisionTreeClassifier.html#sklearn.tree.DecisionTreeClassifier.feature_importances_\">documentation</a>."
   ]
  },
  {
   "cell_type": "markdown",
   "metadata": {},
   "source": [
    "**What is a better way to find the importance of features?** We'll look at this question later in the Module."
   ]
  },
  {
   "cell_type": "markdown",
   "metadata": {},
   "source": [
    "# Instability. The downsides of using decision trees.."
   ]
  },
  {
   "cell_type": "markdown",
   "metadata": {},
   "source": [
    "As you've realized by now, decision trees are great machine learning models in many ways. They are \n",
    "- easy to use (they work for any combination of categorical and continuous features, without the need for scaling or other pre-processing), \n",
    "- easily interpretable (explaining why a decision tree made a decision is simply a matter of retracing the steps taken by the data through the tree. The possibility of computing feature importances is also super handy for interpretability.), \n",
    "- and can easily fit the training data. "
   ]
  },
  {
   "cell_type": "markdown",
   "metadata": {},
   "source": [
    "However, they have some significant downsides. We've seen that they tend to overfit heavily if not regularized. They are also susceptible to slight variations in the training data.\n",
    "\n",
    "We can see this in action: by changing the random state in our split of diabetes into train and test, we obtain different trees. Unfortunately, this also influences the feature importances, making them less useful in practice."
   ]
  },
  {
   "cell_type": "code",
   "execution_count": null,
   "metadata": {},
   "outputs": [],
   "source": [
    "data = diabetes[['glucose', 'bmi', 'diabetes']]\n",
    "X=data[['glucose', 'bmi']]\n",
    "y=data['diabetes']"
   ]
  },
  {
   "cell_type": "code",
   "execution_count": null,
   "metadata": {},
   "outputs": [],
   "source": [
    "def visualize_tree(seed=42):\n",
    "    \"\"\"\n",
    "    Trains a tree on the diabetes data set and plots it using graphviz.\n",
    "    \"\"\"\n",
    "    \n",
    "    X_train, X_test, y_train, y_test = train_test_split(X, y, stratify=y, random_state=seed) # Note the seed\n",
    "    \n",
    "    tree_clf = DecisionTreeClassifier(max_depth=2, random_state=1)\n",
    "    \n",
    "    tree_clf.fit(X_train, y_train)\n",
    "    \n",
    "    graph = Source(export_graphviz(tree_clf, out_file=None, feature_names=X.columns, \n",
    "                               class_names=['not diabetes','diabetes'], filled = True, rounded=True))\n",
    "    \n",
    "    \n",
    "    display(SVG(graph.pipe(format='svg')))\n",
    "    \n",
    "    glucose_importance, bmi_importance = tree_clf.feature_importances_\n",
    "    print(f'Feature importances: Glucose: {glucose_importance}, BMI: {bmi_importance}')"
   ]
  },
  {
   "cell_type": "markdown",
   "metadata": {},
   "source": [
    "*If the below plots don't work, run the cell below them*"
   ]
  },
  {
   "cell_type": "code",
   "execution_count": null,
   "metadata": {},
   "outputs": [],
   "source": [
    "visualize_tree(1)"
   ]
  },
  {
   "cell_type": "code",
   "execution_count": null,
   "metadata": {},
   "outputs": [],
   "source": [
    "visualize_tree(2)"
   ]
  },
  {
   "cell_type": "code",
   "execution_count": null,
   "metadata": {},
   "outputs": [],
   "source": [
    "visualize_tree(3)"
   ]
  },
  {
   "cell_type": "markdown",
   "metadata": {},
   "source": [
    "If the above plots didn't work, run the below cells:"
   ]
  },
  {
   "cell_type": "code",
   "execution_count": null,
   "metadata": {},
   "outputs": [],
   "source": [
    "if colab:\n",
    "    import cv2\n",
    "    from google.colab.patches import cv2_imshow\n",
    "    !wget https://raw.githubusercontent.com/alu042/DAT158-2022/master/notebooks/assets/decision_tree_diabetes_1.png\n",
    "    !wget https://raw.githubusercontent.com/alu042/DAT158-2022/master/notebooks/assets/decision_tree_diabetes_2.png\n",
    "    !wget https://raw.githubusercontent.com/alu042/DAT158-2022/master/notebooks/assets/decision_tree_diabetes_3.png\n",
    "    img = cv2.imread(\"decision_tree_diabetes_1.png\", cv2.IMREAD_UNCHANGED)\n",
    "    cv2_imshow(img)\n",
    "    img = cv2.imread(\"decision_tree_diabetes_2.png\", cv2.IMREAD_UNCHANGED)\n",
    "    cv2_imshow(img)\n",
    "    img = cv2.imread(\"decision_tree_diabetes_3.png\", cv2.IMREAD_UNCHANGED)\n",
    "    cv2_imshow(img)"
   ]
  },
  {
   "cell_type": "code",
   "execution_count": null,
   "metadata": {},
   "outputs": [],
   "source": [
    "#display(Image(\"https://raw.githubusercontent.com/alu042/DAT158-2022/master/notebooks/assets/decision_tree_diabetes_1.png\", width='90%'))"
   ]
  },
  {
   "cell_type": "code",
   "execution_count": null,
   "metadata": {},
   "outputs": [],
   "source": [
    "#display(Image(\"https://raw.githubusercontent.com/alu042/DAT158-2022/master/notebooks/assets/decision_tree_diabetes_2.png\", width='90%'))"
   ]
  },
  {
   "cell_type": "code",
   "execution_count": null,
   "metadata": {},
   "outputs": [],
   "source": [
    "#display(Image(\"https://raw.githubusercontent.com/alu042/DAT158-2022/master/notebooks/assets/decision_tree_diabetes_3.png\", width='90%'))"
   ]
  },
  {
   "cell_type": "markdown",
   "metadata": {},
   "source": [
    "To combat these limitations while retaining as many of the nice aspects of decision trees as possible, one usually *ensembles* multiple decision trees into a single model. We'll discuss one way to do this, called **random forests**, in the next notebook. "
   ]
  },
  {
   "cell_type": "markdown",
   "metadata": {},
   "source": [
    "# Extra"
   ]
  },
  {
   "cell_type": "markdown",
   "metadata": {},
   "source": [
    "> **Your turn!**\n",
    "- Train a decision tree classifier on the breast cancer wisconsin dataset (`sklearn.datasets.load_breast_cancer`), with `max-depth` set to 3 or 4.\n",
    "- Make a training, validation and test set to figure out which one seems better, `max_depth` 3 or 4?\n",
    "- Test your choice on the test set. You should get an accuracy of about 95%\n",
    "- Plot the decision tree.\n",
    "- Plot the decision boundaries for different pairs of features.\n",
    "- Use `tree_clf.feature_importances_` to find which features were most important for the classification when using all the features."
   ]
  },
  {
   "cell_type": "markdown",
   "metadata": {},
   "source": [
    "You should find a tree similar to: "
   ]
  },
  {
   "cell_type": "code",
   "execution_count": null,
   "metadata": {},
   "outputs": [],
   "source": [
    "if colab:\n",
    "    import cv2\n",
    "    from google.colab.patches import cv2_imshow\n",
    "    !wget https://raw.githubusercontent.com/alu042/DAT158-2022/master/notebooks/assets/decision_tree_cancer.png\n",
    "    img = cv2.imread(\"decision_tree_cancer.png\", cv2.IMREAD_UNCHANGED)\n",
    "    cv2_imshow(img)"
   ]
  },
  {
   "cell_type": "code",
   "execution_count": null,
   "metadata": {},
   "outputs": [],
   "source": [
    "if not colab:\n",
    "    display(Image(\"https://raw.githubusercontent.com/alu042/DAT158-2022/master/notebooks/assets/decision_tree_cancer.png\", width='90%'))"
   ]
  },
  {
   "cell_type": "markdown",
   "metadata": {},
   "source": [
    "**Extra resources:**\n",
    "> Scikit-learns documentation for decision trees is very useful. You should have a look: http://scikit-learn.org/stable/modules/tree.html.\n",
    "\n",
    "> `dtreeeviz` is a nice library for visualizing decision trees: http://explained.ai/decision-tree-viz"
   ]
  }
 ],
 "metadata": {
  "kernelspec": {
   "display_name": "Python 3 (ipykernel)",
   "language": "python",
   "name": "python3"
  },
  "language_info": {
   "codemirror_mode": {
    "name": "ipython",
    "version": 3
   },
   "file_extension": ".py",
   "mimetype": "text/x-python",
   "name": "python",
   "nbconvert_exporter": "python",
   "pygments_lexer": "ipython3",
   "version": "3.10.12"
  },
  "toc": {
   "base_numbering": 1,
   "nav_menu": {},
   "number_sections": true,
   "sideBar": true,
   "skip_h1_title": false,
   "title_cell": "Table of Contents",
   "title_sidebar": "Contents",
   "toc_cell": false,
   "toc_position": {},
   "toc_section_display": true,
   "toc_window_display": false
  },
  "widgets": {
   "application/vnd.jupyter.widget-state+json": {
    "state": {
     "001a5e429547410db08f5911086b9cbf": {
      "model_module": "@jupyter-widgets/base",
      "model_module_version": "1.2.0",
      "model_name": "LayoutModel",
      "state": {}
     },
     "00499f3f1bf641ab8c5240ccadc5eada": {
      "model_module": "@jupyter-widgets/controls",
      "model_module_version": "1.5.0",
      "model_name": "IntSliderModel",
      "state": {
       "description": "min_samples_split",
       "layout": "IPY_MODEL_af74f1344b0c408982b4088ad38ac093",
       "max": 6,
       "min": -2,
       "style": "IPY_MODEL_fe1d3a54dd584fc181b12ea1a516eaca",
       "value": 2
      }
     },
     "00c5e79ecbfb432ca0387b9aedd6770e": {
      "model_module": "@jupyter-widgets/controls",
      "model_module_version": "1.5.0",
      "model_name": "IntSliderModel",
      "state": {
       "description": "max_features",
       "layout": "IPY_MODEL_dc77f92af8c54beca1d57557ac7162d7",
       "max": 6,
       "min": -2,
       "style": "IPY_MODEL_835548b6acc14962958da4ef7938de82",
       "value": 2
      }
     },
     "02125d99014f4810b1dec136297cb8f6": {
      "model_module": "@jupyter-widgets/controls",
      "model_module_version": "1.5.0",
      "model_name": "SliderStyleModel",
      "state": {
       "description_width": ""
      }
     },
     "02a7433e182b442d9a870a3adecea39a": {
      "model_module": "@jupyter-widgets/controls",
      "model_module_version": "1.5.0",
      "model_name": "VBoxModel",
      "state": {
       "_dom_classes": [
        "widget-interact"
       ],
       "children": [
        "IPY_MODEL_d1295795d05c4766823566aba670bf7f",
        "IPY_MODEL_9b99f9c651fe4375bbcce2dde01c55ad",
        "IPY_MODEL_ffa27f21b251422ba2a7d52156eef7cb",
        "IPY_MODEL_226b5a44940040a986c523e5b64fb4ad",
        "IPY_MODEL_d8865d1b492b4984b26997b436edfa53",
        "IPY_MODEL_a9591e794c72489d937f18cc2e93dc3b"
       ],
       "layout": "IPY_MODEL_d217fcdf6b0342cdbfc9a83662a45ef6"
      }
     },
     "030fe2cd8ac149f88684d7781fd54a87": {
      "model_module": "@jupyter-widgets/base",
      "model_module_version": "1.2.0",
      "model_name": "LayoutModel",
      "state": {}
     },
     "0450ae171c11432f8d7658e31f907c36": {
      "model_module": "@jupyter-widgets/controls",
      "model_module_version": "1.5.0",
      "model_name": "SliderStyleModel",
      "state": {
       "description_width": ""
      }
     },
     "04642341e6454c3faf68d79659d79af6": {
      "model_module": "@jupyter-widgets/controls",
      "model_module_version": "1.5.0",
      "model_name": "VBoxModel",
      "state": {
       "_dom_classes": [
        "widget-interact"
       ],
       "children": [
        "IPY_MODEL_2df89960357342bbaf1aa1878dc727a9",
        "IPY_MODEL_d7d00d8715ed43cc80a52631d12f5240",
        "IPY_MODEL_301b648f8360468094c3bcafc45c8547",
        "IPY_MODEL_e102530a42294fd3a5aef94b773579d0",
        "IPY_MODEL_44b10cb9197f46298fed96bfbbbf9f56",
        "IPY_MODEL_848c386dd21141a380e7dcae2bab399a"
       ],
       "layout": "IPY_MODEL_aa4c2f581ee34718add590013131f9d3"
      }
     },
     "0585e20e72274650bf476874de48eba8": {
      "model_module": "@jupyter-widgets/controls",
      "model_module_version": "1.5.0",
      "model_name": "IntSliderModel",
      "state": {
       "layout": "IPY_MODEL_71dafc78daf543d09b367ffa41815516",
       "max": 15,
       "min": 1,
       "style": "IPY_MODEL_23af7338b4864027a0957145bbf12efc",
       "value": 2
      }
     },
     "069be848139b428bad2e356e6a3fcef4": {
      "model_module": "@jupyter-widgets/controls",
      "model_module_version": "1.5.0",
      "model_name": "IntSliderModel",
      "state": {
       "description": "max_depth",
       "layout": "IPY_MODEL_fadd3b5d708242688958e3049b391973",
       "max": 15,
       "min": 1,
       "style": "IPY_MODEL_32681e785ed54777a91c7afa4c335149",
       "value": 2
      }
     },
     "07666a75ee154ffab9e00cc4ab2ea839": {
      "model_module": "@jupyter-widgets/controls",
      "model_module_version": "1.5.0",
      "model_name": "SliderStyleModel",
      "state": {
       "description_width": ""
      }
     },
     "076de42836f14e19b78adb826991bece": {
      "model_module": "@jupyter-widgets/base",
      "model_module_version": "1.2.0",
      "model_name": "LayoutModel",
      "state": {}
     },
     "07d153bbcdb642389b661fe1d407cc7d": {
      "model_module": "@jupyter-widgets/controls",
      "model_module_version": "1.5.0",
      "model_name": "IntSliderModel",
      "state": {
       "description": "max_leaf_nodes",
       "layout": "IPY_MODEL_6c31fed64d254e338e077de0f747e7c3",
       "max": 10,
       "min": 2,
       "style": "IPY_MODEL_34b02d0d75794e75929def7d46db13ea",
       "value": 7
      }
     },
     "08d1b5e6ec614f6a8b7605a2b86a4a2a": {
      "model_module": "@jupyter-widgets/base",
      "model_module_version": "1.2.0",
      "model_name": "LayoutModel",
      "state": {}
     },
     "08f0815012be40cda78f3aebc9de3b8e": {
      "model_module": "@jupyter-widgets/base",
      "model_module_version": "1.2.0",
      "model_name": "LayoutModel",
      "state": {}
     },
     "097cba9db9814602a60bb2ff7e6a34f0": {
      "model_module": "@jupyter-widgets/controls",
      "model_module_version": "1.5.0",
      "model_name": "SliderStyleModel",
      "state": {
       "description_width": ""
      }
     },
     "0a126419a4724a7f8b0256ac2548a84a": {
      "model_module": "@jupyter-widgets/base",
      "model_module_version": "1.2.0",
      "model_name": "LayoutModel",
      "state": {}
     },
     "0a1894c6500c416e948d0317702560f6": {
      "model_module": "@jupyter-widgets/base",
      "model_module_version": "1.2.0",
      "model_name": "LayoutModel",
      "state": {}
     },
     "0a70ae27a7014cd6854d07c2f7b39765": {
      "model_module": "@jupyter-widgets/controls",
      "model_module_version": "1.5.0",
      "model_name": "SliderStyleModel",
      "state": {
       "description_width": ""
      }
     },
     "0afa39324b7b4e5296691ce85c1df499": {
      "model_module": "@jupyter-widgets/base",
      "model_module_version": "1.2.0",
      "model_name": "LayoutModel",
      "state": {}
     },
     "0b3eee76d9e041b7a05b50a325c3be29": {
      "model_module": "@jupyter-widgets/controls",
      "model_module_version": "1.5.0",
      "model_name": "IntSliderModel",
      "state": {
       "description": "min_samples_leaf",
       "layout": "IPY_MODEL_58630f5e85784ab0a22a1decb2456559",
       "max": 15,
       "min": 1,
       "style": "IPY_MODEL_1d542473e73b488e91e354f094f8f351",
       "value": 1
      }
     },
     "0b47998656f44146a419c16598f24bb8": {
      "model_module": "@jupyter-widgets/controls",
      "model_module_version": "1.5.0",
      "model_name": "IntSliderModel",
      "state": {
       "description": "max_depth",
       "layout": "IPY_MODEL_b28fe899d3894cb3bee3dad04fc2d80e",
       "max": 15,
       "min": 1,
       "style": "IPY_MODEL_78e63ec9031749328ec873143b3e7909",
       "value": 10
      }
     },
     "0b60bcf6eba24f8cacab027a836a30ef": {
      "model_module": "@jupyter-widgets/controls",
      "model_module_version": "1.5.0",
      "model_name": "IntSliderModel",
      "state": {
       "description": "min_samples_leaf",
       "layout": "IPY_MODEL_c0ff78afc7a4424d9d11612c7f9548fe",
       "max": 3,
       "min": -1,
       "style": "IPY_MODEL_c6bd4dbbb8a345349e5d67d0f0af0d2d",
       "value": 1
      }
     },
     "0c891032cf4645e7af343789f20640cc": {
      "model_module": "@jupyter-widgets/controls",
      "model_module_version": "1.5.0",
      "model_name": "SliderStyleModel",
      "state": {
       "description_width": ""
      }
     },
     "0cc535069a08427d92508f643bc01969": {
      "model_module": "@jupyter-widgets/controls",
      "model_module_version": "1.5.0",
      "model_name": "SliderStyleModel",
      "state": {
       "description_width": ""
      }
     },
     "0dcabe16ba9343b592aa0d959062d3a5": {
      "model_module": "@jupyter-widgets/controls",
      "model_module_version": "1.5.0",
      "model_name": "IntSliderModel",
      "state": {
       "description": "max_depth",
       "layout": "IPY_MODEL_68fd5cf584bc4e79b2bac3e963f39e9d",
       "max": 15,
       "min": 1,
       "style": "IPY_MODEL_feeedf8b871b466d86f470542f5544cb",
       "value": 2
      }
     },
     "0e661de4e6414cd580c8115cc4f1a8a5": {
      "model_module": "@jupyter-widgets/base",
      "model_module_version": "1.2.0",
      "model_name": "LayoutModel",
      "state": {}
     },
     "0ebdac99a23e4ce2bc7b49488052c6d4": {
      "model_module": "@jupyter-widgets/controls",
      "model_module_version": "1.5.0",
      "model_name": "IntSliderModel",
      "state": {
       "description": "max_features",
       "layout": "IPY_MODEL_c3fce4d613ef416b8c3e62c6a6d21d60",
       "max": 6,
       "min": -2,
       "style": "IPY_MODEL_a77baea9dd234bc0b57bdbc362189a6d",
       "value": 2
      }
     },
     "0f3b6786341041f2a1d8b956d7835ba5": {
      "model_module": "@jupyter-widgets/base",
      "model_module_version": "1.2.0",
      "model_name": "LayoutModel",
      "state": {}
     },
     "110f1199d30d4809be1df484b24c0514": {
      "model_module": "@jupyter-widgets/controls",
      "model_module_version": "1.5.0",
      "model_name": "SliderStyleModel",
      "state": {
       "description_width": ""
      }
     },
     "11355969f86948d989e60889caa3296e": {
      "model_module": "@jupyter-widgets/controls",
      "model_module_version": "1.5.0",
      "model_name": "IntSliderModel",
      "state": {
       "description": "max_depth",
       "layout": "IPY_MODEL_f7071a36f2de4084adc543487f7604b6",
       "max": 15,
       "min": 1,
       "style": "IPY_MODEL_98b0171c3d284cc9beaf42fe3ad78e23",
       "value": 2
      }
     },
     "115aedeef8c544cd90c56247cf8e47f3": {
      "model_module": "@jupyter-widgets/base",
      "model_module_version": "1.2.0",
      "model_name": "LayoutModel",
      "state": {}
     },
     "122246056751474a9095a96c41025cf9": {
      "model_module": "@jupyter-widgets/base",
      "model_module_version": "1.2.0",
      "model_name": "LayoutModel",
      "state": {}
     },
     "12d62dbf61ac4b15987d17077a82f959": {
      "model_module": "@jupyter-widgets/controls",
      "model_module_version": "1.5.0",
      "model_name": "IntSliderModel",
      "state": {
       "description": "max_depth",
       "layout": "IPY_MODEL_92153846561143acb4187033c5eddc6d",
       "max": 15,
       "min": 1,
       "style": "IPY_MODEL_61540133fe4c419d94a6d595051eec70",
       "value": 2
      }
     },
     "136ad18bb06d4011a702bda9080dae9a": {
      "model_module": "@jupyter-widgets/controls",
      "model_module_version": "1.5.0",
      "model_name": "SliderStyleModel",
      "state": {
       "description_width": ""
      }
     },
     "140e40489d004abc9768984063ccf0ca": {
      "model_module": "@jupyter-widgets/controls",
      "model_module_version": "1.5.0",
      "model_name": "SliderStyleModel",
      "state": {
       "description_width": ""
      }
     },
     "149835b470a9453a9c0fd693cceee517": {
      "model_module": "@jupyter-widgets/base",
      "model_module_version": "1.2.0",
      "model_name": "LayoutModel",
      "state": {}
     },
     "14dad52b121448d4872cfa4db30a2d79": {
      "model_module": "@jupyter-widgets/controls",
      "model_module_version": "1.5.0",
      "model_name": "VBoxModel",
      "state": {
       "_dom_classes": [
        "widget-interact"
       ],
       "layout": "IPY_MODEL_c7961d435b1e41639a56a7b86f75ffce"
      }
     },
     "14e4cab16ca14cfb92030753dcd090af": {
      "model_module": "@jupyter-widgets/controls",
      "model_module_version": "1.5.0",
      "model_name": "VBoxModel",
      "state": {
       "_dom_classes": [
        "widget-interact"
       ],
       "layout": "IPY_MODEL_115aedeef8c544cd90c56247cf8e47f3"
      }
     },
     "15a814f45a3c47ed8b5928eac52e5851": {
      "model_module": "@jupyter-widgets/controls",
      "model_module_version": "1.5.0",
      "model_name": "SliderStyleModel",
      "state": {
       "description_width": ""
      }
     },
     "15b425b55b874122829eaba2a4b4888d": {
      "model_module": "@jupyter-widgets/output",
      "model_module_version": "1.0.0",
      "model_name": "OutputModel",
      "state": {
       "layout": "IPY_MODEL_18a396502d6046e19c6000a40ee7e198",
       "outputs": [
        {
         "data": {
          "image/png": "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\n",
          "text/plain": "<Figure size 720x432 with 1 Axes>"
         },
         "metadata": {
          "needs_background": "light"
         },
         "output_type": "display_data"
        }
       ]
      }
     },
     "16bb067978174286897c4f153fc5422a": {
      "model_module": "@jupyter-widgets/base",
      "model_module_version": "1.2.0",
      "model_name": "LayoutModel",
      "state": {}
     },
     "16d03eabed4741a79d842ce341a553b2": {
      "model_module": "@jupyter-widgets/base",
      "model_module_version": "1.2.0",
      "model_name": "LayoutModel",
      "state": {}
     },
     "17118d9908a54d0e88200750cdcb3b61": {
      "model_module": "@jupyter-widgets/base",
      "model_module_version": "1.2.0",
      "model_name": "LayoutModel",
      "state": {}
     },
     "172b01c6ee5247e9ad64ace7052bd62e": {
      "model_module": "@jupyter-widgets/controls",
      "model_module_version": "1.5.0",
      "model_name": "SliderStyleModel",
      "state": {
       "description_width": ""
      }
     },
     "17d3e872bffc4749b1077898f35b15fe": {
      "model_module": "@jupyter-widgets/base",
      "model_module_version": "1.2.0",
      "model_name": "LayoutModel",
      "state": {}
     },
     "17db16f26b2c4d299e6f8e73744c19ea": {
      "model_module": "@jupyter-widgets/base",
      "model_module_version": "1.2.0",
      "model_name": "LayoutModel",
      "state": {}
     },
     "1801f99294ca4778a299b721fc58f1fb": {
      "model_module": "@jupyter-widgets/controls",
      "model_module_version": "1.5.0",
      "model_name": "SliderStyleModel",
      "state": {
       "description_width": ""
      }
     },
     "18a396502d6046e19c6000a40ee7e198": {
      "model_module": "@jupyter-widgets/base",
      "model_module_version": "1.2.0",
      "model_name": "LayoutModel",
      "state": {}
     },
     "19c1ba76cd98421c88776fde46699fe1": {
      "model_module": "@jupyter-widgets/base",
      "model_module_version": "1.2.0",
      "model_name": "LayoutModel",
      "state": {}
     },
     "1a29be7276084024843acbfeed4a2bac": {
      "model_module": "@jupyter-widgets/controls",
      "model_module_version": "1.5.0",
      "model_name": "SliderStyleModel",
      "state": {
       "description_width": ""
      }
     },
     "1baeccd604054ed386254d4585bb0203": {
      "model_module": "@jupyter-widgets/base",
      "model_module_version": "1.2.0",
      "model_name": "LayoutModel",
      "state": {}
     },
     "1c5a7d308b594c339b62ff5482f9c257": {
      "model_module": "@jupyter-widgets/controls",
      "model_module_version": "1.5.0",
      "model_name": "IntSliderModel",
      "state": {
       "description": "min_samples_split",
       "layout": "IPY_MODEL_834d9ab9cbec457d9a9d2fa9ae17badc",
       "max": 6,
       "min": -2,
       "style": "IPY_MODEL_1801f99294ca4778a299b721fc58f1fb",
       "value": 6
      }
     },
     "1cb71e90be7949dcabba9280e0e61e7f": {
      "model_module": "@jupyter-widgets/base",
      "model_module_version": "1.2.0",
      "model_name": "LayoutModel",
      "state": {}
     },
     "1d542473e73b488e91e354f094f8f351": {
      "model_module": "@jupyter-widgets/controls",
      "model_module_version": "1.5.0",
      "model_name": "SliderStyleModel",
      "state": {
       "description_width": ""
      }
     },
     "1f6e2fb76cae479f8bf19d24e1670f3d": {
      "model_module": "@jupyter-widgets/base",
      "model_module_version": "1.2.0",
      "model_name": "LayoutModel",
      "state": {}
     },
     "1ff62d5d30d148758c99a9e3b1170826": {
      "model_module": "@jupyter-widgets/controls",
      "model_module_version": "1.5.0",
      "model_name": "IntSliderModel",
      "state": {
       "description": "max_depth",
       "layout": "IPY_MODEL_59b0bf6d551a4dd3b342543348943a02",
       "max": 15,
       "min": 1,
       "style": "IPY_MODEL_efe18b51b798424b95d6a6b2c8f23a09",
       "value": 12
      }
     },
     "20f669d44f834be6894c18682b700bf9": {
      "model_module": "@jupyter-widgets/base",
      "model_module_version": "1.2.0",
      "model_name": "LayoutModel",
      "state": {}
     },
     "21cb754e877e4e0ba1be865eaf49bd28": {
      "model_module": "@jupyter-widgets/base",
      "model_module_version": "1.2.0",
      "model_name": "LayoutModel",
      "state": {}
     },
     "21e0f9748e634eea9117aae224cb0a80": {
      "model_module": "@jupyter-widgets/base",
      "model_module_version": "1.2.0",
      "model_name": "LayoutModel",
      "state": {}
     },
     "226b5a44940040a986c523e5b64fb4ad": {
      "model_module": "@jupyter-widgets/controls",
      "model_module_version": "1.5.0",
      "model_name": "IntSliderModel",
      "state": {
       "description": "max_features",
       "layout": "IPY_MODEL_a6ea90210a7a4021916b51c5dd9be628",
       "max": 6,
       "min": -2,
       "style": "IPY_MODEL_a6d8994648e0434385a1aa68dd89eaf3",
       "value": 2
      }
     },
     "22f17009d1ec40a8af05288f428aef21": {
      "model_module": "@jupyter-widgets/controls",
      "model_module_version": "1.5.0",
      "model_name": "IntSliderModel",
      "state": {
       "description": "max_features",
       "layout": "IPY_MODEL_a44afab4780e4638b39d726faf04ed9d",
       "max": 6,
       "min": -2,
       "style": "IPY_MODEL_8fb5f25c4a234feba4125dd3766335be",
       "value": 2
      }
     },
     "2382be5157284b0f9a8bfad6637fc7d9": {
      "model_module": "@jupyter-widgets/controls",
      "model_module_version": "1.5.0",
      "model_name": "FloatSliderModel",
      "state": {
       "description": "min_samples_split",
       "layout": "IPY_MODEL_c0631d3fe8d5435491ecf92b9ed82718",
       "max": 1,
       "min": 0.001,
       "step": 0.1,
       "style": "IPY_MODEL_73c22cd6b9584de8a01e7c9e935ded3b",
       "value": 0.001
      }
     },
     "23af7338b4864027a0957145bbf12efc": {
      "model_module": "@jupyter-widgets/controls",
      "model_module_version": "1.5.0",
      "model_name": "SliderStyleModel",
      "state": {
       "description_width": ""
      }
     },
     "241b64fea460495db928fdb365e5af77": {
      "model_module": "@jupyter-widgets/controls",
      "model_module_version": "1.5.0",
      "model_name": "SliderStyleModel",
      "state": {
       "description_width": ""
      }
     },
     "252f85dae1174a9a80a5646a169e7535": {
      "model_module": "@jupyter-widgets/base",
      "model_module_version": "1.2.0",
      "model_name": "LayoutModel",
      "state": {}
     },
     "258632679d5648c19e6fb65b04d0eee1": {
      "model_module": "@jupyter-widgets/base",
      "model_module_version": "1.2.0",
      "model_name": "LayoutModel",
      "state": {}
     },
     "2662e6e7b590427fbe021d921ed24990": {
      "model_module": "@jupyter-widgets/base",
      "model_module_version": "1.2.0",
      "model_name": "LayoutModel",
      "state": {}
     },
     "26f4373e297546a7bf47331f9932b43d": {
      "model_module": "@jupyter-widgets/controls",
      "model_module_version": "1.5.0",
      "model_name": "VBoxModel",
      "state": {
       "_dom_classes": [
        "widget-interact"
       ],
       "children": [
        "IPY_MODEL_0b47998656f44146a419c16598f24bb8",
        "IPY_MODEL_3c7d50eedf98494fb0c45f4855c7553a",
        "IPY_MODEL_f89c923a6b0c47598fed6cc8d77f8c71"
       ],
       "layout": "IPY_MODEL_dbfff37535ff4ff8a37819d91558e8ee"
      }
     },
     "27e87c5f263745b99bd7017d36690cf7": {
      "model_module": "@jupyter-widgets/controls",
      "model_module_version": "1.5.0",
      "model_name": "SliderStyleModel",
      "state": {
       "description_width": ""
      }
     },
     "283f98b470874a97b32e78b5b435187d": {
      "model_module": "@jupyter-widgets/base",
      "model_module_version": "1.2.0",
      "model_name": "LayoutModel",
      "state": {}
     },
     "295d0a75d30b48cbb3414b2200aa9e47": {
      "model_module": "@jupyter-widgets/controls",
      "model_module_version": "1.5.0",
      "model_name": "IntSliderModel",
      "state": {
       "description": "min_samples_split",
       "layout": "IPY_MODEL_ddf230e6430a4c2584a1150a628ad817",
       "max": 6,
       "min": -2,
       "style": "IPY_MODEL_1a29be7276084024843acbfeed4a2bac",
       "value": 2
      }
     },
     "2a9e9fb478484bf3a4c653dbeb6573ef": {
      "model_module": "@jupyter-widgets/base",
      "model_module_version": "1.2.0",
      "model_name": "LayoutModel",
      "state": {}
     },
     "2ba1791fb6db44fc9fc7899504453dd8": {
      "model_module": "@jupyter-widgets/controls",
      "model_module_version": "1.5.0",
      "model_name": "VBoxModel",
      "state": {
       "_dom_classes": [
        "widget-interact"
       ],
       "layout": "IPY_MODEL_8be5c4365e6d4e4ca3d4d8f72241af94"
      }
     },
     "2bfa3936b64a44d98d8d8b36d980e498": {
      "model_module": "@jupyter-widgets/controls",
      "model_module_version": "1.5.0",
      "model_name": "IntSliderModel",
      "state": {
       "description": "max_depth",
       "layout": "IPY_MODEL_e03f7f742f0b42589cf80d68861fd75f",
       "max": 15,
       "min": 1,
       "style": "IPY_MODEL_cad39c6ccb2f438f8f4fa4b556f777c3",
       "value": 2
      }
     },
     "2d5f567045e0471ba803a9b15b21ccda": {
      "model_module": "@jupyter-widgets/controls",
      "model_module_version": "1.5.0",
      "model_name": "SliderStyleModel",
      "state": {
       "description_width": ""
      }
     },
     "2df89960357342bbaf1aa1878dc727a9": {
      "model_module": "@jupyter-widgets/controls",
      "model_module_version": "1.5.0",
      "model_name": "IntSliderModel",
      "state": {
       "description": "max_depth",
       "layout": "IPY_MODEL_68eb5e6bafc5450f99e05fe783e5dacc",
       "max": 15,
       "min": 1,
       "style": "IPY_MODEL_db6f43c079d14573b792e2ea67963af7",
       "value": 2
      }
     },
     "2e46915db9024fc0afa113b3c59fb0bd": {
      "model_module": "@jupyter-widgets/controls",
      "model_module_version": "1.5.0",
      "model_name": "IntSliderModel",
      "state": {
       "description": "max_depth",
       "layout": "IPY_MODEL_bdc3b6a7fbdf4897bf3ee87d5aa9050e",
       "max": 15,
       "min": 1,
       "style": "IPY_MODEL_4162db7eef2d4d01a8706e109f27f7c6",
       "value": 2
      }
     },
     "2f106e08ffc24c199721d25cbbdac474": {
      "model_module": "@jupyter-widgets/controls",
      "model_module_version": "1.5.0",
      "model_name": "IntSliderModel",
      "state": {
       "description": "max_leaf_nodes",
       "layout": "IPY_MODEL_9a981e793154461b985b5f419a4540c2",
       "max": 6,
       "min": -2,
       "style": "IPY_MODEL_c8738f62799b4280a0f74b3f5717f558",
       "value": 2
      }
     },
     "301b648f8360468094c3bcafc45c8547": {
      "model_module": "@jupyter-widgets/controls",
      "model_module_version": "1.5.0",
      "model_name": "IntSliderModel",
      "state": {
       "description": "min_samples_leaf",
       "layout": "IPY_MODEL_c0dd4b09bb84405cb90d283ec045829e",
       "max": 6,
       "min": -2,
       "style": "IPY_MODEL_b95057442fc64fc39205c8391f33fae4",
       "value": 2
      }
     },
     "30edc2c7361d43bdb8bef95f06caa186": {
      "model_module": "@jupyter-widgets/controls",
      "model_module_version": "1.5.0",
      "model_name": "IntSliderModel",
      "state": {
       "description": "max_leaf_nodes",
       "layout": "IPY_MODEL_9277de8925bb446ca63dd73c9068b835",
       "max": 10,
       "min": 2,
       "style": "IPY_MODEL_b77f7d2017dd4ae5a8ba379c76da692d",
       "value": 10
      }
     },
     "31a21bf9772e436286a9002025d96896": {
      "model_module": "@jupyter-widgets/controls",
      "model_module_version": "1.5.0",
      "model_name": "VBoxModel",
      "state": {
       "_dom_classes": [
        "widget-interact"
       ],
       "children": [
        "IPY_MODEL_fcd46e400a65430bb90998c6291ac8cc",
        "IPY_MODEL_0b3eee76d9e041b7a05b50a325c3be29",
        "IPY_MODEL_7798f0556b4440fdbdf889c32977c997"
       ],
       "layout": "IPY_MODEL_954b90ffd72a45c3bac5de03ebece621"
      }
     },
     "31a974597c074c1c97db534c726eae30": {
      "model_module": "@jupyter-widgets/controls",
      "model_module_version": "1.5.0",
      "model_name": "SliderStyleModel",
      "state": {
       "description_width": ""
      }
     },
     "32022b70235f4c29a22ef7bce712166a": {
      "model_module": "@jupyter-widgets/controls",
      "model_module_version": "1.5.0",
      "model_name": "SliderStyleModel",
      "state": {
       "description_width": ""
      }
     },
     "32681e785ed54777a91c7afa4c335149": {
      "model_module": "@jupyter-widgets/controls",
      "model_module_version": "1.5.0",
      "model_name": "SliderStyleModel",
      "state": {
       "description_width": ""
      }
     },
     "32aab1dba1c644e8a6ebb55b1a4106f0": {
      "model_module": "@jupyter-widgets/controls",
      "model_module_version": "1.5.0",
      "model_name": "VBoxModel",
      "state": {
       "_dom_classes": [
        "widget-interact"
       ],
       "children": [
        "IPY_MODEL_1ff62d5d30d148758c99a9e3b1170826",
        "IPY_MODEL_875333c7e40549e58b43b2a1c1d5d316",
        "IPY_MODEL_3d3fd3c9673d47618de657db194d58db",
        "IPY_MODEL_6d3847a4ebc144468a6ba7d0f126fc5d",
        "IPY_MODEL_30edc2c7361d43bdb8bef95f06caa186",
        "IPY_MODEL_c245f18f19ee4829954164a2561b4182"
       ],
       "layout": "IPY_MODEL_b3f4054457f54b729bfb6f25f33bd25f"
      }
     },
     "3321123d87be4d72b313ad350eab2bdf": {
      "model_module": "@jupyter-widgets/base",
      "model_module_version": "1.2.0",
      "model_name": "LayoutModel",
      "state": {}
     },
     "332202437b344b6f877a1ad1dd6b7cb1": {
      "model_module": "@jupyter-widgets/controls",
      "model_module_version": "1.5.0",
      "model_name": "IntSliderModel",
      "state": {
       "description": "max_features",
       "layout": "IPY_MODEL_bea9fe06b4b44307bd184ccf0678cbf2",
       "max": 2,
       "min": 1,
       "style": "IPY_MODEL_a1b9af80f25d42528f818ed5e93fb7c5",
       "value": 2
      }
     },
     "34b02d0d75794e75929def7d46db13ea": {
      "model_module": "@jupyter-widgets/controls",
      "model_module_version": "1.5.0",
      "model_name": "SliderStyleModel",
      "state": {
       "description_width": ""
      }
     },
     "361a6503a663441bbf9ad042d9500c65": {
      "model_module": "@jupyter-widgets/base",
      "model_module_version": "1.2.0",
      "model_name": "LayoutModel",
      "state": {}
     },
     "363f81e2a5ba408eac2dae19576da226": {
      "model_module": "@jupyter-widgets/controls",
      "model_module_version": "1.5.0",
      "model_name": "VBoxModel",
      "state": {
       "_dom_classes": [
        "widget-interact"
       ],
       "layout": "IPY_MODEL_17db16f26b2c4d299e6f8e73744c19ea"
      }
     },
     "3640a50c0b7e466aa95b60bb3c869f76": {
      "model_module": "@jupyter-widgets/base",
      "model_module_version": "1.2.0",
      "model_name": "LayoutModel",
      "state": {}
     },
     "38af3c5f5dc84fc9978a6e5b35d267c0": {
      "model_module": "@jupyter-widgets/controls",
      "model_module_version": "1.5.0",
      "model_name": "VBoxModel",
      "state": {
       "_dom_classes": [
        "widget-interact"
       ],
       "children": [
        "IPY_MODEL_892ae611fcf44716b3b4095ab7a68a80",
        "IPY_MODEL_fe5bde64a3f84e4eb280508e43aab2d8",
        "IPY_MODEL_3f5a2a60053240f898db09509d47fdac"
       ],
       "layout": "IPY_MODEL_50a65836c8a34d80939e767379627c10"
      }
     },
     "391d0e8c12c64f7cba7aa5a433fd7224": {
      "model_module": "@jupyter-widgets/base",
      "model_module_version": "1.2.0",
      "model_name": "LayoutModel",
      "state": {}
     },
     "399e98c489e146b79c427c00bad8a093": {
      "model_module": "@jupyter-widgets/controls",
      "model_module_version": "1.5.0",
      "model_name": "SliderStyleModel",
      "state": {
       "description_width": ""
      }
     },
     "39c57fe66048499aabd325be6a441c3e": {
      "model_module": "@jupyter-widgets/output",
      "model_module_version": "1.0.0",
      "model_name": "OutputModel",
      "state": {
       "layout": "IPY_MODEL_549578e53c6f4715b4855d5eb6a7bd11",
       "outputs": [
        {
         "ename": "ValueError",
         "evalue": "min_samples_leaf must be at least 1 or in (0, 0.5], got 0.901",
         "output_type": "error",
         "traceback": [
          "\u001b[0;31m----------------------------------------------------------------\u001b[0m",
          "\u001b[0;31mValueError\u001b[0m                     Traceback (most recent call last)",
          "\u001b[0;32m~/anaconda3/envs/dat158/lib/python3.6/site-packages/ipywidgets/widgets/interaction.py\u001b[0m in \u001b[0;36mupdate\u001b[0;34m(self, *args)\u001b[0m\n\u001b[1;32m    249\u001b[0m                     \u001b[0mvalue\u001b[0m \u001b[0;34m=\u001b[0m \u001b[0mwidget\u001b[0m\u001b[0;34m.\u001b[0m\u001b[0mget_interact_value\u001b[0m\u001b[0;34m(\u001b[0m\u001b[0;34m)\u001b[0m\u001b[0;34m\u001b[0m\u001b[0m\n\u001b[1;32m    250\u001b[0m                     \u001b[0mself\u001b[0m\u001b[0;34m.\u001b[0m\u001b[0mkwargs\u001b[0m\u001b[0;34m[\u001b[0m\u001b[0mwidget\u001b[0m\u001b[0;34m.\u001b[0m\u001b[0m_kwarg\u001b[0m\u001b[0;34m]\u001b[0m \u001b[0;34m=\u001b[0m \u001b[0mvalue\u001b[0m\u001b[0;34m\u001b[0m\u001b[0m\n\u001b[0;32m--> 251\u001b[0;31m                 \u001b[0mself\u001b[0m\u001b[0;34m.\u001b[0m\u001b[0mresult\u001b[0m \u001b[0;34m=\u001b[0m \u001b[0mself\u001b[0m\u001b[0;34m.\u001b[0m\u001b[0mf\u001b[0m\u001b[0;34m(\u001b[0m\u001b[0;34m**\u001b[0m\u001b[0mself\u001b[0m\u001b[0;34m.\u001b[0m\u001b[0mkwargs\u001b[0m\u001b[0;34m)\u001b[0m\u001b[0;34m\u001b[0m\u001b[0m\n\u001b[0m\u001b[1;32m    252\u001b[0m                 \u001b[0mshow_inline_matplotlib_plots\u001b[0m\u001b[0;34m(\u001b[0m\u001b[0;34m)\u001b[0m\u001b[0;34m\u001b[0m\u001b[0m\n\u001b[1;32m    253\u001b[0m                 \u001b[0;32mif\u001b[0m \u001b[0mself\u001b[0m\u001b[0;34m.\u001b[0m\u001b[0mauto_display\u001b[0m \u001b[0;32mand\u001b[0m \u001b[0mself\u001b[0m\u001b[0;34m.\u001b[0m\u001b[0mresult\u001b[0m \u001b[0;32mis\u001b[0m \u001b[0;32mnot\u001b[0m \u001b[0;32mNone\u001b[0m\u001b[0;34m:\u001b[0m\u001b[0;34m\u001b[0m\u001b[0m\n",
          "\u001b[0;32m<ipython-input-80-227458d796df>\u001b[0m in \u001b[0;36mmake_decision_tree\u001b[0;34m(max_depth, min_samples_split, min_samples_leaf, max_features, max_leaf_nodes)\u001b[0m\n\u001b[1;32m      8\u001b[0m                                      )\n\u001b[1;32m      9\u001b[0m \u001b[0;34m\u001b[0m\u001b[0m\n\u001b[0;32m---> 10\u001b[0;31m     \u001b[0mtree_clf\u001b[0m\u001b[0;34m.\u001b[0m\u001b[0mfit\u001b[0m\u001b[0;34m(\u001b[0m\u001b[0mXm\u001b[0m\u001b[0;34m,\u001b[0m \u001b[0mym\u001b[0m\u001b[0;34m)\u001b[0m\u001b[0;34m\u001b[0m\u001b[0m\n\u001b[0m\u001b[1;32m     11\u001b[0m \u001b[0;34m\u001b[0m\u001b[0m\n\u001b[1;32m     12\u001b[0m     \u001b[0m_\u001b[0m \u001b[0;34m=\u001b[0m \u001b[0mplot_decision_boundary\u001b[0m\u001b[0;34m(\u001b[0m\u001b[0mtree_clf\u001b[0m\u001b[0;34m,\u001b[0m \u001b[0mXm\u001b[0m\u001b[0;34m,\u001b[0m \u001b[0mym\u001b[0m\u001b[0;34m)\u001b[0m\u001b[0;34m\u001b[0m\u001b[0m\n",
          "\u001b[0;32m~/anaconda3/envs/dat158/lib/python3.6/site-packages/sklearn/tree/tree.py\u001b[0m in \u001b[0;36mfit\u001b[0;34m(self, X, y, sample_weight, check_input, X_idx_sorted)\u001b[0m\n\u001b[1;32m    788\u001b[0m             \u001b[0msample_weight\u001b[0m\u001b[0;34m=\u001b[0m\u001b[0msample_weight\u001b[0m\u001b[0;34m,\u001b[0m\u001b[0;34m\u001b[0m\u001b[0m\n\u001b[1;32m    789\u001b[0m             \u001b[0mcheck_input\u001b[0m\u001b[0;34m=\u001b[0m\u001b[0mcheck_input\u001b[0m\u001b[0;34m,\u001b[0m\u001b[0;34m\u001b[0m\u001b[0m\n\u001b[0;32m--> 790\u001b[0;31m             X_idx_sorted=X_idx_sorted)\n\u001b[0m\u001b[1;32m    791\u001b[0m         \u001b[0;32mreturn\u001b[0m \u001b[0mself\u001b[0m\u001b[0;34m\u001b[0m\u001b[0m\n\u001b[1;32m    792\u001b[0m \u001b[0;34m\u001b[0m\u001b[0m\n",
          "\u001b[0;32m~/anaconda3/envs/dat158/lib/python3.6/site-packages/sklearn/tree/tree.py\u001b[0m in \u001b[0;36mfit\u001b[0;34m(self, X, y, sample_weight, check_input, X_idx_sorted)\u001b[0m\n\u001b[1;32m    184\u001b[0m                 raise ValueError(\"min_samples_leaf must be at least 1 \"\n\u001b[1;32m    185\u001b[0m                                  \u001b[0;34m\"or in (0, 0.5], got %s\"\u001b[0m\u001b[0;34m\u001b[0m\u001b[0m\n\u001b[0;32m--> 186\u001b[0;31m                                  % self.min_samples_leaf)\n\u001b[0m\u001b[1;32m    187\u001b[0m             \u001b[0mmin_samples_leaf\u001b[0m \u001b[0;34m=\u001b[0m \u001b[0mint\u001b[0m\u001b[0;34m(\u001b[0m\u001b[0mceil\u001b[0m\u001b[0;34m(\u001b[0m\u001b[0mself\u001b[0m\u001b[0;34m.\u001b[0m\u001b[0mmin_samples_leaf\u001b[0m \u001b[0;34m*\u001b[0m \u001b[0mn_samples\u001b[0m\u001b[0;34m)\u001b[0m\u001b[0;34m)\u001b[0m\u001b[0;34m\u001b[0m\u001b[0m\n\u001b[1;32m    188\u001b[0m \u001b[0;34m\u001b[0m\u001b[0m\n",
          "\u001b[0;31mValueError\u001b[0m: min_samples_leaf must be at least 1 or in (0, 0.5], got 0.901"
         ]
        }
       ]
      }
     },
     "3b20b51348b64d9ba22b61d23fe28784": {
      "model_module": "@jupyter-widgets/controls",
      "model_module_version": "1.5.0",
      "model_name": "IntSliderModel",
      "state": {
       "description": "min_samples_leaf",
       "layout": "IPY_MODEL_d7d2366422814c7bbf5e7490374a3f53",
       "max": 6,
       "min": -2,
       "style": "IPY_MODEL_f64215dcb2d943f19dbd58d955bf05ef",
       "value": 2
      }
     },
     "3b2e06be945644d1a9c6569219cf1d19": {
      "model_module": "@jupyter-widgets/controls",
      "model_module_version": "1.5.0",
      "model_name": "VBoxModel",
      "state": {
       "_dom_classes": [
        "widget-interact"
       ],
       "children": [
        "IPY_MODEL_12d62dbf61ac4b15987d17077a82f959",
        "IPY_MODEL_61a8921e45a848ba8e485f133951fd80",
        "IPY_MODEL_d59ca45e24ec45698408b45870a7624e"
       ],
       "layout": "IPY_MODEL_bcb9d2dcd0b348f7b4320216db709bae"
      }
     },
     "3be47a158e7841ddb21094d75d96e11d": {
      "model_module": "@jupyter-widgets/controls",
      "model_module_version": "1.5.0",
      "model_name": "IntSliderModel",
      "state": {
       "description": "min_samples_leaf",
       "layout": "IPY_MODEL_954a56973ba34eca8f5946af34b72313",
       "max": 3,
       "min": -1,
       "style": "IPY_MODEL_c6d90fefa98546f99dbed5ffa5c497c7",
       "value": 1
      }
     },
     "3c6cf93545154a11b85594d6b44c6dad": {
      "model_module": "@jupyter-widgets/output",
      "model_module_version": "1.0.0",
      "model_name": "OutputModel",
      "state": {
       "layout": "IPY_MODEL_f8c7d7f6da1b4bd18c7f9a53b49f4773",
       "outputs": [
        {
         "data": {
          "image/png": "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\n",
          "text/plain": "<Figure size 720x432 with 1 Axes>"
         },
         "metadata": {
          "needs_background": "light"
         },
         "output_type": "display_data"
        }
       ]
      }
     },
     "3c7d50eedf98494fb0c45f4855c7553a": {
      "model_module": "@jupyter-widgets/controls",
      "model_module_version": "1.5.0",
      "model_name": "FloatSliderModel",
      "state": {
       "description": "min_samples_leaf",
       "layout": "IPY_MODEL_f41b567b0c5e4528aae983fd4e4b3492",
       "max": 0.5,
       "min": 0.001,
       "step": 0.1,
       "style": "IPY_MODEL_d345f031ec044d96b7f8a8b3f7e6eee5",
       "value": 0.001
      }
     },
     "3d3fd3c9673d47618de657db194d58db": {
      "model_module": "@jupyter-widgets/controls",
      "model_module_version": "1.5.0",
      "model_name": "IntSliderModel",
      "state": {
       "description": "min_samples_leaf",
       "layout": "IPY_MODEL_3321123d87be4d72b313ad350eab2bdf",
       "max": 6,
       "min": -2,
       "style": "IPY_MODEL_51f2230bda464506809d6e562d2d709b",
       "value": 6
      }
     },
     "3de9609d214b46739146977d41626fd9": {
      "model_module": "@jupyter-widgets/base",
      "model_module_version": "1.2.0",
      "model_name": "LayoutModel",
      "state": {}
     },
     "3e8e8e04e3d54090852a967fac175b88": {
      "model_module": "@jupyter-widgets/controls",
      "model_module_version": "1.5.0",
      "model_name": "FloatSliderModel",
      "state": {
       "description": "min_samples_leaf",
       "layout": "IPY_MODEL_52d51b3c9a0b45edbbfdda5590eb382b",
       "max": 0.5,
       "min": 0.001,
       "step": 0.1,
       "style": "IPY_MODEL_76c75e492b33429e85c210506ff1eb03",
       "value": 0.001
      }
     },
     "3f5a2a60053240f898db09509d47fdac": {
      "model_module": "@jupyter-widgets/output",
      "model_module_version": "1.0.0",
      "model_name": "OutputModel",
      "state": {
       "layout": "IPY_MODEL_0e661de4e6414cd580c8115cc4f1a8a5",
       "outputs": [
        {
         "data": {
          "image/png": "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\n",
          "text/plain": "<Figure size 720x432 with 1 Axes>"
         },
         "metadata": {
          "needs_background": "light"
         },
         "output_type": "display_data"
        }
       ]
      }
     },
     "4162db7eef2d4d01a8706e109f27f7c6": {
      "model_module": "@jupyter-widgets/controls",
      "model_module_version": "1.5.0",
      "model_name": "SliderStyleModel",
      "state": {
       "description_width": ""
      }
     },
     "419e6a088cb64cc99dd154bb01f193f8": {
      "model_module": "@jupyter-widgets/base",
      "model_module_version": "1.2.0",
      "model_name": "LayoutModel",
      "state": {}
     },
     "42b0fd19c7b84932b68c2ed07458c4ad": {
      "model_module": "@jupyter-widgets/controls",
      "model_module_version": "1.5.0",
      "model_name": "SliderStyleModel",
      "state": {
       "description_width": ""
      }
     },
     "4386b7dd49d3419aa281d70e0b39b9d1": {
      "model_module": "@jupyter-widgets/controls",
      "model_module_version": "1.5.0",
      "model_name": "VBoxModel",
      "state": {
       "_dom_classes": [
        "widget-interact"
       ],
       "children": [
        "IPY_MODEL_11355969f86948d989e60889caa3296e",
        "IPY_MODEL_72d350f3e88e4befbae17548ca24b538",
        "IPY_MODEL_6a7701bace5445b7ac1a7ab4feb2b0b6"
       ],
       "layout": "IPY_MODEL_bc7f1370638044e19e36689ca2a0515b"
      }
     },
     "4476f8623ef9438495d5fed85c9f74ac": {
      "model_module": "@jupyter-widgets/controls",
      "model_module_version": "1.5.0",
      "model_name": "SliderStyleModel",
      "state": {
       "description_width": ""
      }
     },
     "44b10cb9197f46298fed96bfbbbf9f56": {
      "model_module": "@jupyter-widgets/controls",
      "model_module_version": "1.5.0",
      "model_name": "IntSliderModel",
      "state": {
       "description": "max_leaf_nodes",
       "layout": "IPY_MODEL_c5d5c3f96fe047958de1f5a261c0185b",
       "max": 15,
       "min": 1,
       "style": "IPY_MODEL_ac97f855b8df49ffbe0531b089edf9ff",
       "value": 1
      }
     },
     "47972fc1bb6147dabc9a8dc60b71d1ed": {
      "model_module": "@jupyter-widgets/base",
      "model_module_version": "1.2.0",
      "model_name": "LayoutModel",
      "state": {}
     },
     "47a09522a6f649e9abcc8105a4ec5efb": {
      "model_module": "@jupyter-widgets/controls",
      "model_module_version": "1.5.0",
      "model_name": "SliderStyleModel",
      "state": {
       "description_width": ""
      }
     },
     "4809435da8994388bed05a8973633cb8": {
      "model_module": "@jupyter-widgets/base",
      "model_module_version": "1.2.0",
      "model_name": "LayoutModel",
      "state": {}
     },
     "49bf1c941efe4c8ea3075fc839f21e07": {
      "model_module": "@jupyter-widgets/controls",
      "model_module_version": "1.5.0",
      "model_name": "SliderStyleModel",
      "state": {
       "description_width": ""
      }
     },
     "4a3ea0db9205475382516d020aed12b4": {
      "model_module": "@jupyter-widgets/controls",
      "model_module_version": "1.5.0",
      "model_name": "VBoxModel",
      "state": {
       "_dom_classes": [
        "widget-interact"
       ],
       "children": [
        "IPY_MODEL_0dcabe16ba9343b592aa0d959062d3a5",
        "IPY_MODEL_5c251d9037a645ecb0c0d347e4fe923c",
        "IPY_MODEL_77cedefe4c6a483cade9303d066128b9",
        "IPY_MODEL_22f17009d1ec40a8af05288f428aef21",
        "IPY_MODEL_eb03491d0ed3492698caccdc870b834f",
        "IPY_MODEL_d5c7c3b09a294d6eb60fb751c8f660b0"
       ],
       "layout": "IPY_MODEL_57fe164f1fd84fcdbbf6e0d0ed8f1fa5"
      }
     },
     "4a7205ab2bd34246ad18eaf89e8501cb": {
      "model_module": "@jupyter-widgets/controls",
      "model_module_version": "1.5.0",
      "model_name": "IntSliderModel",
      "state": {
       "description": "min_samples_leaf",
       "layout": "IPY_MODEL_b7493c8c57f147549756d313a7bd9308",
       "max": 15,
       "min": 1,
       "style": "IPY_MODEL_e103516323134fc886c0ef56f0c2154c",
       "value": 1
      }
     },
     "4ab70f8a3cd844d280860645d9fca6ef": {
      "model_module": "@jupyter-widgets/base",
      "model_module_version": "1.2.0",
      "model_name": "LayoutModel",
      "state": {}
     },
     "4b815a529579463eaa55cf8f5d0f9f7c": {
      "model_module": "@jupyter-widgets/base",
      "model_module_version": "1.2.0",
      "model_name": "LayoutModel",
      "state": {}
     },
     "4bc540f8a9934a8c8f86ff8013d7e206": {
      "model_module": "@jupyter-widgets/controls",
      "model_module_version": "1.5.0",
      "model_name": "SliderStyleModel",
      "state": {
       "description_width": ""
      }
     },
     "4e4be808cb1343f3b621670bb899eb3e": {
      "model_module": "@jupyter-widgets/controls",
      "model_module_version": "1.5.0",
      "model_name": "SliderStyleModel",
      "state": {
       "description_width": ""
      }
     },
     "4e62a9e7661d41edab6247f5582525f6": {
      "model_module": "@jupyter-widgets/controls",
      "model_module_version": "1.5.0",
      "model_name": "VBoxModel",
      "state": {
       "_dom_classes": [
        "widget-interact"
       ],
       "children": [
        "IPY_MODEL_d107f98457b64e3584ec1d3a2ec2192e",
        "IPY_MODEL_c2f353656790481fba36c282fbb95ef7",
        "IPY_MODEL_9376cce0a2b045de84d4b0f7da9c8290",
        "IPY_MODEL_8d0c0006df4a426e8903b6ae58e552c2",
        "IPY_MODEL_97de591478404fff941f1f9bbef144c0",
        "IPY_MODEL_39c57fe66048499aabd325be6a441c3e"
       ],
       "layout": "IPY_MODEL_90755a2d75e7406ab49a372f6bcea9ad"
      }
     },
     "4f21bdc728b2400485302dc13aad7625": {
      "model_module": "@jupyter-widgets/controls",
      "model_module_version": "1.5.0",
      "model_name": "IntSliderModel",
      "state": {
       "description": "max_leaf_nodes",
       "layout": "IPY_MODEL_9c61545e065741e595825349aec01e12",
       "max": 6,
       "min": -2,
       "style": "IPY_MODEL_6e17fb956c7a414297a94213851175ec",
       "value": 2
      }
     },
     "4f989bf01bbc4a188fb9e888b642ff6e": {
      "model_module": "@jupyter-widgets/controls",
      "model_module_version": "1.5.0",
      "model_name": "SliderStyleModel",
      "state": {
       "description_width": ""
      }
     },
     "50a65836c8a34d80939e767379627c10": {
      "model_module": "@jupyter-widgets/base",
      "model_module_version": "1.2.0",
      "model_name": "LayoutModel",
      "state": {}
     },
     "50f5d6d591aa464cbc3f26f7c13cb9cb": {
      "model_module": "@jupyter-widgets/base",
      "model_module_version": "1.2.0",
      "model_name": "LayoutModel",
      "state": {}
     },
     "51ac442ad4da40cc8aefb19f9dd7e182": {
      "model_module": "@jupyter-widgets/controls",
      "model_module_version": "1.5.0",
      "model_name": "SliderStyleModel",
      "state": {
       "description_width": ""
      }
     },
     "51c49adedac445a4ab9672425b1ad8b5": {
      "model_module": "@jupyter-widgets/controls",
      "model_module_version": "1.5.0",
      "model_name": "VBoxModel",
      "state": {
       "_dom_classes": [
        "widget-interact"
       ],
       "layout": "IPY_MODEL_5932449f4ed94aad8bc125568950db32"
      }
     },
     "51f2230bda464506809d6e562d2d709b": {
      "model_module": "@jupyter-widgets/controls",
      "model_module_version": "1.5.0",
      "model_name": "SliderStyleModel",
      "state": {
       "description_width": ""
      }
     },
     "5261c6f247764ad4ab8007b168399075": {
      "model_module": "@jupyter-widgets/controls",
      "model_module_version": "1.5.0",
      "model_name": "IntSliderModel",
      "state": {
       "description": "max_leaf_nodes",
       "layout": "IPY_MODEL_a772f8fc1799445ab2a9de32a65cdb1f",
       "max": 15,
       "min": 2,
       "style": "IPY_MODEL_32022b70235f4c29a22ef7bce712166a",
       "value": 2
      }
     },
     "52d51b3c9a0b45edbbfdda5590eb382b": {
      "model_module": "@jupyter-widgets/base",
      "model_module_version": "1.2.0",
      "model_name": "LayoutModel",
      "state": {}
     },
     "549578e53c6f4715b4855d5eb6a7bd11": {
      "model_module": "@jupyter-widgets/base",
      "model_module_version": "1.2.0",
      "model_name": "LayoutModel",
      "state": {}
     },
     "55dc4dfa15e942d4bda57241ae0ce656": {
      "model_module": "@jupyter-widgets/controls",
      "model_module_version": "1.5.0",
      "model_name": "IntSliderModel",
      "state": {
       "description": "min_samples_leaf",
       "layout": "IPY_MODEL_fd6481add39c460380c66ebc1900ab14",
       "max": 3,
       "min": -1,
       "style": "IPY_MODEL_88d5bdf0eb964b5aa6c409ff697b3ea4",
       "value": 1
      }
     },
     "57150e0781ed477e8be15d5f6f2b7bb8": {
      "model_module": "@jupyter-widgets/controls",
      "model_module_version": "1.5.0",
      "model_name": "SliderStyleModel",
      "state": {
       "description_width": ""
      }
     },
     "576edf25f2e64dc699dc1e8174e9c61c": {
      "model_module": "@jupyter-widgets/base",
      "model_module_version": "1.2.0",
      "model_name": "LayoutModel",
      "state": {}
     },
     "579f37688fba4bffaeeec516c372f012": {
      "model_module": "@jupyter-widgets/output",
      "model_module_version": "1.0.0",
      "model_name": "OutputModel",
      "state": {
       "layout": "IPY_MODEL_0a1894c6500c416e948d0317702560f6",
       "outputs": [
        {
         "data": {
          "image/png": "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\n",
          "text/plain": "<Figure size 720x432 with 1 Axes>"
         },
         "metadata": {
          "needs_background": "light"
         },
         "output_type": "display_data"
        }
       ]
      }
     },
     "57fe164f1fd84fcdbbf6e0d0ed8f1fa5": {
      "model_module": "@jupyter-widgets/base",
      "model_module_version": "1.2.0",
      "model_name": "LayoutModel",
      "state": {}
     },
     "58414a9dbffa49eda4c419f32c9a3b60": {
      "model_module": "@jupyter-widgets/controls",
      "model_module_version": "1.5.0",
      "model_name": "IntSliderModel",
      "state": {
       "description": "max_features",
       "layout": "IPY_MODEL_9e5a8114b9c94298b92141d7517ac157",
       "max": 6,
       "min": -2,
       "style": "IPY_MODEL_c58257eaf3014f79b21058bd2c113f11",
       "value": 2
      }
     },
     "58630f5e85784ab0a22a1decb2456559": {
      "model_module": "@jupyter-widgets/base",
      "model_module_version": "1.2.0",
      "model_name": "LayoutModel",
      "state": {}
     },
     "5932449f4ed94aad8bc125568950db32": {
      "model_module": "@jupyter-widgets/base",
      "model_module_version": "1.2.0",
      "model_name": "LayoutModel",
      "state": {}
     },
     "595bab9a83db41af983cde1377c09e48": {
      "model_module": "@jupyter-widgets/controls",
      "model_module_version": "1.5.0",
      "model_name": "VBoxModel",
      "state": {
       "_dom_classes": [
        "widget-interact"
       ],
       "children": [
        "IPY_MODEL_6ae9a34607cf4a0bab6914c9d5c8f2c5",
        "IPY_MODEL_effac79f5ff04ed192dff10880c8101a",
        "IPY_MODEL_dc8250f15d004e3d8298e745b3a29e5c"
       ],
       "layout": "IPY_MODEL_e655c271243f41e48cfa658f31649f98"
      }
     },
     "59b0bf6d551a4dd3b342543348943a02": {
      "model_module": "@jupyter-widgets/base",
      "model_module_version": "1.2.0",
      "model_name": "LayoutModel",
      "state": {}
     },
     "5ae6110367ba4d38b5936cd578532e86": {
      "model_module": "@jupyter-widgets/controls",
      "model_module_version": "1.5.0",
      "model_name": "SliderStyleModel",
      "state": {
       "description_width": ""
      }
     },
     "5c251d9037a645ecb0c0d347e4fe923c": {
      "model_module": "@jupyter-widgets/controls",
      "model_module_version": "1.5.0",
      "model_name": "IntSliderModel",
      "state": {
       "description": "min_samples_split",
       "layout": "IPY_MODEL_f0ac3827982b458faffc0e7e5f482b38",
       "max": 6,
       "min": -2,
       "style": "IPY_MODEL_8feb09bd558b463692078e990df5e2ec",
       "value": 2
      }
     },
     "5c570de3096a4b7e8b2f72ab82b21390": {
      "model_module": "@jupyter-widgets/base",
      "model_module_version": "1.2.0",
      "model_name": "LayoutModel",
      "state": {}
     },
     "5d653100050d48dcbc297318d78ddc83": {
      "model_module": "@jupyter-widgets/controls",
      "model_module_version": "1.5.0",
      "model_name": "VBoxModel",
      "state": {
       "_dom_classes": [
        "widget-interact"
       ],
       "children": [
        "IPY_MODEL_7b8f2b66350b4159863de9fc27ce9801",
        "IPY_MODEL_b190d7738cca46f086c2b85e4b73c47b",
        "IPY_MODEL_eaa0a18f60de4c74accb6b6bac7ad3d6",
        "IPY_MODEL_00c5e79ecbfb432ca0387b9aedd6770e",
        "IPY_MODEL_4f21bdc728b2400485302dc13aad7625",
        "IPY_MODEL_b8edf57d71af48458f5f8264b69fd4c5"
       ],
       "layout": "IPY_MODEL_4ab70f8a3cd844d280860645d9fca6ef"
      }
     },
     "5d6ebb2c913f477aa925000f2b2f9864": {
      "model_module": "@jupyter-widgets/controls",
      "model_module_version": "1.5.0",
      "model_name": "SliderStyleModel",
      "state": {
       "description_width": ""
      }
     },
     "5eb8d084074343e7a1b13b6a8175ce1a": {
      "model_module": "@jupyter-widgets/base",
      "model_module_version": "1.2.0",
      "model_name": "LayoutModel",
      "state": {}
     },
     "61540133fe4c419d94a6d595051eec70": {
      "model_module": "@jupyter-widgets/controls",
      "model_module_version": "1.5.0",
      "model_name": "SliderStyleModel",
      "state": {
       "description_width": ""
      }
     },
     "615429250556414f938aca275fe07f97": {
      "model_module": "@jupyter-widgets/controls",
      "model_module_version": "1.5.0",
      "model_name": "SliderStyleModel",
      "state": {
       "description_width": ""
      }
     },
     "61a8921e45a848ba8e485f133951fd80": {
      "model_module": "@jupyter-widgets/controls",
      "model_module_version": "1.5.0",
      "model_name": "IntSliderModel",
      "state": {
       "description": "min_samples_leaf",
       "layout": "IPY_MODEL_0a126419a4724a7f8b0256ac2548a84a",
       "max": 15,
       "min": 1,
       "style": "IPY_MODEL_eee2d174cd1f48d8979b647a30bacbb6",
       "value": 1
      }
     },
     "624da7c9b91140299cf95451ad79e6cf": {
      "model_module": "@jupyter-widgets/base",
      "model_module_version": "1.2.0",
      "model_name": "LayoutModel",
      "state": {}
     },
     "673e212c974744789a94c93b75f9bb6a": {
      "model_module": "@jupyter-widgets/controls",
      "model_module_version": "1.5.0",
      "model_name": "SliderStyleModel",
      "state": {
       "description_width": ""
      }
     },
     "68626fb5757b4e58a7954c575759fc79": {
      "model_module": "@jupyter-widgets/base",
      "model_module_version": "1.2.0",
      "model_name": "LayoutModel",
      "state": {}
     },
     "686ae37eff994de89f0e350ed54ffe56": {
      "model_module": "@jupyter-widgets/base",
      "model_module_version": "1.2.0",
      "model_name": "LayoutModel",
      "state": {}
     },
     "68eb5e6bafc5450f99e05fe783e5dacc": {
      "model_module": "@jupyter-widgets/base",
      "model_module_version": "1.2.0",
      "model_name": "LayoutModel",
      "state": {}
     },
     "68fd5cf584bc4e79b2bac3e963f39e9d": {
      "model_module": "@jupyter-widgets/base",
      "model_module_version": "1.2.0",
      "model_name": "LayoutModel",
      "state": {}
     },
     "690e90fe99024a3fa07823965e19a8b9": {
      "model_module": "@jupyter-widgets/controls",
      "model_module_version": "1.5.0",
      "model_name": "VBoxModel",
      "state": {
       "_dom_classes": [
        "widget-interact"
       ],
       "layout": "IPY_MODEL_e3e9032d917145b4a654fe651d8c6ca9"
      }
     },
     "697e2335e8814b7b9ac5dfc87e0518db": {
      "model_module": "@jupyter-widgets/controls",
      "model_module_version": "1.5.0",
      "model_name": "IntSliderModel",
      "state": {
       "description": "max_depth",
       "layout": "IPY_MODEL_92f68f9425b64c7fad7d498e9e22f70b",
       "max": 15,
       "min": 1,
       "style": "IPY_MODEL_42b0fd19c7b84932b68c2ed07458c4ad",
       "value": 2
      }
     },
     "69dceb27ee5343a3aea3185fca1d263d": {
      "model_module": "@jupyter-widgets/base",
      "model_module_version": "1.2.0",
      "model_name": "LayoutModel",
      "state": {}
     },
     "6a45a28c96854df2b7bc02065e4aa65a": {
      "model_module": "@jupyter-widgets/base",
      "model_module_version": "1.2.0",
      "model_name": "LayoutModel",
      "state": {}
     },
     "6a7701bace5445b7ac1a7ab4feb2b0b6": {
      "model_module": "@jupyter-widgets/output",
      "model_module_version": "1.0.0",
      "model_name": "OutputModel",
      "state": {
       "layout": "IPY_MODEL_6cc11acb76b64c4dba96a17db09de7d3",
       "outputs": [
        {
         "data": {
          "image/png": "iVBORw0KGgoAAAANSUhEUgAAAl8AAAF1CAYAAADWYI/QAAAABHNCSVQICAgIfAhkiAAAAAlwSFlzAAALEgAACxIB0t1+/AAAADl0RVh0U29mdHdhcmUAbWF0cGxvdGxpYiB2ZXJzaW9uIDMuMC4wLCBodHRwOi8vbWF0cGxvdGxpYi5vcmcvqOYd8AAAIABJREFUeJzt3X+YnGV97/HPdzdhEkKAhCwDkx8swlo17YUlCT/qUTmVWuGyIEFasCqgSKn1VNtSJNViD60H5HBqPdqWYuUIWhG1QeMp1oJog8ey8uOCIlhMgkvYbDL5RQOBMGR3v+ePmQ2zuzOzM5nn9/N+Xddemb3nyTz3s5Psfva+v/f9mLsLAAAA0eiJuwMAAAB5QvgCAACIEOELAAAgQoQvAACACBG+AAAAIkT4AgAAiBDhC0CkzOw7ZnZxG8ftNbNXhXD+ITM7M+jXPYh+/JmZfTnufgCI3qy4OwAgecxsSFJR0qikMUlPSLpN0s3uPt7Na7v7WW0ed1g35wGApGLkC0Azv+Hu8yUdJ+l6SR+V9IV4uwRJMrPeuPsA4OARvgC05O573H2dpN+SdLGZ/aIkmVnBzG40s81mVjazm8xs7sTfM7NzzewRM3vOzDaZ2dtq7T8ws8tqj080s381sz1mttPM7qj7+25mJ9YeH2Fmt5nZDjN72sw+bmY9tecuMbMf1vryrJn93MxmGl1bZWZP1I7/P2Y2p+68HzCzjWa228zWmVmp1t5f69OsumPrr6VlP8zs+Nq1Pm9md0taVN8hM/u6mW2rfS3Wm9nyuue+aGZ/a2Z3mdkLkv6w9jWv78v5ZvbIDNcNIAEIXwDa4u4/ljQs6Y21pk9JerWk10s6UdJiSddIkpmdouo05R9LOlLSmyQNNXjZP5f0L5IWSFoi6bNNTv9ZSUdIepWkN0t6r6RL654/VdKTqgaaGyR9wcysxeX8tqRfl3RC7Ro+Xuv3r0q6TtJvSjpW0tOSvtridaZq1Y+vSHqo9tyfS5pa9/YdSQOSjpb0sKR/mPL8uyR9UtJ8Vb8euyT9Wt3z75b0pQ76CiAmhC8AnRiRtLAWKD4g6Q/cfbe7Py/pf0i6sHbc+yXd4u53u/u4u29x9/9o8Hr7VZ3WLLn7S+7+w6kH1KbYfkvSGnd/3t2HJP0vSe+pO+xpd/+8u49JulXV4FRscR2fc/dn3H23qoHmolr7b9f6/bC7VyStkXS6mfXP9IVp1Q8zWyZplaQ/dfeKu6+X9O36v+jut9SuryLpzySdZGZH1B3yLXf/f7Wv50u113937Wu0UNUw+ZU2+wkgRoQvAJ1YLGm3pD5Jh0p6yMz+08z+U9I/19olaamkTW283lWSTNKPzexxM3tfg2MWSTpE1VGoCU/X+jJh28QDd3+x9rBVwf4zU16rVHtcqj+Pu+9VdYSp/lytNOtHSdKz7v7ClPNKqgZMM7u+Nj37nF4ZJayfmqzvsyR9WdJvmNlhqo7U3efuW9vsJ4AYEb4AtMXMVqkaQn4oaaekfZKWu/uRtY8j6lYoPqPqlF5L7r7N3T/g7iVJvyPpbybqvOrs1CsjZBOWSdrSxeUsnfJaI7XHI/XnMbN5ko6qnWsiOB1a93ePafN8WyUtqL1e/XknvEvSuZLOVHV6tX+iC3XHeP0LuvsWSf8m6TxVRwGZcgRSgvAFoCUzO9zM3q5q7dOX3f2x2nYTn5f0aTM7unbcYjP79dpf+4KkS83sLWbWU3vuNQ1e+wIzW1L79FlVA8ZY/TG1KbyvSfqkmc03s+Mk/aGqIz8H6/fMbEltuu5PJE0U+n+l1u/Xm1lB1anUQXcfcvcdqoawd9dGqt6nNgJm7RqelvSgpP9uZoeY2X+R9Bt1h8yXVFF1lO3Q2nnbcZuqo4e/JOnONv8OgJgRvgA0820ze17VUayPSfpLTS5y/6ikjZLur02V3SPpF6QDxfmXSvq0pD2S/lWTR64mrJI0aGZ7Ja2T9GF3/3mD4/6bqiNPT6k68vYVSbd0cW1fUbXQ/6nax1/U+v09SX8q6R9VHa06Qa/UsUnVOrc/VjUkLZf0ow7O+S5VC/J3S/qEqsFpwm2qTkNuUXVPtfvbfM07Vf263jllShNAgpm7z3wUACCRzGyTpN9x93vi7guA9jDyBQApZWbnqzpVe2/cfQHQPm4vBAApZGY/kPQ6Se/p9pZPAKLFtCMAAECEmHYEAACIEOELAAAgQomt+Vq0aKH39y+d+UAAQCj279+v3bt3yt318suzNDo6SzZnn6xXWnjEQs2ZM2fmFwFy4rGHHtvp7n0zH5ng8NXfv1Q//vF34+4GAOTW9u1bdfvtX9DLL7+kzZuP1u7di2SveUyz543rordfpOWvXh53F4HEWNa77OmZj6pi2hEAACBChC8AAIAIEb4AAAAiRPgCAACIEOELAAAgQoQvAACACBG+AAAAIkT4AgAAiBDhCwAAIEKELwAAgAgFEr7M7BYz225mP2ny/BlmtsfMHql9XBPEeQEAANImqHs7flHS5yTd1uKY+9z97QGdDwAAIJUCGfly9/WSdgfxWgAAAFkWZc3X6Wb2qJl9x8yWNzrAzC43swfN7MEdO3ZF2DUAAIBoRBW+HpZ0nLufJOmzkr7Z6CB3v9ndV7r7yr6+oyLqGgAAQHQiCV/u/py77609vkvSbDNbFMW5gTCVy2s1OLhK69eXNDi4SuXy2ri7BABIuKAK7lsys2Mkld3dzewUVUMf84pItXJ5rTZsuFLj4/skSZXKsDZsuFKSVCyujrNrAIAECyR8mdntks6QtMjMhiV9QtJsSXL3myS9U9LvmtmopH2SLnR3D+LcQFyGhq47ELwmjI/v09DQdYQvAEBTgYQvd79ohuc/p+pWFEBmVCpbOmoHAEBih3vgoBUKiztqBwBAInwBB62/f416euZOauvpmav+/jUx9QgAkAaRFNwDWTRR1zU0dJ0qlS0qFBarv38N9V4AgJYIX0AXisXVhC0AQEeYdgQAAIgQ4QsAACBChC8AAIAIEb4AAAAiRPgCAACIEOELAAAgQoQvAACACBG+AAAAIkT4AgAAiBDhCwAAIEKELwAAgAgRvgAAACJE+AIAAIgQ4QsAACBChC8AAIAIEb4AAAAiRPgCAACIEOELAAAgQoQvAACACBG+AAAAIkT4AgAAiBDhCwAAIEKELwAAgAgRvgAAACJE+AIAAIgQ4QsAACBCs+LuAID4lctrNTR0nSqVLSoUFqu/f42KxdVxdwsAMonwBeRcubxWGzZcqfHxfZKkSmVYGzZcKUkEMAAIAdOOQM4NDV13IHhNGB/fp6Gh62LqEQBkG+ELyLlKZUtH7QCA7hC+gJwrFBZ31A4A6A7hC8i5/v416umZO6mtp2eu+vvXxNQjAMg2Cu6BnJsoqme1IwBEg/AFQMXiasIWAESEaUcAAIAIEb4AAAAiRPgCAACIEOELAAAgQoQvAACACBG+AAAAIkT4AgAAiBDhCwAAIEKELwAAgAixwz2Apsrltdx2CAACRvgC0FC5vFYbNlyp8fF9kqRKZVgbNlwpSQQwAOgC044AGhoauu5A8JowPr5PQ0PXxdQjAMgGwheAhiqVLR21AwDaQ/gC0FChsLijdgBAewhfABpasOAtkmxSW0/PXPX3r4mnQwCQEYQvANOUy2u1ffvXJHldq+noo3+TYnsA6BLhC8A0jYrtJdezz34vlv4AQJaw1QQiE8aeUexDFQ6K7QEgPIQvRCKMPaPYhyo8hcJiVSrDDdsBAN1h2hGRCGPPKPahCk9//xr19Myd1EaxPQAEg5EvRCKMaSymxtpTKvWpXO6d1l4sjmlkZEfDvzMxcsiULgAEL5DwZWa3SHq7pO3u/osNnjdJn5F0tqQXJV3i7g8HcW6kQxjTWEyNtadR8GrVPqFYXE3YAoAQBDXt+EVJb2vx/FmSBmofl0v624DOi5QIYxqLqTFMKJfXanBwldavL2lwcJXK5bVxdwkAmgpk5Mvd15tZf4tDzpV0m7u7pPvN7EgzO9bdtwZxfiRfGNNYTI1BYuEFgPSJquZrsaRn6j4frrVNCl9mdrmqI2Natoypo6wJYxqLqTG0WnjBvw0ASRTVakdr0ObTGtxvdveV7r6yr++oCLoFIO1YeAEgbaIKX8OSltZ9vkTSSETnRpeop0m3YnGso/a04QbgANImqvC1TtJ7reo0SXuo90qHiXqa6qpCP1BPQwBLj5GRHRob2zbto9k2E2nDwgsAaRPUVhO3SzpD0iIzG5b0CUmzJcndb5J0l6rbTGxUdauJS4M4L8JHPQ2SjoUXANImqNWOF83wvEv6vSDOhWhRT4M0YOEFgDTh9kJoiXoaAACCRfhCS2mqp2FhQDLwPgBAa9zbES2lpZ6m0UabTz75EW3a9HGNjv5nYvudNWx4CgAzI3xhRmmop2m0MEDar9HRZyVVQ8DPfvYRbdz4cY2NEcbCwgINAJgZ4QuZ0M4CAPf9Ght7JYwxIhM8FmgAwMyo+UImHMwCgIkRGQSHBRoHj1o5ID8IX8iERgsD2sGITLDStEAjSdjMGMgXwhcyoVhcrYGBG1UoLJFk6u1dILPZM/69IEZkGLF4xdT3oVBYooGBG5nanUGrWjkA2UPNFzJj6sKAcnntgVWas2YdqdHRvZL2H3g+iBGZtK/uq/8aBbUIIQ0LNJKGWjkgXwhfyKxWYSyooJHm1X1pD45ZUigsrk05Tm8HkD2EL+RGUCMy9SFO8obHpGHEIs3BMWv6+9dMCsIStXJAlhG+gA5MHS1qJg0jFkx1JUdaNjMGEAzCF9CBxpu5TpaWEQumupKFWjkgP1jtiEDkZcVf61GhdK3uY1sIAIgHI1/oWp4Kt5uPFi3Rqac+EEOPDh5TXQAQD8IXupanwu2sFUYz1QUA0SN8oWt5KtxmtAgA0C3CF7qWt8JtRosAAN2g4B5dy0Phdl4WFAAAwsfIF7qW9am4PC0oAACEj/CFQGR5Ki5PCwoAAOEjfAEzyNOCAnQnjPuHIjgrSiXtKPdOa+8rjumhkZEYeoS8InwBM8jbgoKsiSoQMT2dfI2CV6t2ICwU3CNSaSxcz8OCgqyaCETV8OwHAlEY/+5aTU8DQD3CFyIT5Q/CIBWLqzUwcKMKhSVK2y2E8u5gAtHB/oLA9DSAdjHtiMikuXA9ywsKsqzTQNTN1CHT0wDaxcgXIsPIAKLWLPg0a+9m6pDpaQDtInwhEO1M1XT6gxDoVqeBqJtfEJieTr6+4lhH7UBYmHZE19qdqsnaTamRfJ1uANzt1CHT08nGdhJICsIXutZuLVfWd8JHMnUSiPgFAUAUCF/oWidTNYwMIMn4BQFAFAhf6BqrvJAl/IIAIGwU3KNrrPICAKB9jHyha0zVAADQPsIXAsFUDQAA7SF8AWip2Y2po7phNQBkDeELSLGwA1CzPdz27Pmxtm//2kHdhgcA8o6CeyClorhRebM93LZt+/JB34YHAPKO8AWkVDf3IWxX89vqNL4dC/fpBICZEb6AlIriRuXN92rr7fB4AMAEwheQUlHcqLzRHm5ms2VWmHZss73d2rnpOgDkCQX3QErV34dw9eqtevbZY6YdUyyOaWRkx0GfY+oebrNmHanR0b2SXpx0XG/vAp144l9MK7Zv96brAJAnjHwBKVUsrtbAwI0qFJY0DF6SVC43nh7s9DynnvqA3vSmEfX2zpO0f9oxs2bNaximoqhLA4C0YeQLSLGoN7fttM4siro0AEgbRr4AtK3TOrMo6tIAIG0IX0BA8lBY3ulN1LnpOgBMx7QjEIC8FJZ3ehN1broOANMRvoAAtCosjyJoFItjDYvri8XGm6F2d67O6sy46ToATEb4AgIQd2F5N9tJAACiRc0XEAAKywEA7SJ8AQHISmF5HhYNAEDcmHZsoFxeS4EwOpKFwvK8LBoAgLgRvqbgBxAOVtoLy+NeNAAAecG04xTcDgV5FfeiAQDIC8LXFPwAQl6xaAAAokH4moIfQMirrCwaANJkRamkZb1Lp32sKJXi7hpCRPiagh9AyKticbUGBm5UobBEkqlQWKKBgRup9wJCtKPB5sit2pENFNxPkYVVa8imUqmv6S72QW2ymvZFAwCQBoGELzN7m6TPSOqV9Pfufv2U5y+R9D8lTRROfc7d/z6Ic4eBH0BIokbBq1V7nrFdDIAk6zp8mVmvpL+W9GuShiU9YGbr3P2JKYfe4e4f6vZ8ANAK28UASLogar5OkbTR3Z9y95clfVXSuQG8LgB0jO1iACRdEOFrsaRn6j4frrVNdb6Z/buZfcPMlgZwXgCYhu1ikCZ9xbGO2pENQdR8WYM2n/L5tyXd7u4VM7tC0q2SfnXaC5ldLulySVq2jK0dkE5RFMajuUJhsSqV4YbtQNI8NDISdxcQgyBGvoYl1Y9kLZE06V+Tu+9y90rt089LWtHohdz9Zndf6e4r+/qOCqBrQPTCKowvNvlNuFl7XrFdDICkC2Lk6wFJA2Z2vKqrGS+U9K76A8zsWHffWvv0HEk/DeC8QK4watYetosJ1wl9m3TqCQ+rsO1LevrZkhb2X6X5xfPi7haQKl2HL3cfNbMPSfquqltN3OLuj5vZtZIedPd1kn7fzM6RNCppt6RLuj0vADTDdjHhOOGEh/SmX/iRZvdWR1tHK1u0Y8PVkkQAAzoQyD5f7n6XpLumtF1T93iNJMb8ASDFTj31OweC1wQf36fdQzcQvoAOcHshAEBbDjvs2YbtoxWKxoFOEL6AgFEYj6zau3dBw/ZZBW4CDXSCezsCAaMwHlk1OHiW3vxf75g09Wg9c7Ww/6oYewWkD+ErYbgnHYCk2rRphaz0jE494WHNK7yo2QVWOwIHg/CVINyTDkDSbdpxgja/eLwuevtFOvHVy+PuDpBK1HwlSBLvSVcur9Xg4CqtX1/S4OAqlctrY+sLAABZwMhXgiTtnnSMxAFA8q0olbSjwR00+opj3L4ooRj5SpBm956L6550SRyJAwBM1ih4tWpH/AhfCZK0e9IlbSQOAIAsIHwlSLG4WgMDN6pQWCLJVCgs0cDAjbFN8SVtJA4AgCyg5ithknRPuv7+NZNqvqR4R+IAAJiQ5lo3wheamgiB7DuGrGJfPSC90lzrRvhCS0kaiQOCxGpeZEVfcazpCBCSifAFIJdareYlfCFNkj7FhukIXwByKemreZkSBbKL1Y4AcinJq3knpkQrlWFJfmBKlDtMANlA+AKQS0nbV68eGxwDM2tW05aGWjemHQHkUpJX8yZ9ShTTpXnbg7RK89eV8BUS6jWA5Evqat5CYXFtynF6O5IpzdseIHpMO4aAeg1kSanUp97eY6Z9lEp9cXcts5I8JQqge4SvEFCvgSwpN/nNvVk7upe0W40BCBbTjiGgXgNAt5I6JQqge4x8hSDJS9gBAEC8CF8hiKteo1xeq8HBVVq/vqTBwVXUmAFARNK87QGix7RjCOJYws596pBHrCpGUqR52wNEj/AVkqjrNbhPHcJSLI41LK4vxvwbPb9wAEgrwldGUOSPsIyM7Ii7Cw3xCweAtKLmKyMo8kfe8AsHgLQifGUEmzIib/iFA0BaEb4OQhJXFbIpI/KGXzg6k8TvW0BeUfPVoSQX+bIpI/IkyTfGTpokf98C8ojw1SGKfIHk4BeO9vB9C0gWph07RJEvgLTh+xaQLISvDlHki26VSn3q7T1m2kep1Bd315BRfN8CkoXw1SGKfNGtRhuWtmpHdyg05/sWkDTUfHWIIl8gPSg0r+L7FpAshK+DQJEvkA4Umr+C71tAcjDtCCCzKDQHkESELwCZRaE5gCQifAERKxbHOmrHwaPQHEASUfMFRGxkZEfcXcgNCs0BJBHhC0CmUWgOIGmYdgQAAIgQI18AgNRbUSppR4ONivuKY3poZCSGHgHNEb4AAG355jd/Ry+9NE+SdNsfv9KehIDTKHi1agfiRPgKWbm8lmJfAJkwEbymIuAAnSF8hYhbmwAAgKkouA9Rq1ubIP1KpT719h4z7aNU6ou7awCABCN8hYhbm2RbuclUS7N2AAAkwleoori1Sbm8VoODq7R+fUmDg6tULq8N7LUBIC36mtwholk7ECdqvkLU379mUs2XFOytTagpAxClOXNeaFh0n4SAE/dqS6AThK8QhX1rk1Y1ZYQvAEF7xzv+TvaaxzR73rguevtFWv7q5XF3CUglwlfIwry1CTVlAACkDzVfKRZFTRmaKzaZamnWDgCAxMhXqoVdU4bWRkZ2xN0FAEAKEb5SLOyasqCwyz8AAK8gfKVcmDVlQWBFZj6USn0N9zcrFscYIQSAKaj5QqjY5T8f2HAWANpH+EKoWJEJAMBkgYQvM3ubmT1pZhvN7OoGzxfM7I7a84Nm1h/EeZF8rMgEAGCyrsOXmfVK+mtJZ0l6naSLzOx1Uw57v6Rn3f1ESZ+W9Kluz4t06O9fo56euZPaWJEJAMizIEa+TpG00d2fcveXJX1V0rlTjjlX0q21x9+Q9BYzswDOjYQrFldrYOBGFQpLJJkKhSUaGLiRYnsAQG4FsdpxsaRn6j4flnRqs2PcfdTM9kg6StLOAM6PhEv6ikx0r1gca7raEQAwWRDhq9EIlh/EMTKzyyVdLknLlk2vCWK/qHRzd42MPKO9e5+LuyuZ9MY3vlG7dhWmtR91VEX33XdfqOf+/vebP/fkk6GeGiF67rk9kz53ecNv5hNWlEra0SCE9xXHuPE1UCeI8DUsaWnd50skTf1fNnHMsJnNknSEpN1TX8jdb5Z0syStXHnSpHDGflHptnv3Tt1997f11FNPamyM0ZAw7Np1ZpP2gr7+9VsbPgfMZHRU2rZtoXY+7/JjfqJef1Fzeudp/rz5045tFLxatQN5FUT4ekDSgJkdL2mLpAslvWvKMeskXSzp3yS9U9K97j5t5KuVVvtFEb6Sq1J5ST/60ff1wAM/1M6drq1b+zQ6OjvubuXO448vnfkgoIFRd40t2CU7fqt6D3H1Hd2n89+6WktLnf2benrwdC3sv0rzi+eF1FMgPboOX7Uarg9J+q6kXkm3uPvjZnatpAfdfZ2kL0j6kpltVHXE68JOz8N+UekyPj6uJ574d9177z9p587nNDy8UHte7pGOLkuF0bi7lzsv9w/F3QWkVc+YemaPaf7h8/TWN7xVv7LiVzRrVuc/OkYrW7RjQ3Unok4DGNOZyJpAbi/k7ndJumtK2zV1j1+SdEE35ygUFqtSGW7YjuR57LGHdffd39YLL7ygp55aohfHTT3HD6l3zpgKcwot60YQvMMWMu2Dg2Sz9PrXnKSzzjhL8w+bPtXYCR/fp91DN3QcvrI8nUmwzKfU3Nuxv3/NpJovif2ikuz55/fIzFQozJPZ4Zozf596DztEhx0xRx+5+CNip5HgfXna9sav+NjvfSySPrzxhBO1c/v0byuLjh7VfZs2RtIHBKunp0dz58yd+cA2jVYIFPWyHCzRXGrC10RdF6sd08bqPqoOm3dYbL3Jsr7iWNPfoOcdOi+SPjQKXhPtUfUB8Wn2b3DBgm0HHs8qlKLsEpBIqQlfEvtFAa0wRYG41f8bfL58p3ZsuFpeN1thPXO1sP+qOLoGJEqqwhcAIB0m6rp2D92g0cqIZhVKrHbsEPVg2UX4AgCEYn7xvEDCVqsp9SyjHiy7CF8AgETL8ihPq2BJyMouwheAwOR1hAKNMW02s1Zfh2W9bI6cVYQvAIHhByrqhT1tRrhDWhG+ACBABILoUBOFtOqJuwMAkCUEAgSl2XQ90/jpx8gXEAFGQ4D0iuv/L98bsouRLyACjIYA6cX/XwSN8AUACAXTZkBjTDsCAEIR9rQZW5sgrQhfABAgAkF0qIlCWhG+ACBABAIAM6HmC4gAtS9AevH/F0Fj5AuIAKMhQHrx/xdBY+QLAAAgQoQvAACACDHtCABTPF++U7uHbtBoZUSzCiUt7L9K84vnxd0tABlB+AKAOs+X79SODVfLx/dJkkYrW7Rjw9WSRABDU9xCDJ0gfAEZxA+Cg7d76IYDwWuCj+/T7qEbCF9oilsQoROEL6ADaQk1/CA4eKOVxu9js3YA6BQF90AHCDXZN6tQ6qgdADpF+AKAOgv7r5L1zJ3UZj1ztbD/qph6BCBrmHYEgDoTdV2sdgQQFsIXAEwxv3geYQsd4Ybq6AThC8ggfhAA0UrSghskH+EL6EBaQg0/CPIn7JW4aVnpC6QB4QvoAD9kkFRhr8RlpS8QHFY7AgAARIiRr4Qql9dqaOg6VSpbVCgsVn//GhWLq+PuFgAA6BLhK4HK5bXasOFKjdducVKpDGvDhisliQAGRIxaJwBBI3wl0NDQdQeC14Tx8X0aGrqO8AUEbKZwRa0TgKBR85VAlcqWjtoBHLyshKtmK26DWokb9usDecLIVwIVCotVqQw3bAeARsKeAmWKFQgOI18J1N+/Rj1T7i3X0zNX/f1rYuoRAAAICiNfCTRR18VqRwAAsofwlVDF4mrCFpAAabmrAYD0IHwByLWZwhW1TgCCRvgCkGuEK6Az7H3XPQruAQBA27KyPUucCF8AAAARInwBAABEiJovALlF7QqAOBC+AOQWtSvZRbBGkhG+ACDHshpSCNbhYe+77hG+ACDHCCnoVJpDeVIQvgAAwEHzcddLu17S/j37NT42LnncPQqBSb2FXs1bPE89s7tfq0j4AgAAB+2FLS9oTs8cLT5usWbNniUzi7tLgXN3PbvrWe3eslvz++d3/XpsNQEgt5rVqFC7ArRv7MUxHVs6VrMPmZ3J4CVJZqYFRy3QWCWY7w2MfAHILWpXsoui8Oi4u3p6sj+WY2aBTakSvgAgx7IaUgjWSDLCFwDkWFAhJatbVgBhyP44IQAgdGxZAbSP8AXggBWlkpb1Lp32saJUirtrABCKm/7mJr36Va/W4XMP12krT9MP7/th6OckfAE4gNELAHHZUb5dD90/oB/96xw9dP+AdpRvD/2cX7/j6/qjj/yRPrrmoxp8eFCnnX6azjn7HG3evDnU8xK+AABArHaUb9emn31QlcpmSa5KZbM2/eyDoQewz3z6M3rvxe/V+z/wfr32ta/VX332r3TMscfo5r+9OdTzdhW+zGyhmd1tZhtqfy5octyYmT1S+1jXzTkBAEDHpR+/AAAKcUlEQVS2bP75NRoff3FS2/j4i9r882tCO+fLL7+shx96WGe+9cxJ7Wf+2pm6/9/uD+28UvcjX1dL+p67D0j6Xu3zRva5++trH+d0eU4AQMKwYS26Uak801F7EHbu3KmxsTEdXTx6UnuxWNS2bdtCO6/U/VYT50o6o/b4Vkk/kPTRLl8TAJAybCeBbhQKS2tTjtPbwzZ1V353D32n/m5HvoruvlWSan8e3eS4OWb2oJndb2bv6PKcAELC6AWAOCw7/lr19Bw6qa2n51AtO/7a0M65aNEi9fb2qrytPKl9+/btKhaLoZ1XamPky8zukXRMg6c+1sF5lrn7iJm9StK9ZvaYu29qcK7LJV0uScuWLe7g5QFI3W90yegFgDj0FS+SVK39qlSeUaGwVMuOv/ZAexgOOeQQnbziZN1z9z06/4LzD7R/757v6bzV54V2XqmN8OXuZzZ7zszKZnasu281s2MlbW/yGiO1P58ysx9I+mVJ08KXu98s6WZJWrnypIDuoASkX7uhiq0iAKRVX/GiUMNWIx/+gw/r0vdeqlWnrNLpbzhdn7/p89o6slUfuOIDoZ6325qvdZIulnR97c9vTT2gtgLyRXevmNkiSW+QdEOX5wVyhVAFAMG74Lcu0K5du3T9J6/X1q1btfwXl+tb//QtHXfccaGet9vwdb2kr5nZ+yVtlnSBJJnZSklXuPtlkl4r6e/MbFzVGrPr3f2JLs8LAADQtSs+eIWu+OAVkZ6zq/Dl7rskvaVB+4OSLqs9/pGkX+rmPADixU2TASA47HAPYEZMewJAcLqddgSQIH3FsaYjVHFh1Gw6viZAvhG+gBRoN1Ql8Qc3o2bT8TUB8o3wBaRAEkMVkiXPo2l5vnakEzVfAJABeR5Ny/O1I50IXwBmxG2HACA4TDsCmBFTNwAQHEa+AISKUbPp+JoA+cbIF4BQMWo2HV8TIN8Y+QKADMjzaFqerx3duW/9fVp97modv+R4FXoKuu2Lt0VyXka+ACAD8jyaFve1s9VF95YdO1vlsk1rLxZdm7fuD+28e/fu1fLly/Xu97xb77v4faGdZyrCFwAAXWCri+41Cl6t2oNy1tln6ayzz5IkXXbpZaGeqx7TjgAAABEifAEAAESI8AUAABAhwhcAAECECF8AAHSBrS66Vyx6R+1px2pHAAC6wHYS3QtzO4lW9u7dq00bN0mSxsfH9czmZ/ToI49qwcIFWrZsWWjnZeQLQCqtKJW0rHfptI8VpVLcXQOQEg89+JBOOfkUnXLyKdq3b5+u/bNrdcrJp+jaT1wb6nkZ+QKQSuytBKBbbz7jzaqMVyI/LyNfAAAAESJ8AQAARIjwBQAAECHCFwAAQIQIXwBSib2VgIQwyT2b+3HVc3cpoPt8s9oRQCqxtxKQDD2ze/TSvpc099C5cXclVKP7R9XTG8yYFeELAJAIK0qlhluF9BXHCNsJVlhU0JYtW7R48WLNmTtHZgENDyXI+Pi4tm/frtlHzA7k9QhfAIBEYO+2dCocXpAkDW8d1vj+cSmDM5Bmpt5DezXvqHmBvB7hC0BbGJUA0Ezh8MKBEIaZUXAPoC2MSgBAMAhfAAAAESJ8AQAARIjwBQBIBPZuQ15QcI9QHHbY4Tr88CO0b5/r8MPnabRwiHoPPVILFh4ad9cAJBQLN5AXltRdac1sh6Sna58ukrQzxu7EhevOnwRf+0knSbMa/MI2Oio9+miXL57g6w5VXq9byu+15/W6pexf+3Hu3tfOgYkNX/XM7EF3Xxl3P6LGdedPXq+d686fvF57Xq9byve1T0XNFwAAQIQIXwAAABFKS/i6Oe4OxITrzp+8XjvXnT95vfa8XreU72ufJBU1XwAAAFmRlpEvAACATEhc+DKzC8zscTMbN7OmqyLMbMjMHjOzR8zswSj7GJYOrv1tZvakmW00s6uj7GMYzGyhmd1tZhtqfy5octxY7f1+xMzWRd3PoMz0/plZwczuqD0/aGb90fcyHG1c+yVmtqPufb4sjn4GzcxuMbPtZvaTJs+bmf3v2tfl383s5Kj7GIY2rvsMM9tT935fE3Ufw2BmS83s+2b209r39A83OCZz73mb153J97xj7p6oD0mvlfQLkn4gaWWL44YkLYq7v1Ffu6ReSZskvUrSIZIelfS6uPve5XXfIOnq2uOrJX2qyXF74+5rANc64/sn6YOSbqo9vlDSHXH3O8Jrv0TS5+LuawjX/iZJJ0v6SZPnz5b0HUkm6TRJg3H3OaLrPkPS/427nyFc97GSTq49ni/pZw3+rWfuPW/zujP5nnf6kbiRL3f/qbs/GXc/4tDmtZ8iaaO7P+XuL0v6qqRzw+9dqM6VdGvt8a2S3hFjX8LWzvtX//X4hqS3mJlF2MewZPHfblvcfb2k3S0OOVfSbV51v6QjzezYaHoXnjauO5Pcfau7P1x7/Lykn0paPOWwzL3nbV43lMBpxw64pH8xs4fM7PK4OxOhxZKeqft8WOn/x110961S9T+vpKObHDfHzB40s/vNLK0BrZ3378Ax7j4qaY+koyLpXbja/bd7fm0a5htmtjSarsUui/+v23W6mT1qZt8xs+VxdyZotbKBX5Y0OOWpTL/nLa5byvh73o5Y7u1oZvdIOqbBUx9z92+1+TJvcPcRMzta0t1m9h+137ISLYBrbzQCkvglq62uu4OXWVZ7z18l6V4ze8zdNwXTw8i08/6l8j1uQzvX9W1Jt7t7xcyuUHUE8FdD71n8svqez+RhVW/JstfMzpb0TUkDMfcpMGZ2mKR/lPQRd39u6tMN/kom3vMZrjvT73m7Yglf7n5mAK8xUvtzu5ndqeqURuLDVwDXPiypfjRgiaTE34221XWbWdnMjnX3rbVh9+1NXmPiPX/KzH6g6m9VaQtf7bx/E8cMm9ksSUcoG1M3M167u++q+/Tzkj4VQb+SIJX/r7tV/4PZ3e8ys78xs0Xunvr7/5nZbFUDyD+4+9oGh2TyPZ/purP8nncildOOZjbPzOZPPJb0VkkNV9Nk0AOSBszseDM7RNWC7NSu/KtZJ+ni2uOLJU0bATSzBWZWqD1eJOkNkp6IrIfBaef9q/96vFPSvV6rVE25Ga99Ss3LOarWjOTBOknvra2AO03Snomp+Cwzs2Mm6hnN7BRVfybtav23kq92TV+Q9FN3/8smh2XuPW/nurP6nncqlpGvVszsPEmfldQn6Z/M7BF3/3UzK0n6e3c/W1JR0p2192+WpK+4+z/H1umAtHPt7j5qZh+S9F1VV4/d4u6Px9jtIFwv6Wtm9n5JmyVdIElW3W7jCne/TNWVoH9nZuOq/me93t1TF76avX9mdq2kB919narfvL5kZhtVHfG6ML4eB6fNa/99MztH0qiq135JbB0OkJndruoqr0VmNizpE5JmS5K73yTpLlVXv22U9KKkS+PpabDauO53SvpdMxuVtE/ShRn5ReMNkt4j6TEze6TW9ieSlkmZfs/bue6svucdYYd7AACACKVy2hEAACCtCF8AAAARInwBAABEiPAFAAAQIcIXAABAhAhfAAAAESJ8AQAARIjwBQAAEKH/D0Ma4xHzdfJyAAAAAElFTkSuQmCC\n",
          "text/plain": "<Figure size 720x432 with 1 Axes>"
         },
         "metadata": {
          "needs_background": "light"
         },
         "output_type": "display_data"
        }
       ]
      }
     },
     "6ab97725ce6743c7a62e0b5bbdc63a92": {
      "model_module": "@jupyter-widgets/output",
      "model_module_version": "1.0.0",
      "model_name": "OutputModel",
      "state": {
       "layout": "IPY_MODEL_624da7c9b91140299cf95451ad79e6cf",
       "outputs": [
        {
         "data": {
          "image/png": "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\n",
          "text/plain": "<Figure size 720x432 with 1 Axes>"
         },
         "metadata": {
          "needs_background": "light"
         },
         "output_type": "display_data"
        }
       ]
      }
     },
     "6ad9885b2897462ba5793bfc040002e0": {
      "model_module": "@jupyter-widgets/controls",
      "model_module_version": "1.5.0",
      "model_name": "SliderStyleModel",
      "state": {
       "description_width": ""
      }
     },
     "6ae9a34607cf4a0bab6914c9d5c8f2c5": {
      "model_module": "@jupyter-widgets/controls",
      "model_module_version": "1.5.0",
      "model_name": "IntSliderModel",
      "state": {
       "description": "max_depth",
       "layout": "IPY_MODEL_e1ad942d391a4256bab62577e6896fa7",
       "max": 15,
       "min": 1,
       "style": "IPY_MODEL_0450ae171c11432f8d7658e31f907c36",
       "value": 2
      }
     },
     "6c31fed64d254e338e077de0f747e7c3": {
      "model_module": "@jupyter-widgets/base",
      "model_module_version": "1.2.0",
      "model_name": "LayoutModel",
      "state": {}
     },
     "6cc11acb76b64c4dba96a17db09de7d3": {
      "model_module": "@jupyter-widgets/base",
      "model_module_version": "1.2.0",
      "model_name": "LayoutModel",
      "state": {}
     },
     "6d3847a4ebc144468a6ba7d0f126fc5d": {
      "model_module": "@jupyter-widgets/controls",
      "model_module_version": "1.5.0",
      "model_name": "IntSliderModel",
      "state": {
       "description": "max_features",
       "layout": "IPY_MODEL_caaf30d7e38745799606bd9048f59229",
       "max": 2,
       "min": 1,
       "style": "IPY_MODEL_0a70ae27a7014cd6854d07c2f7b39765",
       "value": 1
      }
     },
     "6e17fb956c7a414297a94213851175ec": {
      "model_module": "@jupyter-widgets/controls",
      "model_module_version": "1.5.0",
      "model_name": "SliderStyleModel",
      "state": {
       "description_width": ""
      }
     },
     "6e756dd438794a6586d2e22c8a2c1207": {
      "model_module": "@jupyter-widgets/controls",
      "model_module_version": "1.5.0",
      "model_name": "IntSliderModel",
      "state": {
       "description": "max_depth",
       "layout": "IPY_MODEL_7c5a0805cc6b468c9cc0df9e999b8900",
       "max": 15,
       "min": 1,
       "style": "IPY_MODEL_4e4be808cb1343f3b621670bb899eb3e",
       "value": 2
      }
     },
     "70eb510d214a4130978ef51898813c9d": {
      "model_module": "@jupyter-widgets/controls",
      "model_module_version": "1.5.0",
      "model_name": "IntSliderModel",
      "state": {
       "description": "min_samples_leaf",
       "layout": "IPY_MODEL_1cb71e90be7949dcabba9280e0e61e7f",
       "max": 15,
       "min": 1,
       "style": "IPY_MODEL_db42cf3c2ddb4ee9a104d4ca92a955e5",
       "value": 1
      }
     },
     "710fa9d845144a66a8649e738eb51b57": {
      "model_module": "@jupyter-widgets/controls",
      "model_module_version": "1.5.0",
      "model_name": "IntSliderModel",
      "state": {
       "description": "min_samples_split",
       "layout": "IPY_MODEL_9baab6786652461abf419dc318b9cb0a",
       "max": 6,
       "min": -2,
       "style": "IPY_MODEL_761e3a013f8f44fb96646eda0181acac",
       "value": 1
      }
     },
     "71dafc78daf543d09b367ffa41815516": {
      "model_module": "@jupyter-widgets/base",
      "model_module_version": "1.2.0",
      "model_name": "LayoutModel",
      "state": {}
     },
     "724c008de84f4c42adcc8a0954dc1ae7": {
      "model_module": "@jupyter-widgets/base",
      "model_module_version": "1.2.0",
      "model_name": "LayoutModel",
      "state": {}
     },
     "72d350f3e88e4befbae17548ca24b538": {
      "model_module": "@jupyter-widgets/controls",
      "model_module_version": "1.5.0",
      "model_name": "IntSliderModel",
      "state": {
       "description": "min_samples_leaf",
       "layout": "IPY_MODEL_149835b470a9453a9c0fd693cceee517",
       "max": 15,
       "min": 1,
       "style": "IPY_MODEL_7fd19d5c3a374cc09328b0d4be9d00ad",
       "value": 1
      }
     },
     "73c22cd6b9584de8a01e7c9e935ded3b": {
      "model_module": "@jupyter-widgets/controls",
      "model_module_version": "1.5.0",
      "model_name": "SliderStyleModel",
      "state": {
       "description_width": ""
      }
     },
     "73c6f12373594610a5515ada499e728b": {
      "model_module": "@jupyter-widgets/controls",
      "model_module_version": "1.5.0",
      "model_name": "SliderStyleModel",
      "state": {
       "description_width": ""
      }
     },
     "75044dbd3250452fbe5daf30f28260a5": {
      "model_module": "@jupyter-widgets/controls",
      "model_module_version": "1.5.0",
      "model_name": "VBoxModel",
      "state": {
       "_dom_classes": [
        "widget-interact"
       ],
       "children": [
        "IPY_MODEL_697e2335e8814b7b9ac5dfc87e0518db",
        "IPY_MODEL_d7d1d7d0e9bf4d03a5c2aa9cbfd77447",
        "IPY_MODEL_ebe7b5c725c24112bf60b6b08a4fe914"
       ],
       "layout": "IPY_MODEL_e000fd76d67b4baaaa452d689f198a56"
      }
     },
     "751aba8921c0431f9bb3319424e2385a": {
      "model_module": "@jupyter-widgets/base",
      "model_module_version": "1.2.0",
      "model_name": "LayoutModel",
      "state": {}
     },
     "751db5dad76d4652a11416054236b36b": {
      "model_module": "@jupyter-widgets/controls",
      "model_module_version": "1.5.0",
      "model_name": "SliderStyleModel",
      "state": {
       "description_width": ""
      }
     },
     "75760dd5e4444fde8399df0eac98151f": {
      "model_module": "@jupyter-widgets/controls",
      "model_module_version": "1.5.0",
      "model_name": "SliderStyleModel",
      "state": {
       "description_width": ""
      }
     },
     "761e3a013f8f44fb96646eda0181acac": {
      "model_module": "@jupyter-widgets/controls",
      "model_module_version": "1.5.0",
      "model_name": "SliderStyleModel",
      "state": {
       "description_width": ""
      }
     },
     "76c75e492b33429e85c210506ff1eb03": {
      "model_module": "@jupyter-widgets/controls",
      "model_module_version": "1.5.0",
      "model_name": "SliderStyleModel",
      "state": {
       "description_width": ""
      }
     },
     "776edfbc83ea407abf7cf1f8e56461fa": {
      "model_module": "@jupyter-widgets/controls",
      "model_module_version": "1.5.0",
      "model_name": "IntSliderModel",
      "state": {
       "description": "max_leaf_nodes",
       "layout": "IPY_MODEL_2a9e9fb478484bf3a4c653dbeb6573ef",
       "max": 6,
       "min": -2,
       "style": "IPY_MODEL_98092b32a83a4b6ea95f935f3a35e394",
       "value": 2
      }
     },
     "7798f0556b4440fdbdf889c32977c997": {
      "model_module": "@jupyter-widgets/output",
      "model_module_version": "1.0.0",
      "model_name": "OutputModel",
      "state": {
       "layout": "IPY_MODEL_acf7af9aded84d11ad28c280e23a1c85",
       "outputs": [
        {
         "data": {
          "image/png": "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\n",
          "text/plain": "<Figure size 720x432 with 1 Axes>"
         },
         "metadata": {
          "needs_background": "light"
         },
         "output_type": "display_data"
        }
       ]
      }
     },
     "77cedefe4c6a483cade9303d066128b9": {
      "model_module": "@jupyter-widgets/controls",
      "model_module_version": "1.5.0",
      "model_name": "IntSliderModel",
      "state": {
       "description": "min_samples_leaf",
       "layout": "IPY_MODEL_d5d66c82e3264ede999f0cb4b60d63ec",
       "max": 6,
       "min": -2,
       "style": "IPY_MODEL_b49600005431471ab0e0ba9fc633f6e9",
       "value": 2
      }
     },
     "78e63ec9031749328ec873143b3e7909": {
      "model_module": "@jupyter-widgets/controls",
      "model_module_version": "1.5.0",
      "model_name": "SliderStyleModel",
      "state": {
       "description_width": ""
      }
     },
     "79aa725f959841ebaf455f59cd82f14a": {
      "model_module": "@jupyter-widgets/controls",
      "model_module_version": "1.5.0",
      "model_name": "IntSliderModel",
      "state": {
       "description": "max_depth",
       "layout": "IPY_MODEL_811d785036564d60833bb3ce9e447715",
       "max": 15,
       "min": 1,
       "style": "IPY_MODEL_172b01c6ee5247e9ad64ace7052bd62e",
       "value": 2
      }
     },
     "7b8f2b66350b4159863de9fc27ce9801": {
      "model_module": "@jupyter-widgets/controls",
      "model_module_version": "1.5.0",
      "model_name": "IntSliderModel",
      "state": {
       "description": "max_depth",
       "layout": "IPY_MODEL_68626fb5757b4e58a7954c575759fc79",
       "max": 15,
       "min": 1,
       "style": "IPY_MODEL_c69ca16ac6964f2d90e7dd7486f7abc4",
       "value": 2
      }
     },
     "7c181fec77bd4953a4117d93ef71c237": {
      "model_module": "@jupyter-widgets/controls",
      "model_module_version": "1.5.0",
      "model_name": "SliderStyleModel",
      "state": {
       "description_width": ""
      }
     },
     "7c5a0805cc6b468c9cc0df9e999b8900": {
      "model_module": "@jupyter-widgets/base",
      "model_module_version": "1.2.0",
      "model_name": "LayoutModel",
      "state": {}
     },
     "7ce2c5974ef84f9d99fdc54d3e63ba35": {
      "model_module": "@jupyter-widgets/controls",
      "model_module_version": "1.5.0",
      "model_name": "IntSliderModel",
      "state": {
       "description": "max_depth",
       "layout": "IPY_MODEL_122246056751474a9095a96c41025cf9",
       "max": 15,
       "min": 1,
       "style": "IPY_MODEL_5ae6110367ba4d38b5936cd578532e86",
       "value": 2
      }
     },
     "7e1df5c0ed804c85b1ff1e18a512c2b1": {
      "model_module": "@jupyter-widgets/base",
      "model_module_version": "1.2.0",
      "model_name": "LayoutModel",
      "state": {}
     },
     "7f9e76fde4b745c7acd0c3d582376ea4": {
      "model_module": "@jupyter-widgets/controls",
      "model_module_version": "1.5.0",
      "model_name": "IntSliderModel",
      "state": {
       "description": "max_depth",
       "layout": "IPY_MODEL_ff59d56abb804cd7969d831d014e3ff0",
       "max": 15,
       "min": 1,
       "style": "IPY_MODEL_830223b1fdc940569da755e35ff1ca0e",
       "value": 2
      }
     },
     "7fa095b3560f405194756bc859c6f4cc": {
      "model_module": "@jupyter-widgets/controls",
      "model_module_version": "1.5.0",
      "model_name": "IntSliderModel",
      "state": {
       "description": "max_features",
       "layout": "IPY_MODEL_dd1ff36bbc674ecfb3c80ea3e40a62c6",
       "max": 2,
       "min": 1,
       "style": "IPY_MODEL_399e98c489e146b79c427c00bad8a093",
       "value": 2
      }
     },
     "7fa46a13b7144e859063e4f06357de32": {
      "model_module": "@jupyter-widgets/controls",
      "model_module_version": "1.5.0",
      "model_name": "VBoxModel",
      "state": {
       "_dom_classes": [
        "widget-interact"
       ],
       "children": [
        "IPY_MODEL_79aa725f959841ebaf455f59cd82f14a",
        "IPY_MODEL_295d0a75d30b48cbb3414b2200aa9e47",
        "IPY_MODEL_9c3850dc7d26475288f68974b7d5800a",
        "IPY_MODEL_eaf7aad74b174e739dcea3806255a210",
        "IPY_MODEL_5261c6f247764ad4ab8007b168399075",
        "IPY_MODEL_ef031fc910544968ad86a7d26cab9a8c"
       ],
       "layout": "IPY_MODEL_7fd824bc23e24e7485420ae3e02cfee7"
      }
     },
     "7fd19d5c3a374cc09328b0d4be9d00ad": {
      "model_module": "@jupyter-widgets/controls",
      "model_module_version": "1.5.0",
      "model_name": "SliderStyleModel",
      "state": {
       "description_width": ""
      }
     },
     "7fd824bc23e24e7485420ae3e02cfee7": {
      "model_module": "@jupyter-widgets/base",
      "model_module_version": "1.2.0",
      "model_name": "LayoutModel",
      "state": {}
     },
     "80d6d63f201642ae999f0efcadf1c421": {
      "model_module": "@jupyter-widgets/base",
      "model_module_version": "1.2.0",
      "model_name": "LayoutModel",
      "state": {}
     },
     "811d785036564d60833bb3ce9e447715": {
      "model_module": "@jupyter-widgets/base",
      "model_module_version": "1.2.0",
      "model_name": "LayoutModel",
      "state": {}
     },
     "8222d4759efb4697a51decc7e63264d9": {
      "model_module": "@jupyter-widgets/base",
      "model_module_version": "1.2.0",
      "model_name": "LayoutModel",
      "state": {}
     },
     "822fcd0f0dd14463a8beb6d5b4bf588c": {
      "model_module": "@jupyter-widgets/controls",
      "model_module_version": "1.5.0",
      "model_name": "IntSliderModel",
      "state": {
       "description": "min_samples_leaf",
       "layout": "IPY_MODEL_decd95cd20044e8389ad3d4950326cdd",
       "max": 3,
       "min": -1,
       "style": "IPY_MODEL_908de08756af40d9ad2ff693e61cb512",
       "value": 1
      }
     },
     "825fbf009c024e0ea765d96cd84373df": {
      "model_module": "@jupyter-widgets/output",
      "model_module_version": "1.0.0",
      "model_name": "OutputModel",
      "state": {
       "layout": "IPY_MODEL_686ae37eff994de89f0e350ed54ffe56",
       "outputs": [
        {
         "data": {
          "image/png": "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\n",
          "text/plain": "<Figure size 720x432 with 1 Axes>"
         },
         "metadata": {
          "needs_background": "light"
         },
         "output_type": "display_data"
        }
       ]
      }
     },
     "830223b1fdc940569da755e35ff1ca0e": {
      "model_module": "@jupyter-widgets/controls",
      "model_module_version": "1.5.0",
      "model_name": "SliderStyleModel",
      "state": {
       "description_width": ""
      }
     },
     "834d9ab9cbec457d9a9d2fa9ae17badc": {
      "model_module": "@jupyter-widgets/base",
      "model_module_version": "1.2.0",
      "model_name": "LayoutModel",
      "state": {}
     },
     "835548b6acc14962958da4ef7938de82": {
      "model_module": "@jupyter-widgets/controls",
      "model_module_version": "1.5.0",
      "model_name": "SliderStyleModel",
      "state": {
       "description_width": ""
      }
     },
     "83831586346d4134885401b969316656": {
      "model_module": "@jupyter-widgets/base",
      "model_module_version": "1.2.0",
      "model_name": "LayoutModel",
      "state": {}
     },
     "848c386dd21141a380e7dcae2bab399a": {
      "model_module": "@jupyter-widgets/output",
      "model_module_version": "1.0.0",
      "model_name": "OutputModel",
      "state": {
       "layout": "IPY_MODEL_8222d4759efb4697a51decc7e63264d9",
       "outputs": [
        {
         "ename": "ValueError",
         "evalue": "max_leaf_nodes 1 must be either None or larger than 1",
         "output_type": "error",
         "traceback": [
          "\u001b[0;31m----------------------------------------------------------------\u001b[0m",
          "\u001b[0;31mValueError\u001b[0m                     Traceback (most recent call last)",
          "\u001b[0;32m~/anaconda3/envs/dat158/lib/python3.6/site-packages/ipywidgets/widgets/interaction.py\u001b[0m in \u001b[0;36mupdate\u001b[0;34m(self, *args)\u001b[0m\n\u001b[1;32m    249\u001b[0m                     \u001b[0mvalue\u001b[0m \u001b[0;34m=\u001b[0m \u001b[0mwidget\u001b[0m\u001b[0;34m.\u001b[0m\u001b[0mget_interact_value\u001b[0m\u001b[0;34m(\u001b[0m\u001b[0;34m)\u001b[0m\u001b[0;34m\u001b[0m\u001b[0m\n\u001b[1;32m    250\u001b[0m                     \u001b[0mself\u001b[0m\u001b[0;34m.\u001b[0m\u001b[0mkwargs\u001b[0m\u001b[0;34m[\u001b[0m\u001b[0mwidget\u001b[0m\u001b[0;34m.\u001b[0m\u001b[0m_kwarg\u001b[0m\u001b[0;34m]\u001b[0m \u001b[0;34m=\u001b[0m \u001b[0mvalue\u001b[0m\u001b[0;34m\u001b[0m\u001b[0m\n\u001b[0;32m--> 251\u001b[0;31m                 \u001b[0mself\u001b[0m\u001b[0;34m.\u001b[0m\u001b[0mresult\u001b[0m \u001b[0;34m=\u001b[0m \u001b[0mself\u001b[0m\u001b[0;34m.\u001b[0m\u001b[0mf\u001b[0m\u001b[0;34m(\u001b[0m\u001b[0;34m**\u001b[0m\u001b[0mself\u001b[0m\u001b[0;34m.\u001b[0m\u001b[0mkwargs\u001b[0m\u001b[0;34m)\u001b[0m\u001b[0;34m\u001b[0m\u001b[0m\n\u001b[0m\u001b[1;32m    252\u001b[0m                 \u001b[0mshow_inline_matplotlib_plots\u001b[0m\u001b[0;34m(\u001b[0m\u001b[0;34m)\u001b[0m\u001b[0;34m\u001b[0m\u001b[0m\n\u001b[1;32m    253\u001b[0m                 \u001b[0;32mif\u001b[0m \u001b[0mself\u001b[0m\u001b[0;34m.\u001b[0m\u001b[0mauto_display\u001b[0m \u001b[0;32mand\u001b[0m \u001b[0mself\u001b[0m\u001b[0;34m.\u001b[0m\u001b[0mresult\u001b[0m \u001b[0;32mis\u001b[0m \u001b[0;32mnot\u001b[0m \u001b[0;32mNone\u001b[0m\u001b[0;34m:\u001b[0m\u001b[0;34m\u001b[0m\u001b[0m\n",
          "\u001b[0;32m<ipython-input-80-227458d796df>\u001b[0m in \u001b[0;36mmake_decision_tree\u001b[0;34m(max_depth, min_samples_split, min_samples_leaf, max_features, max_leaf_nodes)\u001b[0m\n\u001b[1;32m      8\u001b[0m                                      )\n\u001b[1;32m      9\u001b[0m \u001b[0;34m\u001b[0m\u001b[0m\n\u001b[0;32m---> 10\u001b[0;31m     \u001b[0mtree_clf\u001b[0m\u001b[0;34m.\u001b[0m\u001b[0mfit\u001b[0m\u001b[0;34m(\u001b[0m\u001b[0mXm\u001b[0m\u001b[0;34m,\u001b[0m \u001b[0mym\u001b[0m\u001b[0;34m)\u001b[0m\u001b[0;34m\u001b[0m\u001b[0m\n\u001b[0m\u001b[1;32m     11\u001b[0m \u001b[0;34m\u001b[0m\u001b[0m\n\u001b[1;32m     12\u001b[0m     \u001b[0m_\u001b[0m \u001b[0;34m=\u001b[0m \u001b[0mplot_decision_boundary\u001b[0m\u001b[0;34m(\u001b[0m\u001b[0mtree_clf\u001b[0m\u001b[0;34m,\u001b[0m \u001b[0mXm\u001b[0m\u001b[0;34m,\u001b[0m \u001b[0mym\u001b[0m\u001b[0;34m)\u001b[0m\u001b[0;34m\u001b[0m\u001b[0m\n",
          "\u001b[0;32m~/anaconda3/envs/dat158/lib/python3.6/site-packages/sklearn/tree/tree.py\u001b[0m in \u001b[0;36mfit\u001b[0;34m(self, X, y, sample_weight, check_input, X_idx_sorted)\u001b[0m\n\u001b[1;32m    788\u001b[0m             \u001b[0msample_weight\u001b[0m\u001b[0;34m=\u001b[0m\u001b[0msample_weight\u001b[0m\u001b[0;34m,\u001b[0m\u001b[0;34m\u001b[0m\u001b[0m\n\u001b[1;32m    789\u001b[0m             \u001b[0mcheck_input\u001b[0m\u001b[0;34m=\u001b[0m\u001b[0mcheck_input\u001b[0m\u001b[0;34m,\u001b[0m\u001b[0;34m\u001b[0m\u001b[0m\n\u001b[0;32m--> 790\u001b[0;31m             X_idx_sorted=X_idx_sorted)\n\u001b[0m\u001b[1;32m    791\u001b[0m         \u001b[0;32mreturn\u001b[0m \u001b[0mself\u001b[0m\u001b[0;34m\u001b[0m\u001b[0m\n\u001b[1;32m    792\u001b[0m \u001b[0;34m\u001b[0m\u001b[0m\n",
          "\u001b[0;32m~/anaconda3/envs/dat158/lib/python3.6/site-packages/sklearn/tree/tree.py\u001b[0m in \u001b[0;36mfit\u001b[0;34m(self, X, y, sample_weight, check_input, X_idx_sorted)\u001b[0m\n\u001b[1;32m    246\u001b[0m         \u001b[0;32mif\u001b[0m \u001b[0;34m-\u001b[0m\u001b[0;36m1\u001b[0m \u001b[0;34m<\u001b[0m \u001b[0mmax_leaf_nodes\u001b[0m \u001b[0;34m<\u001b[0m \u001b[0;36m2\u001b[0m\u001b[0;34m:\u001b[0m\u001b[0;34m\u001b[0m\u001b[0m\n\u001b[1;32m    247\u001b[0m             raise ValueError((\"max_leaf_nodes {0} must be either None \"\n\u001b[0;32m--> 248\u001b[0;31m                               \"or larger than 1\").format(max_leaf_nodes))\n\u001b[0m\u001b[1;32m    249\u001b[0m \u001b[0;34m\u001b[0m\u001b[0m\n\u001b[1;32m    250\u001b[0m         \u001b[0;32mif\u001b[0m \u001b[0msample_weight\u001b[0m \u001b[0;32mis\u001b[0m \u001b[0;32mnot\u001b[0m \u001b[0;32mNone\u001b[0m\u001b[0;34m:\u001b[0m\u001b[0;34m\u001b[0m\u001b[0m\n",
          "\u001b[0;31mValueError\u001b[0m: max_leaf_nodes 1 must be either None or larger than 1"
         ]
        }
       ]
      }
     },
     "8614ca71cde6426e979a3bfb23331a98": {
      "model_module": "@jupyter-widgets/controls",
      "model_module_version": "1.5.0",
      "model_name": "VBoxModel",
      "state": {
       "_dom_classes": [
        "widget-interact"
       ],
       "children": [
        "IPY_MODEL_d4928ac4d5d44658973f0c5fb98efbb1",
        "IPY_MODEL_dd338ec0a9894196978a7121902435f0",
        "IPY_MODEL_55dc4dfa15e942d4bda57241ae0ce656",
        "IPY_MODEL_0ebdac99a23e4ce2bc7b49488052c6d4",
        "IPY_MODEL_ec53615c76c24959a0c5305ae4110f65",
        "IPY_MODEL_825fbf009c024e0ea765d96cd84373df"
       ],
       "layout": "IPY_MODEL_f13162a90d4d4d0cae38c61f953f5121"
      }
     },
     "875333c7e40549e58b43b2a1c1d5d316": {
      "model_module": "@jupyter-widgets/controls",
      "model_module_version": "1.5.0",
      "model_name": "IntSliderModel",
      "state": {
       "description": "min_samples_split",
       "layout": "IPY_MODEL_258632679d5648c19e6fb65b04d0eee1",
       "max": 6,
       "min": -2,
       "style": "IPY_MODEL_eb5155b5c1c243dbaf40ddafb5e9fa38"
      }
     },
     "87b7c54897ba467480f075d225a8529a": {
      "model_module": "@jupyter-widgets/output",
      "model_module_version": "1.0.0",
      "model_name": "OutputModel",
      "state": {
       "layout": "IPY_MODEL_97e507e2d86147078bc2be7b27534ba3",
       "outputs": [
        {
         "data": {
          "image/png": "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\n",
          "text/plain": "<Figure size 720x432 with 1 Axes>"
         },
         "metadata": {
          "needs_background": "light"
         },
         "output_type": "display_data"
        }
       ]
      }
     },
     "87bbca86dc334751b84d2eca5306c8d5": {
      "model_module": "@jupyter-widgets/controls",
      "model_module_version": "1.5.0",
      "model_name": "VBoxModel",
      "state": {
       "_dom_classes": [
        "widget-interact"
       ],
       "children": [
        "IPY_MODEL_f2cc39427eac4472a5087df831425d9a",
        "IPY_MODEL_2382be5157284b0f9a8bfad6637fc7d9",
        "IPY_MODEL_3e8e8e04e3d54090852a967fac175b88",
        "IPY_MODEL_332202437b344b6f877a1ad1dd6b7cb1",
        "IPY_MODEL_a9f2067c593a4580b5f3f38830bd2c24",
        "IPY_MODEL_579f37688fba4bffaeeec516c372f012"
       ],
       "layout": "IPY_MODEL_f4cc0ad271854913b197ccb0f816fb28"
      }
     },
     "88d5bdf0eb964b5aa6c409ff697b3ea4": {
      "model_module": "@jupyter-widgets/controls",
      "model_module_version": "1.5.0",
      "model_name": "SliderStyleModel",
      "state": {
       "description_width": ""
      }
     },
     "892ae611fcf44716b3b4095ab7a68a80": {
      "model_module": "@jupyter-widgets/controls",
      "model_module_version": "1.5.0",
      "model_name": "IntSliderModel",
      "state": {
       "description": "max_depth",
       "layout": "IPY_MODEL_fcc9e33d82d0479cb699cc6f311190d4",
       "max": 15,
       "min": 1,
       "style": "IPY_MODEL_751db5dad76d4652a11416054236b36b",
       "value": 15
      }
     },
     "8acfa54c226f4fa0a304f02cf2a6b245": {
      "model_module": "@jupyter-widgets/controls",
      "model_module_version": "1.5.0",
      "model_name": "SliderStyleModel",
      "state": {
       "description_width": ""
      }
     },
     "8afdeda091234136a26776e8bbeaa46b": {
      "model_module": "@jupyter-widgets/output",
      "model_module_version": "1.0.0",
      "model_name": "OutputModel",
      "state": {
       "layout": "IPY_MODEL_391d0e8c12c64f7cba7aa5a433fd7224",
       "outputs": [
        {
         "data": {
          "image/png": "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\n",
          "text/plain": "<Figure size 720x432 with 1 Axes>"
         },
         "metadata": {
          "needs_background": "light"
         },
         "output_type": "display_data"
        }
       ]
      }
     },
     "8be5c4365e6d4e4ca3d4d8f72241af94": {
      "model_module": "@jupyter-widgets/base",
      "model_module_version": "1.2.0",
      "model_name": "LayoutModel",
      "state": {}
     },
     "8d0c0006df4a426e8903b6ae58e552c2": {
      "model_module": "@jupyter-widgets/controls",
      "model_module_version": "1.5.0",
      "model_name": "IntSliderModel",
      "state": {
       "description": "max_features",
       "layout": "IPY_MODEL_3de9609d214b46739146977d41626fd9",
       "max": 2,
       "min": 1,
       "style": "IPY_MODEL_31a974597c074c1c97db534c726eae30",
       "value": 2
      }
     },
     "8f833f8983f9403da6655c13dc59b023": {
      "model_module": "@jupyter-widgets/base",
      "model_module_version": "1.2.0",
      "model_name": "LayoutModel",
      "state": {}
     },
     "8fb5f25c4a234feba4125dd3766335be": {
      "model_module": "@jupyter-widgets/controls",
      "model_module_version": "1.5.0",
      "model_name": "SliderStyleModel",
      "state": {
       "description_width": ""
      }
     },
     "8feb09bd558b463692078e990df5e2ec": {
      "model_module": "@jupyter-widgets/controls",
      "model_module_version": "1.5.0",
      "model_name": "SliderStyleModel",
      "state": {
       "description_width": ""
      }
     },
     "90755a2d75e7406ab49a372f6bcea9ad": {
      "model_module": "@jupyter-widgets/base",
      "model_module_version": "1.2.0",
      "model_name": "LayoutModel",
      "state": {}
     },
     "908de08756af40d9ad2ff693e61cb512": {
      "model_module": "@jupyter-widgets/controls",
      "model_module_version": "1.5.0",
      "model_name": "SliderStyleModel",
      "state": {
       "description_width": ""
      }
     },
     "92153846561143acb4187033c5eddc6d": {
      "model_module": "@jupyter-widgets/base",
      "model_module_version": "1.2.0",
      "model_name": "LayoutModel",
      "state": {}
     },
     "9277de8925bb446ca63dd73c9068b835": {
      "model_module": "@jupyter-widgets/base",
      "model_module_version": "1.2.0",
      "model_name": "LayoutModel",
      "state": {}
     },
     "927f5fe0d867430a9f0a2abf258e3b93": {
      "model_module": "@jupyter-widgets/base",
      "model_module_version": "1.2.0",
      "model_name": "LayoutModel",
      "state": {}
     },
     "92f68f9425b64c7fad7d498e9e22f70b": {
      "model_module": "@jupyter-widgets/base",
      "model_module_version": "1.2.0",
      "model_name": "LayoutModel",
      "state": {}
     },
     "9376cce0a2b045de84d4b0f7da9c8290": {
      "model_module": "@jupyter-widgets/controls",
      "model_module_version": "1.5.0",
      "model_name": "FloatSliderModel",
      "state": {
       "description": "min_samples_leaf",
       "layout": "IPY_MODEL_c7d78a38b0b4492e8fb4d60b6f72bccb",
       "max": 1,
       "min": 0.001,
       "step": 0.1,
       "style": "IPY_MODEL_e3edbd7aa5cc4cb5891c95f2c2fcc745",
       "value": 0.901
      }
     },
     "94027699f0034ef1b6ca49c611b60642": {
      "model_module": "@jupyter-widgets/controls",
      "model_module_version": "1.5.0",
      "model_name": "FloatSliderModel",
      "state": {
       "description": "min_samples_leaf",
       "layout": "IPY_MODEL_50f5d6d591aa464cbc3f26f7c13cb9cb",
       "max": 1,
       "min": 0.001,
       "step": 0.1,
       "style": "IPY_MODEL_0cc535069a08427d92508f643bc01969",
       "value": 0.401
      }
     },
     "954a56973ba34eca8f5946af34b72313": {
      "model_module": "@jupyter-widgets/base",
      "model_module_version": "1.2.0",
      "model_name": "LayoutModel",
      "state": {}
     },
     "954b90ffd72a45c3bac5de03ebece621": {
      "model_module": "@jupyter-widgets/base",
      "model_module_version": "1.2.0",
      "model_name": "LayoutModel",
      "state": {}
     },
     "97dc05f97c804fc1a9a23aa05cce7dc2": {
      "model_module": "@jupyter-widgets/controls",
      "model_module_version": "1.5.0",
      "model_name": "SliderStyleModel",
      "state": {
       "description_width": ""
      }
     },
     "97de591478404fff941f1f9bbef144c0": {
      "model_module": "@jupyter-widgets/controls",
      "model_module_version": "1.5.0",
      "model_name": "IntSliderModel",
      "state": {
       "description": "max_leaf_nodes",
       "layout": "IPY_MODEL_724c008de84f4c42adcc8a0954dc1ae7",
       "max": 10,
       "min": 2,
       "style": "IPY_MODEL_097cba9db9814602a60bb2ff7e6a34f0",
       "value": 2
      }
     },
     "97e507e2d86147078bc2be7b27534ba3": {
      "model_module": "@jupyter-widgets/base",
      "model_module_version": "1.2.0",
      "model_name": "LayoutModel",
      "state": {}
     },
     "98092b32a83a4b6ea95f935f3a35e394": {
      "model_module": "@jupyter-widgets/controls",
      "model_module_version": "1.5.0",
      "model_name": "SliderStyleModel",
      "state": {
       "description_width": ""
      }
     },
     "98b0171c3d284cc9beaf42fe3ad78e23": {
      "model_module": "@jupyter-widgets/controls",
      "model_module_version": "1.5.0",
      "model_name": "SliderStyleModel",
      "state": {
       "description_width": ""
      }
     },
     "9925403cd9394c998a67d1a1fd2ab5a5": {
      "model_module": "@jupyter-widgets/controls",
      "model_module_version": "1.5.0",
      "model_name": "SliderStyleModel",
      "state": {
       "description_width": ""
      }
     },
     "9a981e793154461b985b5f419a4540c2": {
      "model_module": "@jupyter-widgets/base",
      "model_module_version": "1.2.0",
      "model_name": "LayoutModel",
      "state": {}
     },
     "9b99f9c651fe4375bbcce2dde01c55ad": {
      "model_module": "@jupyter-widgets/controls",
      "model_module_version": "1.5.0",
      "model_name": "IntSliderModel",
      "state": {
       "description": "min_samples_split",
       "layout": "IPY_MODEL_21cb754e877e4e0ba1be865eaf49bd28",
       "max": 6,
       "min": -2,
       "style": "IPY_MODEL_0c891032cf4645e7af343789f20640cc",
       "value": 2
      }
     },
     "9baab6786652461abf419dc318b9cb0a": {
      "model_module": "@jupyter-widgets/base",
      "model_module_version": "1.2.0",
      "model_name": "LayoutModel",
      "state": {}
     },
     "9be04c33199140d78b7fc43afa53aafa": {
      "model_module": "@jupyter-widgets/controls",
      "model_module_version": "1.5.0",
      "model_name": "VBoxModel",
      "state": {
       "_dom_classes": [
        "widget-interact"
       ],
       "children": [
        "IPY_MODEL_9ec62af8559f47f79ad2919cd1781179",
        "IPY_MODEL_4a7205ab2bd34246ad18eaf89e8501cb",
        "IPY_MODEL_6ab97725ce6743c7a62e0b5bbdc63a92"
       ],
       "layout": "IPY_MODEL_d3eaf164bc914303990c9cbd64a64f75"
      }
     },
     "9c3850dc7d26475288f68974b7d5800a": {
      "model_module": "@jupyter-widgets/controls",
      "model_module_version": "1.5.0",
      "model_name": "IntSliderModel",
      "state": {
       "description": "min_samples_leaf",
       "layout": "IPY_MODEL_f7489b7a5afe4ccaae2739219d641023",
       "max": 6,
       "min": -2,
       "style": "IPY_MODEL_49bf1c941efe4c8ea3075fc839f21e07",
       "value": 2
      }
     },
     "9c61545e065741e595825349aec01e12": {
      "model_module": "@jupyter-widgets/base",
      "model_module_version": "1.2.0",
      "model_name": "LayoutModel",
      "state": {}
     },
     "9e3e9b617923412fb2c4ae3a0c92c081": {
      "model_module": "@jupyter-widgets/base",
      "model_module_version": "1.2.0",
      "model_name": "LayoutModel",
      "state": {}
     },
     "9e5a8114b9c94298b92141d7517ac157": {
      "model_module": "@jupyter-widgets/base",
      "model_module_version": "1.2.0",
      "model_name": "LayoutModel",
      "state": {}
     },
     "9ec62af8559f47f79ad2919cd1781179": {
      "model_module": "@jupyter-widgets/controls",
      "model_module_version": "1.5.0",
      "model_name": "IntSliderModel",
      "state": {
       "description": "max_depth",
       "layout": "IPY_MODEL_ecd8b162c1d44f62bb7bd2885852584b",
       "max": 15,
       "min": 1,
       "style": "IPY_MODEL_47a09522a6f649e9abcc8105a4ec5efb",
       "value": 2
      }
     },
     "a1b9af80f25d42528f818ed5e93fb7c5": {
      "model_module": "@jupyter-widgets/controls",
      "model_module_version": "1.5.0",
      "model_name": "SliderStyleModel",
      "state": {
       "description_width": ""
      }
     },
     "a29ef283f3754b3ea624088aeb35eecc": {
      "model_module": "@jupyter-widgets/controls",
      "model_module_version": "1.5.0",
      "model_name": "IntSliderModel",
      "state": {
       "description": "max_depth",
       "layout": "IPY_MODEL_5c570de3096a4b7e8b2f72ab82b21390",
       "max": 15,
       "min": 1,
       "style": "IPY_MODEL_6ad9885b2897462ba5793bfc040002e0",
       "value": 2
      }
     },
     "a44afab4780e4638b39d726faf04ed9d": {
      "model_module": "@jupyter-widgets/base",
      "model_module_version": "1.2.0",
      "model_name": "LayoutModel",
      "state": {}
     },
     "a6d8994648e0434385a1aa68dd89eaf3": {
      "model_module": "@jupyter-widgets/controls",
      "model_module_version": "1.5.0",
      "model_name": "SliderStyleModel",
      "state": {
       "description_width": ""
      }
     },
     "a6ea90210a7a4021916b51c5dd9be628": {
      "model_module": "@jupyter-widgets/base",
      "model_module_version": "1.2.0",
      "model_name": "LayoutModel",
      "state": {}
     },
     "a73329fe50c24e5987251d37306418ea": {
      "model_module": "@jupyter-widgets/controls",
      "model_module_version": "1.5.0",
      "model_name": "IntSliderModel",
      "state": {
       "description": "min_samples_split",
       "layout": "IPY_MODEL_4b815a529579463eaa55cf8f5d0f9f7c",
       "max": 6,
       "min": -2,
       "style": "IPY_MODEL_15a814f45a3c47ed8b5928eac52e5851",
       "value": 2
      }
     },
     "a767c94141c94498bcfd50de17488e87": {
      "model_module": "@jupyter-widgets/controls",
      "model_module_version": "1.5.0",
      "model_name": "SliderStyleModel",
      "state": {
       "description_width": ""
      }
     },
     "a772f8fc1799445ab2a9de32a65cdb1f": {
      "model_module": "@jupyter-widgets/base",
      "model_module_version": "1.2.0",
      "model_name": "LayoutModel",
      "state": {}
     },
     "a77baea9dd234bc0b57bdbc362189a6d": {
      "model_module": "@jupyter-widgets/controls",
      "model_module_version": "1.5.0",
      "model_name": "SliderStyleModel",
      "state": {
       "description_width": ""
      }
     },
     "a830763b77a042dda66daa2cd955b1c2": {
      "model_module": "@jupyter-widgets/controls",
      "model_module_version": "1.5.0",
      "model_name": "SliderStyleModel",
      "state": {
       "description_width": ""
      }
     },
     "a9591e794c72489d937f18cc2e93dc3b": {
      "model_module": "@jupyter-widgets/output",
      "model_module_version": "1.0.0",
      "model_name": "OutputModel",
      "state": {
       "layout": "IPY_MODEL_cdb557e3ca59413ebccb9a30bbffe250"
      }
     },
     "a9f2067c593a4580b5f3f38830bd2c24": {
      "model_module": "@jupyter-widgets/controls",
      "model_module_version": "1.5.0",
      "model_name": "IntSliderModel",
      "state": {
       "description": "max_leaf_nodes",
       "layout": "IPY_MODEL_6a45a28c96854df2b7bc02065e4aa65a",
       "max": 10,
       "min": 2,
       "style": "IPY_MODEL_97dc05f97c804fc1a9a23aa05cce7dc2",
       "value": 10
      }
     },
     "a9f295be16a247078e47bf3e382624af": {
      "model_module": "@jupyter-widgets/base",
      "model_module_version": "1.2.0",
      "model_name": "LayoutModel",
      "state": {}
     },
     "aa4c2f581ee34718add590013131f9d3": {
      "model_module": "@jupyter-widgets/base",
      "model_module_version": "1.2.0",
      "model_name": "LayoutModel",
      "state": {}
     },
     "ac97f855b8df49ffbe0531b089edf9ff": {
      "model_module": "@jupyter-widgets/controls",
      "model_module_version": "1.5.0",
      "model_name": "SliderStyleModel",
      "state": {
       "description_width": ""
      }
     },
     "acf7af9aded84d11ad28c280e23a1c85": {
      "model_module": "@jupyter-widgets/base",
      "model_module_version": "1.2.0",
      "model_name": "LayoutModel",
      "state": {}
     },
     "add4855644314c9a84fce539506169b1": {
      "model_module": "@jupyter-widgets/controls",
      "model_module_version": "1.5.0",
      "model_name": "SliderStyleModel",
      "state": {
       "description_width": ""
      }
     },
     "ae9707079a0f46fe842c0358e949ef42": {
      "model_module": "@jupyter-widgets/controls",
      "model_module_version": "1.5.0",
      "model_name": "VBoxModel",
      "state": {
       "_dom_classes": [
        "widget-interact"
       ],
       "children": [
        "IPY_MODEL_d8b73853c6a64404b8a2fc8fd5208e5d",
        "IPY_MODEL_710fa9d845144a66a8649e738eb51b57",
        "IPY_MODEL_94027699f0034ef1b6ca49c611b60642",
        "IPY_MODEL_7fa095b3560f405194756bc859c6f4cc",
        "IPY_MODEL_07d153bbcdb642389b661fe1d407cc7d",
        "IPY_MODEL_c5f9e072844d4bc6b38155df3dceda84"
       ],
       "layout": "IPY_MODEL_cce25e08f92a46dda175592b58dfb39a"
      }
     },
     "af74f1344b0c408982b4088ad38ac093": {
      "model_module": "@jupyter-widgets/base",
      "model_module_version": "1.2.0",
      "model_name": "LayoutModel",
      "state": {}
     },
     "b190d7738cca46f086c2b85e4b73c47b": {
      "model_module": "@jupyter-widgets/controls",
      "model_module_version": "1.5.0",
      "model_name": "IntSliderModel",
      "state": {
       "description": "min_samples_split",
       "layout": "IPY_MODEL_4809435da8994388bed05a8973633cb8",
       "max": 6,
       "min": -2,
       "style": "IPY_MODEL_e77ed315db764a219854dd67cb982d99",
       "value": 2
      }
     },
     "b28fe899d3894cb3bee3dad04fc2d80e": {
      "model_module": "@jupyter-widgets/base",
      "model_module_version": "1.2.0",
      "model_name": "LayoutModel",
      "state": {}
     },
     "b3f4054457f54b729bfb6f25f33bd25f": {
      "model_module": "@jupyter-widgets/base",
      "model_module_version": "1.2.0",
      "model_name": "LayoutModel",
      "state": {}
     },
     "b439286fb98840b194b74ec7fc0ddc83": {
      "model_module": "@jupyter-widgets/controls",
      "model_module_version": "1.5.0",
      "model_name": "SliderStyleModel",
      "state": {
       "description_width": ""
      }
     },
     "b49600005431471ab0e0ba9fc633f6e9": {
      "model_module": "@jupyter-widgets/controls",
      "model_module_version": "1.5.0",
      "model_name": "SliderStyleModel",
      "state": {
       "description_width": ""
      }
     },
     "b5290a4771d54e72aefceb7ab40d1ff3": {
      "model_module": "@jupyter-widgets/controls",
      "model_module_version": "1.5.0",
      "model_name": "SliderStyleModel",
      "state": {
       "description_width": ""
      }
     },
     "b7493c8c57f147549756d313a7bd9308": {
      "model_module": "@jupyter-widgets/base",
      "model_module_version": "1.2.0",
      "model_name": "LayoutModel",
      "state": {}
     },
     "b77f7d2017dd4ae5a8ba379c76da692d": {
      "model_module": "@jupyter-widgets/controls",
      "model_module_version": "1.5.0",
      "model_name": "SliderStyleModel",
      "state": {
       "description_width": ""
      }
     },
     "b8edf57d71af48458f5f8264b69fd4c5": {
      "model_module": "@jupyter-widgets/output",
      "model_module_version": "1.0.0",
      "model_name": "OutputModel",
      "state": {
       "layout": "IPY_MODEL_69dceb27ee5343a3aea3185fca1d263d",
       "outputs": [
        {
         "data": {
          "image/png": "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\n",
          "text/plain": "<Figure size 720x432 with 1 Axes>"
         },
         "metadata": {
          "needs_background": "light"
         },
         "output_type": "display_data"
        }
       ]
      }
     },
     "b95057442fc64fc39205c8391f33fae4": {
      "model_module": "@jupyter-widgets/controls",
      "model_module_version": "1.5.0",
      "model_name": "SliderStyleModel",
      "state": {
       "description_width": ""
      }
     },
     "b98bba9d68e64932bc7dd29febcd08c0": {
      "model_module": "@jupyter-widgets/controls",
      "model_module_version": "1.5.0",
      "model_name": "SliderStyleModel",
      "state": {
       "description_width": ""
      }
     },
     "ba99a6c7763f4537a6f19648c64147e1": {
      "model_module": "@jupyter-widgets/controls",
      "model_module_version": "1.5.0",
      "model_name": "IntSliderModel",
      "state": {
       "description": "min_samples_split",
       "layout": "IPY_MODEL_576edf25f2e64dc699dc1e8174e9c61c",
       "max": 6,
       "min": -2,
       "style": "IPY_MODEL_a767c94141c94498bcfd50de17488e87",
       "value": 2
      }
     },
     "ba9c0d6a838747d6b78e679a6dfbda08": {
      "model_module": "@jupyter-widgets/base",
      "model_module_version": "1.2.0",
      "model_name": "LayoutModel",
      "state": {}
     },
     "bae094b349fb4a949b724f369416e8c9": {
      "model_module": "@jupyter-widgets/controls",
      "model_module_version": "1.5.0",
      "model_name": "IntSliderModel",
      "state": {
       "description": "min_samples_split",
       "layout": "IPY_MODEL_252f85dae1174a9a80a5646a169e7535",
       "max": 6,
       "min": -2,
       "style": "IPY_MODEL_140e40489d004abc9768984063ccf0ca",
       "value": 2
      }
     },
     "bb8b3719163c4b22ae8e40bec0f458ed": {
      "model_module": "@jupyter-widgets/controls",
      "model_module_version": "1.5.0",
      "model_name": "IntSliderModel",
      "state": {
       "description": "max_depth",
       "layout": "IPY_MODEL_419e6a088cb64cc99dd154bb01f193f8",
       "max": 15,
       "min": 1,
       "style": "IPY_MODEL_673e212c974744789a94c93b75f9bb6a",
       "value": 15
      }
     },
     "bc7f1370638044e19e36689ca2a0515b": {
      "model_module": "@jupyter-widgets/base",
      "model_module_version": "1.2.0",
      "model_name": "LayoutModel",
      "state": {}
     },
     "bcb9d2dcd0b348f7b4320216db709bae": {
      "model_module": "@jupyter-widgets/base",
      "model_module_version": "1.2.0",
      "model_name": "LayoutModel",
      "state": {}
     },
     "bdc3b6a7fbdf4897bf3ee87d5aa9050e": {
      "model_module": "@jupyter-widgets/base",
      "model_module_version": "1.2.0",
      "model_name": "LayoutModel",
      "state": {}
     },
     "bea9fe06b4b44307bd184ccf0678cbf2": {
      "model_module": "@jupyter-widgets/base",
      "model_module_version": "1.2.0",
      "model_name": "LayoutModel",
      "state": {}
     },
     "c0631d3fe8d5435491ecf92b9ed82718": {
      "model_module": "@jupyter-widgets/base",
      "model_module_version": "1.2.0",
      "model_name": "LayoutModel",
      "state": {}
     },
     "c0dd4b09bb84405cb90d283ec045829e": {
      "model_module": "@jupyter-widgets/base",
      "model_module_version": "1.2.0",
      "model_name": "LayoutModel",
      "state": {}
     },
     "c0ff78afc7a4424d9d11612c7f9548fe": {
      "model_module": "@jupyter-widgets/base",
      "model_module_version": "1.2.0",
      "model_name": "LayoutModel",
      "state": {}
     },
     "c245f18f19ee4829954164a2561b4182": {
      "model_module": "@jupyter-widgets/output",
      "model_module_version": "1.0.0",
      "model_name": "OutputModel",
      "state": {
       "layout": "IPY_MODEL_0f3b6786341041f2a1d8b956d7835ba5",
       "outputs": [
        {
         "ename": "ValueError",
         "evalue": "min_samples_split must be an integer greater than 1 or a float in (0.0, 1.0]; got the integer 0",
         "output_type": "error",
         "traceback": [
          "\u001b[0;31m----------------------------------------------------------------\u001b[0m",
          "\u001b[0;31mValueError\u001b[0m                     Traceback (most recent call last)",
          "\u001b[0;32m~/anaconda3/envs/dat158/lib/python3.6/site-packages/ipywidgets/widgets/interaction.py\u001b[0m in \u001b[0;36mupdate\u001b[0;34m(self, *args)\u001b[0m\n\u001b[1;32m    249\u001b[0m                     \u001b[0mvalue\u001b[0m \u001b[0;34m=\u001b[0m \u001b[0mwidget\u001b[0m\u001b[0;34m.\u001b[0m\u001b[0mget_interact_value\u001b[0m\u001b[0;34m(\u001b[0m\u001b[0;34m)\u001b[0m\u001b[0;34m\u001b[0m\u001b[0m\n\u001b[1;32m    250\u001b[0m                     \u001b[0mself\u001b[0m\u001b[0;34m.\u001b[0m\u001b[0mkwargs\u001b[0m\u001b[0;34m[\u001b[0m\u001b[0mwidget\u001b[0m\u001b[0;34m.\u001b[0m\u001b[0m_kwarg\u001b[0m\u001b[0;34m]\u001b[0m \u001b[0;34m=\u001b[0m \u001b[0mvalue\u001b[0m\u001b[0;34m\u001b[0m\u001b[0m\n\u001b[0;32m--> 251\u001b[0;31m                 \u001b[0mself\u001b[0m\u001b[0;34m.\u001b[0m\u001b[0mresult\u001b[0m \u001b[0;34m=\u001b[0m \u001b[0mself\u001b[0m\u001b[0;34m.\u001b[0m\u001b[0mf\u001b[0m\u001b[0;34m(\u001b[0m\u001b[0;34m**\u001b[0m\u001b[0mself\u001b[0m\u001b[0;34m.\u001b[0m\u001b[0mkwargs\u001b[0m\u001b[0;34m)\u001b[0m\u001b[0;34m\u001b[0m\u001b[0m\n\u001b[0m\u001b[1;32m    252\u001b[0m                 \u001b[0mshow_inline_matplotlib_plots\u001b[0m\u001b[0;34m(\u001b[0m\u001b[0;34m)\u001b[0m\u001b[0;34m\u001b[0m\u001b[0m\n\u001b[1;32m    253\u001b[0m                 \u001b[0;32mif\u001b[0m \u001b[0mself\u001b[0m\u001b[0;34m.\u001b[0m\u001b[0mauto_display\u001b[0m \u001b[0;32mand\u001b[0m \u001b[0mself\u001b[0m\u001b[0;34m.\u001b[0m\u001b[0mresult\u001b[0m \u001b[0;32mis\u001b[0m \u001b[0;32mnot\u001b[0m \u001b[0;32mNone\u001b[0m\u001b[0;34m:\u001b[0m\u001b[0;34m\u001b[0m\u001b[0m\n",
          "\u001b[0;32m<ipython-input-80-227458d796df>\u001b[0m in \u001b[0;36mmake_decision_tree\u001b[0;34m(max_depth, min_samples_split, min_samples_leaf, max_features, max_leaf_nodes)\u001b[0m\n\u001b[1;32m      8\u001b[0m                                      )\n\u001b[1;32m      9\u001b[0m \u001b[0;34m\u001b[0m\u001b[0m\n\u001b[0;32m---> 10\u001b[0;31m     \u001b[0mtree_clf\u001b[0m\u001b[0;34m.\u001b[0m\u001b[0mfit\u001b[0m\u001b[0;34m(\u001b[0m\u001b[0mXm\u001b[0m\u001b[0;34m,\u001b[0m \u001b[0mym\u001b[0m\u001b[0;34m)\u001b[0m\u001b[0;34m\u001b[0m\u001b[0m\n\u001b[0m\u001b[1;32m     11\u001b[0m \u001b[0;34m\u001b[0m\u001b[0m\n\u001b[1;32m     12\u001b[0m     \u001b[0m_\u001b[0m \u001b[0;34m=\u001b[0m \u001b[0mplot_decision_boundary\u001b[0m\u001b[0;34m(\u001b[0m\u001b[0mtree_clf\u001b[0m\u001b[0;34m,\u001b[0m \u001b[0mXm\u001b[0m\u001b[0;34m,\u001b[0m \u001b[0mym\u001b[0m\u001b[0;34m)\u001b[0m\u001b[0;34m\u001b[0m\u001b[0m\n",
          "\u001b[0;32m~/anaconda3/envs/dat158/lib/python3.6/site-packages/sklearn/tree/tree.py\u001b[0m in \u001b[0;36mfit\u001b[0;34m(self, X, y, sample_weight, check_input, X_idx_sorted)\u001b[0m\n\u001b[1;32m    788\u001b[0m             \u001b[0msample_weight\u001b[0m\u001b[0;34m=\u001b[0m\u001b[0msample_weight\u001b[0m\u001b[0;34m,\u001b[0m\u001b[0;34m\u001b[0m\u001b[0m\n\u001b[1;32m    789\u001b[0m             \u001b[0mcheck_input\u001b[0m\u001b[0;34m=\u001b[0m\u001b[0mcheck_input\u001b[0m\u001b[0;34m,\u001b[0m\u001b[0;34m\u001b[0m\u001b[0m\n\u001b[0;32m--> 790\u001b[0;31m             X_idx_sorted=X_idx_sorted)\n\u001b[0m\u001b[1;32m    791\u001b[0m         \u001b[0;32mreturn\u001b[0m \u001b[0mself\u001b[0m\u001b[0;34m\u001b[0m\u001b[0m\n\u001b[1;32m    792\u001b[0m \u001b[0;34m\u001b[0m\u001b[0m\n",
          "\u001b[0;32m~/anaconda3/envs/dat158/lib/python3.6/site-packages/sklearn/tree/tree.py\u001b[0m in \u001b[0;36mfit\u001b[0;34m(self, X, y, sample_weight, check_input, X_idx_sorted)\u001b[0m\n\u001b[1;32m    192\u001b[0m                                  \u001b[0;34m\"greater than 1 or a float in (0.0, 1.0]; \"\u001b[0m\u001b[0;34m\u001b[0m\u001b[0m\n\u001b[1;32m    193\u001b[0m                                  \u001b[0;34m\"got the integer %s\"\u001b[0m\u001b[0;34m\u001b[0m\u001b[0m\n\u001b[0;32m--> 194\u001b[0;31m                                  % self.min_samples_split)\n\u001b[0m\u001b[1;32m    195\u001b[0m             \u001b[0mmin_samples_split\u001b[0m \u001b[0;34m=\u001b[0m \u001b[0mself\u001b[0m\u001b[0;34m.\u001b[0m\u001b[0mmin_samples_split\u001b[0m\u001b[0;34m\u001b[0m\u001b[0m\n\u001b[1;32m    196\u001b[0m         \u001b[0;32melse\u001b[0m\u001b[0;34m:\u001b[0m  \u001b[0;31m# float\u001b[0m\u001b[0;34m\u001b[0m\u001b[0m\n",
          "\u001b[0;31mValueError\u001b[0m: min_samples_split must be an integer greater than 1 or a float in (0.0, 1.0]; got the integer 0"
         ]
        }
       ]
      }
     },
     "c25ab4eccd204d5f8c0c38904faffdbe": {
      "model_module": "@jupyter-widgets/controls",
      "model_module_version": "1.5.0",
      "model_name": "VBoxModel",
      "state": {
       "_dom_classes": [
        "widget-interact"
       ],
       "children": [
        "IPY_MODEL_bb8b3719163c4b22ae8e40bec0f458ed",
        "IPY_MODEL_1c5a7d308b594c339b62ff5482f9c257",
        "IPY_MODEL_f6b21a7a0f1d402a9d7ce5327c74a59e",
        "IPY_MODEL_d04ce79e624c4b4ea5087d6714e80de4",
        "IPY_MODEL_e6087863c6c24a0d80cbd855b5707948",
        "IPY_MODEL_3c6cf93545154a11b85594d6b44c6dad"
       ],
       "layout": "IPY_MODEL_80d6d63f201642ae999f0efcadf1c421"
      }
     },
     "c2710c638fae4f41944966329b2069e8": {
      "model_module": "@jupyter-widgets/controls",
      "model_module_version": "1.5.0",
      "model_name": "IntSliderModel",
      "state": {
       "description": "min_samples_leaf",
       "layout": "IPY_MODEL_ed9be1d4c8ea4966947aa665ee3d3d5d",
       "max": 3,
       "min": -1,
       "style": "IPY_MODEL_615429250556414f938aca275fe07f97",
       "value": 1
      }
     },
     "c2f353656790481fba36c282fbb95ef7": {
      "model_module": "@jupyter-widgets/controls",
      "model_module_version": "1.5.0",
      "model_name": "FloatSliderModel",
      "state": {
       "description": "min_samples_split",
       "layout": "IPY_MODEL_f8b18030ee644b78bf428c152af9c1a4",
       "max": 1,
       "min": 0.001,
       "step": 0.1,
       "style": "IPY_MODEL_a830763b77a042dda66daa2cd955b1c2",
       "value": 0.901
      }
     },
     "c343991acaa2427885507ce64ee9ce28": {
      "model_module": "@jupyter-widgets/controls",
      "model_module_version": "1.5.0",
      "model_name": "IntSliderModel",
      "state": {
       "description": "min_samples_split",
       "layout": "IPY_MODEL_20f669d44f834be6894c18682b700bf9",
       "max": 6,
       "min": -2,
       "style": "IPY_MODEL_07666a75ee154ffab9e00cc4ab2ea839",
       "value": 2
      }
     },
     "c3fce4d613ef416b8c3e62c6a6d21d60": {
      "model_module": "@jupyter-widgets/base",
      "model_module_version": "1.2.0",
      "model_name": "LayoutModel",
      "state": {}
     },
     "c58257eaf3014f79b21058bd2c113f11": {
      "model_module": "@jupyter-widgets/controls",
      "model_module_version": "1.5.0",
      "model_name": "SliderStyleModel",
      "state": {
       "description_width": ""
      }
     },
     "c5d5c3f96fe047958de1f5a261c0185b": {
      "model_module": "@jupyter-widgets/base",
      "model_module_version": "1.2.0",
      "model_name": "LayoutModel",
      "state": {}
     },
     "c5f9e072844d4bc6b38155df3dceda84": {
      "model_module": "@jupyter-widgets/output",
      "model_module_version": "1.0.0",
      "model_name": "OutputModel",
      "state": {
       "layout": "IPY_MODEL_8f833f8983f9403da6655c13dc59b023",
       "outputs": [
        {
         "ename": "ValueError",
         "evalue": "min_samples_split must be an integer greater than 1 or a float in (0.0, 1.0]; got the integer 1",
         "output_type": "error",
         "traceback": [
          "\u001b[0;31m----------------------------------------------------------------\u001b[0m",
          "\u001b[0;31mValueError\u001b[0m                     Traceback (most recent call last)",
          "\u001b[0;32m~/anaconda3/envs/dat158/lib/python3.6/site-packages/ipywidgets/widgets/interaction.py\u001b[0m in \u001b[0;36mupdate\u001b[0;34m(self, *args)\u001b[0m\n\u001b[1;32m    249\u001b[0m                     \u001b[0mvalue\u001b[0m \u001b[0;34m=\u001b[0m \u001b[0mwidget\u001b[0m\u001b[0;34m.\u001b[0m\u001b[0mget_interact_value\u001b[0m\u001b[0;34m(\u001b[0m\u001b[0;34m)\u001b[0m\u001b[0;34m\u001b[0m\u001b[0m\n\u001b[1;32m    250\u001b[0m                     \u001b[0mself\u001b[0m\u001b[0;34m.\u001b[0m\u001b[0mkwargs\u001b[0m\u001b[0;34m[\u001b[0m\u001b[0mwidget\u001b[0m\u001b[0;34m.\u001b[0m\u001b[0m_kwarg\u001b[0m\u001b[0;34m]\u001b[0m \u001b[0;34m=\u001b[0m \u001b[0mvalue\u001b[0m\u001b[0;34m\u001b[0m\u001b[0m\n\u001b[0;32m--> 251\u001b[0;31m                 \u001b[0mself\u001b[0m\u001b[0;34m.\u001b[0m\u001b[0mresult\u001b[0m \u001b[0;34m=\u001b[0m \u001b[0mself\u001b[0m\u001b[0;34m.\u001b[0m\u001b[0mf\u001b[0m\u001b[0;34m(\u001b[0m\u001b[0;34m**\u001b[0m\u001b[0mself\u001b[0m\u001b[0;34m.\u001b[0m\u001b[0mkwargs\u001b[0m\u001b[0;34m)\u001b[0m\u001b[0;34m\u001b[0m\u001b[0m\n\u001b[0m\u001b[1;32m    252\u001b[0m                 \u001b[0mshow_inline_matplotlib_plots\u001b[0m\u001b[0;34m(\u001b[0m\u001b[0;34m)\u001b[0m\u001b[0;34m\u001b[0m\u001b[0m\n\u001b[1;32m    253\u001b[0m                 \u001b[0;32mif\u001b[0m \u001b[0mself\u001b[0m\u001b[0;34m.\u001b[0m\u001b[0mauto_display\u001b[0m \u001b[0;32mand\u001b[0m \u001b[0mself\u001b[0m\u001b[0;34m.\u001b[0m\u001b[0mresult\u001b[0m \u001b[0;32mis\u001b[0m \u001b[0;32mnot\u001b[0m \u001b[0;32mNone\u001b[0m\u001b[0;34m:\u001b[0m\u001b[0;34m\u001b[0m\u001b[0m\n",
          "\u001b[0;32m<ipython-input-80-227458d796df>\u001b[0m in \u001b[0;36mmake_decision_tree\u001b[0;34m(max_depth, min_samples_split, min_samples_leaf, max_features, max_leaf_nodes)\u001b[0m\n\u001b[1;32m      8\u001b[0m                                      )\n\u001b[1;32m      9\u001b[0m \u001b[0;34m\u001b[0m\u001b[0m\n\u001b[0;32m---> 10\u001b[0;31m     \u001b[0mtree_clf\u001b[0m\u001b[0;34m.\u001b[0m\u001b[0mfit\u001b[0m\u001b[0;34m(\u001b[0m\u001b[0mXm\u001b[0m\u001b[0;34m,\u001b[0m \u001b[0mym\u001b[0m\u001b[0;34m)\u001b[0m\u001b[0;34m\u001b[0m\u001b[0m\n\u001b[0m\u001b[1;32m     11\u001b[0m \u001b[0;34m\u001b[0m\u001b[0m\n\u001b[1;32m     12\u001b[0m     \u001b[0m_\u001b[0m \u001b[0;34m=\u001b[0m \u001b[0mplot_decision_boundary\u001b[0m\u001b[0;34m(\u001b[0m\u001b[0mtree_clf\u001b[0m\u001b[0;34m,\u001b[0m \u001b[0mXm\u001b[0m\u001b[0;34m,\u001b[0m \u001b[0mym\u001b[0m\u001b[0;34m)\u001b[0m\u001b[0;34m\u001b[0m\u001b[0m\n",
          "\u001b[0;32m~/anaconda3/envs/dat158/lib/python3.6/site-packages/sklearn/tree/tree.py\u001b[0m in \u001b[0;36mfit\u001b[0;34m(self, X, y, sample_weight, check_input, X_idx_sorted)\u001b[0m\n\u001b[1;32m    788\u001b[0m             \u001b[0msample_weight\u001b[0m\u001b[0;34m=\u001b[0m\u001b[0msample_weight\u001b[0m\u001b[0;34m,\u001b[0m\u001b[0;34m\u001b[0m\u001b[0m\n\u001b[1;32m    789\u001b[0m             \u001b[0mcheck_input\u001b[0m\u001b[0;34m=\u001b[0m\u001b[0mcheck_input\u001b[0m\u001b[0;34m,\u001b[0m\u001b[0;34m\u001b[0m\u001b[0m\n\u001b[0;32m--> 790\u001b[0;31m             X_idx_sorted=X_idx_sorted)\n\u001b[0m\u001b[1;32m    791\u001b[0m         \u001b[0;32mreturn\u001b[0m \u001b[0mself\u001b[0m\u001b[0;34m\u001b[0m\u001b[0m\n\u001b[1;32m    792\u001b[0m \u001b[0;34m\u001b[0m\u001b[0m\n",
          "\u001b[0;32m~/anaconda3/envs/dat158/lib/python3.6/site-packages/sklearn/tree/tree.py\u001b[0m in \u001b[0;36mfit\u001b[0;34m(self, X, y, sample_weight, check_input, X_idx_sorted)\u001b[0m\n\u001b[1;32m    192\u001b[0m                                  \u001b[0;34m\"greater than 1 or a float in (0.0, 1.0]; \"\u001b[0m\u001b[0;34m\u001b[0m\u001b[0m\n\u001b[1;32m    193\u001b[0m                                  \u001b[0;34m\"got the integer %s\"\u001b[0m\u001b[0;34m\u001b[0m\u001b[0m\n\u001b[0;32m--> 194\u001b[0;31m                                  % self.min_samples_split)\n\u001b[0m\u001b[1;32m    195\u001b[0m             \u001b[0mmin_samples_split\u001b[0m \u001b[0;34m=\u001b[0m \u001b[0mself\u001b[0m\u001b[0;34m.\u001b[0m\u001b[0mmin_samples_split\u001b[0m\u001b[0;34m\u001b[0m\u001b[0m\n\u001b[1;32m    196\u001b[0m         \u001b[0;32melse\u001b[0m\u001b[0;34m:\u001b[0m  \u001b[0;31m# float\u001b[0m\u001b[0;34m\u001b[0m\u001b[0m\n",
          "\u001b[0;31mValueError\u001b[0m: min_samples_split must be an integer greater than 1 or a float in (0.0, 1.0]; got the integer 1"
         ]
        }
       ]
      }
     },
     "c69ca16ac6964f2d90e7dd7486f7abc4": {
      "model_module": "@jupyter-widgets/controls",
      "model_module_version": "1.5.0",
      "model_name": "SliderStyleModel",
      "state": {
       "description_width": ""
      }
     },
     "c6bd4dbbb8a345349e5d67d0f0af0d2d": {
      "model_module": "@jupyter-widgets/controls",
      "model_module_version": "1.5.0",
      "model_name": "SliderStyleModel",
      "state": {
       "description_width": ""
      }
     },
     "c6d90fefa98546f99dbed5ffa5c497c7": {
      "model_module": "@jupyter-widgets/controls",
      "model_module_version": "1.5.0",
      "model_name": "SliderStyleModel",
      "state": {
       "description_width": ""
      }
     },
     "c7961d435b1e41639a56a7b86f75ffce": {
      "model_module": "@jupyter-widgets/base",
      "model_module_version": "1.2.0",
      "model_name": "LayoutModel",
      "state": {}
     },
     "c7d78a38b0b4492e8fb4d60b6f72bccb": {
      "model_module": "@jupyter-widgets/base",
      "model_module_version": "1.2.0",
      "model_name": "LayoutModel",
      "state": {}
     },
     "c8738f62799b4280a0f74b3f5717f558": {
      "model_module": "@jupyter-widgets/controls",
      "model_module_version": "1.5.0",
      "model_name": "SliderStyleModel",
      "state": {
       "description_width": ""
      }
     },
     "ca59b8bde3454da08eb53efb3643b4ed": {
      "model_module": "@jupyter-widgets/base",
      "model_module_version": "1.2.0",
      "model_name": "LayoutModel",
      "state": {}
     },
     "caaf30d7e38745799606bd9048f59229": {
      "model_module": "@jupyter-widgets/base",
      "model_module_version": "1.2.0",
      "model_name": "LayoutModel",
      "state": {}
     },
     "cad39c6ccb2f438f8f4fa4b556f777c3": {
      "model_module": "@jupyter-widgets/controls",
      "model_module_version": "1.5.0",
      "model_name": "SliderStyleModel",
      "state": {
       "description_width": ""
      }
     },
     "cce25e08f92a46dda175592b58dfb39a": {
      "model_module": "@jupyter-widgets/base",
      "model_module_version": "1.2.0",
      "model_name": "LayoutModel",
      "state": {}
     },
     "cd3e696de3604ef59c8436b5fdbd3c30": {
      "model_module": "@jupyter-widgets/controls",
      "model_module_version": "1.5.0",
      "model_name": "IntSliderModel",
      "state": {
       "description": "min_samples_split",
       "layout": "IPY_MODEL_83831586346d4134885401b969316656",
       "max": 6,
       "min": -2,
       "style": "IPY_MODEL_75760dd5e4444fde8399df0eac98151f",
       "value": 2
      }
     },
     "cdb557e3ca59413ebccb9a30bbffe250": {
      "model_module": "@jupyter-widgets/base",
      "model_module_version": "1.2.0",
      "model_name": "LayoutModel",
      "state": {}
     },
     "cdd6a319c9ef477593a1d17a53bf64e5": {
      "model_module": "@jupyter-widgets/base",
      "model_module_version": "1.2.0",
      "model_name": "LayoutModel",
      "state": {}
     },
     "d00f9cda37ae4feea98c52d94bb77cd5": {
      "model_module": "@jupyter-widgets/base",
      "model_module_version": "1.2.0",
      "model_name": "LayoutModel",
      "state": {}
     },
     "d04ce79e624c4b4ea5087d6714e80de4": {
      "model_module": "@jupyter-widgets/controls",
      "model_module_version": "1.5.0",
      "model_name": "IntSliderModel",
      "state": {
       "description": "max_features",
       "layout": "IPY_MODEL_927f5fe0d867430a9f0a2abf258e3b93",
       "max": 6,
       "min": -2,
       "style": "IPY_MODEL_241b64fea460495db928fdb365e5af77",
       "value": 2
      }
     },
     "d107f98457b64e3584ec1d3a2ec2192e": {
      "model_module": "@jupyter-widgets/controls",
      "model_module_version": "1.5.0",
      "model_name": "IntSliderModel",
      "state": {
       "description": "max_depth",
       "layout": "IPY_MODEL_076de42836f14e19b78adb826991bece",
       "max": 15,
       "min": 1,
       "style": "IPY_MODEL_7c181fec77bd4953a4117d93ef71c237",
       "value": 15
      }
     },
     "d1295795d05c4766823566aba670bf7f": {
      "model_module": "@jupyter-widgets/controls",
      "model_module_version": "1.5.0",
      "model_name": "IntSliderModel",
      "state": {
       "description": "max_depth",
       "layout": "IPY_MODEL_a9f295be16a247078e47bf3e382624af",
       "max": 15,
       "min": 1,
       "style": "IPY_MODEL_efc00c61cbdc45469c7b439d9006ddec",
       "value": 2
      }
     },
     "d217fcdf6b0342cdbfc9a83662a45ef6": {
      "model_module": "@jupyter-widgets/base",
      "model_module_version": "1.2.0",
      "model_name": "LayoutModel",
      "state": {}
     },
     "d345f031ec044d96b7f8a8b3f7e6eee5": {
      "model_module": "@jupyter-widgets/controls",
      "model_module_version": "1.5.0",
      "model_name": "SliderStyleModel",
      "state": {
       "description_width": ""
      }
     },
     "d3eaf164bc914303990c9cbd64a64f75": {
      "model_module": "@jupyter-widgets/base",
      "model_module_version": "1.2.0",
      "model_name": "LayoutModel",
      "state": {}
     },
     "d4928ac4d5d44658973f0c5fb98efbb1": {
      "model_module": "@jupyter-widgets/controls",
      "model_module_version": "1.5.0",
      "model_name": "IntSliderModel",
      "state": {
       "description": "max_depth",
       "layout": "IPY_MODEL_df9c9cd382bf43caa1c45dc1f5c5b259",
       "max": 15,
       "min": 1,
       "style": "IPY_MODEL_5d6ebb2c913f477aa925000f2b2f9864",
       "value": 11
      }
     },
     "d575c25a464d45d68e48efb660e021a7": {
      "model_module": "@jupyter-widgets/base",
      "model_module_version": "1.2.0",
      "model_name": "LayoutModel",
      "state": {}
     },
     "d59ca45e24ec45698408b45870a7624e": {
      "model_module": "@jupyter-widgets/output",
      "model_module_version": "1.0.0",
      "model_name": "OutputModel",
      "state": {
       "layout": "IPY_MODEL_21e0f9748e634eea9117aae224cb0a80",
       "outputs": [
        {
         "data": {
          "image/png": "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\n",
          "text/plain": "<Figure size 720x432 with 1 Axes>"
         },
         "metadata": {
          "needs_background": "light"
         },
         "output_type": "display_data"
        }
       ]
      }
     },
     "d5c7c3b09a294d6eb60fb751c8f660b0": {
      "model_module": "@jupyter-widgets/output",
      "model_module_version": "1.0.0",
      "model_name": "OutputModel",
      "state": {
       "layout": "IPY_MODEL_1f6e2fb76cae479f8bf19d24e1670f3d",
       "outputs": [
        {
         "ename": "ValueError",
         "evalue": "max_leaf_nodes 1 must be either None or larger than 1",
         "output_type": "error",
         "traceback": [
          "\u001b[0;31m----------------------------------------------------------------\u001b[0m",
          "\u001b[0;31mValueError\u001b[0m                     Traceback (most recent call last)",
          "\u001b[0;32m~/anaconda3/envs/dat158/lib/python3.6/site-packages/ipywidgets/widgets/interaction.py\u001b[0m in \u001b[0;36mupdate\u001b[0;34m(self, *args)\u001b[0m\n\u001b[1;32m    249\u001b[0m                     \u001b[0mvalue\u001b[0m \u001b[0;34m=\u001b[0m \u001b[0mwidget\u001b[0m\u001b[0;34m.\u001b[0m\u001b[0mget_interact_value\u001b[0m\u001b[0;34m(\u001b[0m\u001b[0;34m)\u001b[0m\u001b[0;34m\u001b[0m\u001b[0m\n\u001b[1;32m    250\u001b[0m                     \u001b[0mself\u001b[0m\u001b[0;34m.\u001b[0m\u001b[0mkwargs\u001b[0m\u001b[0;34m[\u001b[0m\u001b[0mwidget\u001b[0m\u001b[0;34m.\u001b[0m\u001b[0m_kwarg\u001b[0m\u001b[0;34m]\u001b[0m \u001b[0;34m=\u001b[0m \u001b[0mvalue\u001b[0m\u001b[0;34m\u001b[0m\u001b[0m\n\u001b[0;32m--> 251\u001b[0;31m                 \u001b[0mself\u001b[0m\u001b[0;34m.\u001b[0m\u001b[0mresult\u001b[0m \u001b[0;34m=\u001b[0m \u001b[0mself\u001b[0m\u001b[0;34m.\u001b[0m\u001b[0mf\u001b[0m\u001b[0;34m(\u001b[0m\u001b[0;34m**\u001b[0m\u001b[0mself\u001b[0m\u001b[0;34m.\u001b[0m\u001b[0mkwargs\u001b[0m\u001b[0;34m)\u001b[0m\u001b[0;34m\u001b[0m\u001b[0m\n\u001b[0m\u001b[1;32m    252\u001b[0m                 \u001b[0mshow_inline_matplotlib_plots\u001b[0m\u001b[0;34m(\u001b[0m\u001b[0;34m)\u001b[0m\u001b[0;34m\u001b[0m\u001b[0m\n\u001b[1;32m    253\u001b[0m                 \u001b[0;32mif\u001b[0m \u001b[0mself\u001b[0m\u001b[0;34m.\u001b[0m\u001b[0mauto_display\u001b[0m \u001b[0;32mand\u001b[0m \u001b[0mself\u001b[0m\u001b[0;34m.\u001b[0m\u001b[0mresult\u001b[0m \u001b[0;32mis\u001b[0m \u001b[0;32mnot\u001b[0m \u001b[0;32mNone\u001b[0m\u001b[0;34m:\u001b[0m\u001b[0;34m\u001b[0m\u001b[0m\n",
          "\u001b[0;32m<ipython-input-80-227458d796df>\u001b[0m in \u001b[0;36mmake_decision_tree\u001b[0;34m(max_depth, min_samples_split, min_samples_leaf, max_features, max_leaf_nodes)\u001b[0m\n\u001b[1;32m      8\u001b[0m                                      )\n\u001b[1;32m      9\u001b[0m \u001b[0;34m\u001b[0m\u001b[0m\n\u001b[0;32m---> 10\u001b[0;31m     \u001b[0mtree_clf\u001b[0m\u001b[0;34m.\u001b[0m\u001b[0mfit\u001b[0m\u001b[0;34m(\u001b[0m\u001b[0mXm\u001b[0m\u001b[0;34m,\u001b[0m \u001b[0mym\u001b[0m\u001b[0;34m)\u001b[0m\u001b[0;34m\u001b[0m\u001b[0m\n\u001b[0m\u001b[1;32m     11\u001b[0m \u001b[0;34m\u001b[0m\u001b[0m\n\u001b[1;32m     12\u001b[0m     \u001b[0m_\u001b[0m \u001b[0;34m=\u001b[0m \u001b[0mplot_decision_boundary\u001b[0m\u001b[0;34m(\u001b[0m\u001b[0mtree_clf\u001b[0m\u001b[0;34m,\u001b[0m \u001b[0mXm\u001b[0m\u001b[0;34m,\u001b[0m \u001b[0mym\u001b[0m\u001b[0;34m)\u001b[0m\u001b[0;34m\u001b[0m\u001b[0m\n",
          "\u001b[0;32m~/anaconda3/envs/dat158/lib/python3.6/site-packages/sklearn/tree/tree.py\u001b[0m in \u001b[0;36mfit\u001b[0;34m(self, X, y, sample_weight, check_input, X_idx_sorted)\u001b[0m\n\u001b[1;32m    788\u001b[0m             \u001b[0msample_weight\u001b[0m\u001b[0;34m=\u001b[0m\u001b[0msample_weight\u001b[0m\u001b[0;34m,\u001b[0m\u001b[0;34m\u001b[0m\u001b[0m\n\u001b[1;32m    789\u001b[0m             \u001b[0mcheck_input\u001b[0m\u001b[0;34m=\u001b[0m\u001b[0mcheck_input\u001b[0m\u001b[0;34m,\u001b[0m\u001b[0;34m\u001b[0m\u001b[0m\n\u001b[0;32m--> 790\u001b[0;31m             X_idx_sorted=X_idx_sorted)\n\u001b[0m\u001b[1;32m    791\u001b[0m         \u001b[0;32mreturn\u001b[0m \u001b[0mself\u001b[0m\u001b[0;34m\u001b[0m\u001b[0m\n\u001b[1;32m    792\u001b[0m \u001b[0;34m\u001b[0m\u001b[0m\n",
          "\u001b[0;32m~/anaconda3/envs/dat158/lib/python3.6/site-packages/sklearn/tree/tree.py\u001b[0m in \u001b[0;36mfit\u001b[0;34m(self, X, y, sample_weight, check_input, X_idx_sorted)\u001b[0m\n\u001b[1;32m    246\u001b[0m         \u001b[0;32mif\u001b[0m \u001b[0;34m-\u001b[0m\u001b[0;36m1\u001b[0m \u001b[0;34m<\u001b[0m \u001b[0mmax_leaf_nodes\u001b[0m \u001b[0;34m<\u001b[0m \u001b[0;36m2\u001b[0m\u001b[0;34m:\u001b[0m\u001b[0;34m\u001b[0m\u001b[0m\n\u001b[1;32m    247\u001b[0m             raise ValueError((\"max_leaf_nodes {0} must be either None \"\n\u001b[0;32m--> 248\u001b[0;31m                               \"or larger than 1\").format(max_leaf_nodes))\n\u001b[0m\u001b[1;32m    249\u001b[0m \u001b[0;34m\u001b[0m\u001b[0m\n\u001b[1;32m    250\u001b[0m         \u001b[0;32mif\u001b[0m \u001b[0msample_weight\u001b[0m \u001b[0;32mis\u001b[0m \u001b[0;32mnot\u001b[0m \u001b[0;32mNone\u001b[0m\u001b[0;34m:\u001b[0m\u001b[0;34m\u001b[0m\u001b[0m\n",
          "\u001b[0;31mValueError\u001b[0m: max_leaf_nodes 1 must be either None or larger than 1"
         ]
        }
       ]
      }
     },
     "d5d66c82e3264ede999f0cb4b60d63ec": {
      "model_module": "@jupyter-widgets/base",
      "model_module_version": "1.2.0",
      "model_name": "LayoutModel",
      "state": {}
     },
     "d7d00d8715ed43cc80a52631d12f5240": {
      "model_module": "@jupyter-widgets/controls",
      "model_module_version": "1.5.0",
      "model_name": "IntSliderModel",
      "state": {
       "description": "min_samples_split",
       "layout": "IPY_MODEL_08d1b5e6ec614f6a8b7605a2b86a4a2a",
       "max": 6,
       "min": -2,
       "style": "IPY_MODEL_8acfa54c226f4fa0a304f02cf2a6b245",
       "value": 2
      }
     },
     "d7d1d7d0e9bf4d03a5c2aa9cbfd77447": {
      "model_module": "@jupyter-widgets/controls",
      "model_module_version": "1.5.0",
      "model_name": "IntSliderModel",
      "state": {
       "description": "min_samples_leaf",
       "layout": "IPY_MODEL_eefc1e89b2f64cdfbfd7a4a9e7e9b649",
       "max": 15,
       "min": 1,
       "style": "IPY_MODEL_4476f8623ef9438495d5fed85c9f74ac",
       "value": 1
      }
     },
     "d7d2366422814c7bbf5e7490374a3f53": {
      "model_module": "@jupyter-widgets/base",
      "model_module_version": "1.2.0",
      "model_name": "LayoutModel",
      "state": {}
     },
     "d8865d1b492b4984b26997b436edfa53": {
      "model_module": "@jupyter-widgets/controls",
      "model_module_version": "1.5.0",
      "model_name": "IntSliderModel",
      "state": {
       "description": "max_leaf_nodes",
       "layout": "IPY_MODEL_283f98b470874a97b32e78b5b435187d",
       "max": 6,
       "min": -2,
       "style": "IPY_MODEL_4bc540f8a9934a8c8f86ff8013d7e206",
       "value": 2
      }
     },
     "d8b73853c6a64404b8a2fc8fd5208e5d": {
      "model_module": "@jupyter-widgets/controls",
      "model_module_version": "1.5.0",
      "model_name": "IntSliderModel",
      "state": {
       "description": "max_depth",
       "layout": "IPY_MODEL_1baeccd604054ed386254d4585bb0203",
       "max": 15,
       "min": 1,
       "style": "IPY_MODEL_ee8e080b909f4be3b5d23449adf72c01",
       "value": 15
      }
     },
     "d9094e7649a64d1ebf12dd4c1b19742c": {
      "model_module": "@jupyter-widgets/controls",
      "model_module_version": "1.5.0",
      "model_name": "IntSliderModel",
      "state": {
       "description": "max_features",
       "layout": "IPY_MODEL_e876989fda7d48da91d6daf48e716667",
       "max": 6,
       "min": -2,
       "style": "IPY_MODEL_02125d99014f4810b1dec136297cb8f6",
       "value": 2
      }
     },
     "d981f243af0041ebb0c6d3e208fe223f": {
      "model_module": "@jupyter-widgets/controls",
      "model_module_version": "1.5.0",
      "model_name": "IntSliderModel",
      "state": {
       "description": "min_samples_split",
       "layout": "IPY_MODEL_ca59b8bde3454da08eb53efb3643b4ed",
       "max": 6,
       "min": -2,
       "style": "IPY_MODEL_b439286fb98840b194b74ec7fc0ddc83",
       "value": 2
      }
     },
     "d9959c83a4f74faea7bdf20c607697db": {
      "model_module": "@jupyter-widgets/base",
      "model_module_version": "1.2.0",
      "model_name": "LayoutModel",
      "state": {}
     },
     "daec2916e8dd41f6bc9c740adc969733": {
      "model_module": "@jupyter-widgets/base",
      "model_module_version": "1.2.0",
      "model_name": "LayoutModel",
      "state": {}
     },
     "db42cf3c2ddb4ee9a104d4ca92a955e5": {
      "model_module": "@jupyter-widgets/controls",
      "model_module_version": "1.5.0",
      "model_name": "SliderStyleModel",
      "state": {
       "description_width": ""
      }
     },
     "db57149fd84246978f7d289669c944a9": {
      "model_module": "@jupyter-widgets/controls",
      "model_module_version": "1.5.0",
      "model_name": "SliderStyleModel",
      "state": {
       "description_width": ""
      }
     },
     "db6f43c079d14573b792e2ea67963af7": {
      "model_module": "@jupyter-widgets/controls",
      "model_module_version": "1.5.0",
      "model_name": "SliderStyleModel",
      "state": {
       "description_width": ""
      }
     },
     "dbfff37535ff4ff8a37819d91558e8ee": {
      "model_module": "@jupyter-widgets/base",
      "model_module_version": "1.2.0",
      "model_name": "LayoutModel",
      "state": {}
     },
     "dc77f92af8c54beca1d57557ac7162d7": {
      "model_module": "@jupyter-widgets/base",
      "model_module_version": "1.2.0",
      "model_name": "LayoutModel",
      "state": {}
     },
     "dc8250f15d004e3d8298e745b3a29e5c": {
      "model_module": "@jupyter-widgets/output",
      "model_module_version": "1.0.0",
      "model_name": "OutputModel",
      "state": {
       "layout": "IPY_MODEL_2662e6e7b590427fbe021d921ed24990",
       "outputs": [
        {
         "ename": "ValueError",
         "evalue": "min_samples_leaf must be at least 1 or in (0, 0.5], got 0",
         "output_type": "error",
         "traceback": [
          "\u001b[0;31m----------------------------------------------------------------\u001b[0m",
          "\u001b[0;31mValueError\u001b[0m                     Traceback (most recent call last)",
          "\u001b[0;32m~/anaconda3/envs/dat158/lib/python3.6/site-packages/ipywidgets/widgets/interaction.py\u001b[0m in \u001b[0;36mupdate\u001b[0;34m(self, *args)\u001b[0m\n\u001b[1;32m    249\u001b[0m                     \u001b[0mvalue\u001b[0m \u001b[0;34m=\u001b[0m \u001b[0mwidget\u001b[0m\u001b[0;34m.\u001b[0m\u001b[0mget_interact_value\u001b[0m\u001b[0;34m(\u001b[0m\u001b[0;34m)\u001b[0m\u001b[0;34m\u001b[0m\u001b[0m\n\u001b[1;32m    250\u001b[0m                     \u001b[0mself\u001b[0m\u001b[0;34m.\u001b[0m\u001b[0mkwargs\u001b[0m\u001b[0;34m[\u001b[0m\u001b[0mwidget\u001b[0m\u001b[0;34m.\u001b[0m\u001b[0m_kwarg\u001b[0m\u001b[0;34m]\u001b[0m \u001b[0;34m=\u001b[0m \u001b[0mvalue\u001b[0m\u001b[0;34m\u001b[0m\u001b[0m\n\u001b[0;32m--> 251\u001b[0;31m                 \u001b[0mself\u001b[0m\u001b[0;34m.\u001b[0m\u001b[0mresult\u001b[0m \u001b[0;34m=\u001b[0m \u001b[0mself\u001b[0m\u001b[0;34m.\u001b[0m\u001b[0mf\u001b[0m\u001b[0;34m(\u001b[0m\u001b[0;34m**\u001b[0m\u001b[0mself\u001b[0m\u001b[0;34m.\u001b[0m\u001b[0mkwargs\u001b[0m\u001b[0;34m)\u001b[0m\u001b[0;34m\u001b[0m\u001b[0m\n\u001b[0m\u001b[1;32m    252\u001b[0m                 \u001b[0mshow_inline_matplotlib_plots\u001b[0m\u001b[0;34m(\u001b[0m\u001b[0;34m)\u001b[0m\u001b[0;34m\u001b[0m\u001b[0m\n\u001b[1;32m    253\u001b[0m                 \u001b[0;32mif\u001b[0m \u001b[0mself\u001b[0m\u001b[0;34m.\u001b[0m\u001b[0mauto_display\u001b[0m \u001b[0;32mand\u001b[0m \u001b[0mself\u001b[0m\u001b[0;34m.\u001b[0m\u001b[0mresult\u001b[0m \u001b[0;32mis\u001b[0m \u001b[0;32mnot\u001b[0m \u001b[0;32mNone\u001b[0m\u001b[0;34m:\u001b[0m\u001b[0;34m\u001b[0m\u001b[0m\n",
          "\u001b[0;32m<ipython-input-106-745ed16ec061>\u001b[0m in \u001b[0;36mmake_decision_tree\u001b[0;34m(max_depth, min_samples_leaf)\u001b[0m\n\u001b[1;32m      4\u001b[0m                                      )\n\u001b[1;32m      5\u001b[0m \u001b[0;34m\u001b[0m\u001b[0m\n\u001b[0;32m----> 6\u001b[0;31m     \u001b[0mtree_clf\u001b[0m\u001b[0;34m.\u001b[0m\u001b[0mfit\u001b[0m\u001b[0;34m(\u001b[0m\u001b[0mXm\u001b[0m\u001b[0;34m,\u001b[0m \u001b[0mym\u001b[0m\u001b[0;34m)\u001b[0m\u001b[0;34m\u001b[0m\u001b[0m\n\u001b[0m\u001b[1;32m      7\u001b[0m \u001b[0;34m\u001b[0m\u001b[0m\n\u001b[1;32m      8\u001b[0m     \u001b[0m_\u001b[0m \u001b[0;34m=\u001b[0m \u001b[0mplot_decision_boundary\u001b[0m\u001b[0;34m(\u001b[0m\u001b[0mtree_clf\u001b[0m\u001b[0;34m,\u001b[0m \u001b[0mXm\u001b[0m\u001b[0;34m,\u001b[0m \u001b[0mym\u001b[0m\u001b[0;34m)\u001b[0m\u001b[0;34m\u001b[0m\u001b[0m\n",
          "\u001b[0;32m~/anaconda3/envs/dat158/lib/python3.6/site-packages/sklearn/tree/tree.py\u001b[0m in \u001b[0;36mfit\u001b[0;34m(self, X, y, sample_weight, check_input, X_idx_sorted)\u001b[0m\n\u001b[1;32m    788\u001b[0m             \u001b[0msample_weight\u001b[0m\u001b[0;34m=\u001b[0m\u001b[0msample_weight\u001b[0m\u001b[0;34m,\u001b[0m\u001b[0;34m\u001b[0m\u001b[0m\n\u001b[1;32m    789\u001b[0m             \u001b[0mcheck_input\u001b[0m\u001b[0;34m=\u001b[0m\u001b[0mcheck_input\u001b[0m\u001b[0;34m,\u001b[0m\u001b[0;34m\u001b[0m\u001b[0m\n\u001b[0;32m--> 790\u001b[0;31m             X_idx_sorted=X_idx_sorted)\n\u001b[0m\u001b[1;32m    791\u001b[0m         \u001b[0;32mreturn\u001b[0m \u001b[0mself\u001b[0m\u001b[0;34m\u001b[0m\u001b[0m\n\u001b[1;32m    792\u001b[0m \u001b[0;34m\u001b[0m\u001b[0m\n",
          "\u001b[0;32m~/anaconda3/envs/dat158/lib/python3.6/site-packages/sklearn/tree/tree.py\u001b[0m in \u001b[0;36mfit\u001b[0;34m(self, X, y, sample_weight, check_input, X_idx_sorted)\u001b[0m\n\u001b[1;32m    178\u001b[0m                 raise ValueError(\"min_samples_leaf must be at least 1 \"\n\u001b[1;32m    179\u001b[0m                                  \u001b[0;34m\"or in (0, 0.5], got %s\"\u001b[0m\u001b[0;34m\u001b[0m\u001b[0m\n\u001b[0;32m--> 180\u001b[0;31m                                  % self.min_samples_leaf)\n\u001b[0m\u001b[1;32m    181\u001b[0m             \u001b[0mmin_samples_leaf\u001b[0m \u001b[0;34m=\u001b[0m \u001b[0mself\u001b[0m\u001b[0;34m.\u001b[0m\u001b[0mmin_samples_leaf\u001b[0m\u001b[0;34m\u001b[0m\u001b[0m\n\u001b[1;32m    182\u001b[0m         \u001b[0;32melse\u001b[0m\u001b[0;34m:\u001b[0m  \u001b[0;31m# float\u001b[0m\u001b[0;34m\u001b[0m\u001b[0m\n",
          "\u001b[0;31mValueError\u001b[0m: min_samples_leaf must be at least 1 or in (0, 0.5], got 0"
         ]
        }
       ]
      }
     },
     "dd1ff36bbc674ecfb3c80ea3e40a62c6": {
      "model_module": "@jupyter-widgets/base",
      "model_module_version": "1.2.0",
      "model_name": "LayoutModel",
      "state": {}
     },
     "dd2d733c678a41b48bc2b98a1b8e7cbe": {
      "model_module": "@jupyter-widgets/controls",
      "model_module_version": "1.5.0",
      "model_name": "VBoxModel",
      "state": {
       "_dom_classes": [
        "widget-interact"
       ],
       "children": [
        "IPY_MODEL_fcf39afa09d24cc480e2996756491f0b",
        "IPY_MODEL_d981f243af0041ebb0c6d3e208fe223f",
        "IPY_MODEL_dd2e4610907942a8bed298327c149a44",
        "IPY_MODEL_58414a9dbffa49eda4c419f32c9a3b60",
        "IPY_MODEL_2f106e08ffc24c199721d25cbbdac474",
        "IPY_MODEL_f7ef58dfd54546b591593da02cd13921"
       ],
       "layout": "IPY_MODEL_0afa39324b7b4e5296691ce85c1df499"
      }
     },
     "dd2e4610907942a8bed298327c149a44": {
      "model_module": "@jupyter-widgets/controls",
      "model_module_version": "1.5.0",
      "model_name": "IntSliderModel",
      "state": {
       "description": "min_samples_leaf",
       "layout": "IPY_MODEL_47972fc1bb6147dabc9a8dc60b71d1ed",
       "max": 3,
       "min": -1,
       "style": "IPY_MODEL_ea6bdcebb8e646eb925e3bc98deada65",
       "value": 1
      }
     },
     "dd338ec0a9894196978a7121902435f0": {
      "model_module": "@jupyter-widgets/controls",
      "model_module_version": "1.5.0",
      "model_name": "IntSliderModel",
      "state": {
       "description": "min_samples_split",
       "layout": "IPY_MODEL_d9959c83a4f74faea7bdf20c607697db",
       "max": 6,
       "min": -2,
       "style": "IPY_MODEL_b98bba9d68e64932bc7dd29febcd08c0",
       "value": 2
      }
     },
     "dd7bf01e298849b4b314a1b98a99a276": {
      "model_module": "@jupyter-widgets/base",
      "model_module_version": "1.2.0",
      "model_name": "LayoutModel",
      "state": {}
     },
     "ddf230e6430a4c2584a1150a628ad817": {
      "model_module": "@jupyter-widgets/base",
      "model_module_version": "1.2.0",
      "model_name": "LayoutModel",
      "state": {}
     },
     "decd95cd20044e8389ad3d4950326cdd": {
      "model_module": "@jupyter-widgets/base",
      "model_module_version": "1.2.0",
      "model_name": "LayoutModel",
      "state": {}
     },
     "df03ec8f9c7c494fba688c3a87cb1e8b": {
      "model_module": "@jupyter-widgets/controls",
      "model_module_version": "1.5.0",
      "model_name": "VBoxModel",
      "state": {
       "_dom_classes": [
        "widget-interact"
       ],
       "children": [
        "IPY_MODEL_6e756dd438794a6586d2e22c8a2c1207",
        "IPY_MODEL_ba99a6c7763f4537a6f19648c64147e1",
        "IPY_MODEL_3b20b51348b64d9ba22b61d23fe28784",
        "IPY_MODEL_d9094e7649a64d1ebf12dd4c1b19742c",
        "IPY_MODEL_776edfbc83ea407abf7cf1f8e56461fa",
        "IPY_MODEL_87b7c54897ba467480f075d225a8529a"
       ],
       "layout": "IPY_MODEL_dd7bf01e298849b4b314a1b98a99a276"
      }
     },
     "df5a30037d2f4e8099fb0bc8f7079150": {
      "model_module": "@jupyter-widgets/base",
      "model_module_version": "1.2.0",
      "model_name": "LayoutModel",
      "state": {}
     },
     "df9c9cd382bf43caa1c45dc1f5c5b259": {
      "model_module": "@jupyter-widgets/base",
      "model_module_version": "1.2.0",
      "model_name": "LayoutModel",
      "state": {}
     },
     "e000fd76d67b4baaaa452d689f198a56": {
      "model_module": "@jupyter-widgets/base",
      "model_module_version": "1.2.0",
      "model_name": "LayoutModel",
      "state": {}
     },
     "e03f7f742f0b42589cf80d68861fd75f": {
      "model_module": "@jupyter-widgets/base",
      "model_module_version": "1.2.0",
      "model_name": "LayoutModel",
      "state": {}
     },
     "e102530a42294fd3a5aef94b773579d0": {
      "model_module": "@jupyter-widgets/controls",
      "model_module_version": "1.5.0",
      "model_name": "IntSliderModel",
      "state": {
       "description": "max_features",
       "layout": "IPY_MODEL_ba9c0d6a838747d6b78e679a6dfbda08",
       "max": 6,
       "min": -2,
       "style": "IPY_MODEL_136ad18bb06d4011a702bda9080dae9a",
       "value": 2
      }
     },
     "e103516323134fc886c0ef56f0c2154c": {
      "model_module": "@jupyter-widgets/controls",
      "model_module_version": "1.5.0",
      "model_name": "SliderStyleModel",
      "state": {
       "description_width": ""
      }
     },
     "e1ad942d391a4256bab62577e6896fa7": {
      "model_module": "@jupyter-widgets/base",
      "model_module_version": "1.2.0",
      "model_name": "LayoutModel",
      "state": {}
     },
     "e3e9032d917145b4a654fe651d8c6ca9": {
      "model_module": "@jupyter-widgets/base",
      "model_module_version": "1.2.0",
      "model_name": "LayoutModel",
      "state": {}
     },
     "e3edbd7aa5cc4cb5891c95f2c2fcc745": {
      "model_module": "@jupyter-widgets/controls",
      "model_module_version": "1.5.0",
      "model_name": "SliderStyleModel",
      "state": {
       "description_width": ""
      }
     },
     "e5ac40265d374c98a0eb0d8778f1ae0c": {
      "model_module": "@jupyter-widgets/controls",
      "model_module_version": "1.5.0",
      "model_name": "IntSliderModel",
      "state": {
       "description": "min_samples_leaf",
       "layout": "IPY_MODEL_fe1a2bd6c93a4f36bb65c3ebeed3e4bf",
       "max": 15,
       "min": 1,
       "style": "IPY_MODEL_add4855644314c9a84fce539506169b1",
       "value": 1
      }
     },
     "e6087863c6c24a0d80cbd855b5707948": {
      "model_module": "@jupyter-widgets/controls",
      "model_module_version": "1.5.0",
      "model_name": "IntSliderModel",
      "state": {
       "description": "max_leaf_nodes",
       "layout": "IPY_MODEL_17118d9908a54d0e88200750cdcb3b61",
       "max": 10,
       "min": 2,
       "style": "IPY_MODEL_51ac442ad4da40cc8aefb19f9dd7e182",
       "value": 10
      }
     },
     "e655c271243f41e48cfa658f31649f98": {
      "model_module": "@jupyter-widgets/base",
      "model_module_version": "1.2.0",
      "model_name": "LayoutModel",
      "state": {}
     },
     "e72934b8f4814f84ac935982228f5f34": {
      "model_module": "@jupyter-widgets/controls",
      "model_module_version": "1.5.0",
      "model_name": "VBoxModel",
      "state": {
       "_dom_classes": [
        "widget-interact"
       ],
       "children": [
        "IPY_MODEL_a29ef283f3754b3ea624088aeb35eecc",
        "IPY_MODEL_e5ac40265d374c98a0eb0d8778f1ae0c",
        "IPY_MODEL_8afdeda091234136a26776e8bbeaa46b"
       ],
       "layout": "IPY_MODEL_df5a30037d2f4e8099fb0bc8f7079150"
      }
     },
     "e77ed315db764a219854dd67cb982d99": {
      "model_module": "@jupyter-widgets/controls",
      "model_module_version": "1.5.0",
      "model_name": "SliderStyleModel",
      "state": {
       "description_width": ""
      }
     },
     "e876989fda7d48da91d6daf48e716667": {
      "model_module": "@jupyter-widgets/base",
      "model_module_version": "1.2.0",
      "model_name": "LayoutModel",
      "state": {}
     },
     "ea6bdcebb8e646eb925e3bc98deada65": {
      "model_module": "@jupyter-widgets/controls",
      "model_module_version": "1.5.0",
      "model_name": "SliderStyleModel",
      "state": {
       "description_width": ""
      }
     },
     "eaa0a18f60de4c74accb6b6bac7ad3d6": {
      "model_module": "@jupyter-widgets/controls",
      "model_module_version": "1.5.0",
      "model_name": "IntSliderModel",
      "state": {
       "description": "min_samples_leaf",
       "layout": "IPY_MODEL_daec2916e8dd41f6bc9c740adc969733",
       "max": 3,
       "min": -1,
       "style": "IPY_MODEL_ef85f5df43ec4be6be1ec07b2fa91d0d",
       "value": 1
      }
     },
     "eaf7aad74b174e739dcea3806255a210": {
      "model_module": "@jupyter-widgets/controls",
      "model_module_version": "1.5.0",
      "model_name": "IntSliderModel",
      "state": {
       "description": "max_features",
       "layout": "IPY_MODEL_030fe2cd8ac149f88684d7781fd54a87",
       "max": 6,
       "min": -2,
       "style": "IPY_MODEL_db57149fd84246978f7d289669c944a9",
       "value": 2
      }
     },
     "eb03491d0ed3492698caccdc870b834f": {
      "model_module": "@jupyter-widgets/controls",
      "model_module_version": "1.5.0",
      "model_name": "IntSliderModel",
      "state": {
       "description": "max_leaf_nodes",
       "layout": "IPY_MODEL_08f0815012be40cda78f3aebc9de3b8e",
       "max": 15,
       "min": 1,
       "style": "IPY_MODEL_f805f190918949e6b2e22a84c10ba505",
       "value": 1
      }
     },
     "eb5155b5c1c243dbaf40ddafb5e9fa38": {
      "model_module": "@jupyter-widgets/controls",
      "model_module_version": "1.5.0",
      "model_name": "SliderStyleModel",
      "state": {
       "description_width": ""
      }
     },
     "ebe7b5c725c24112bf60b6b08a4fe914": {
      "model_module": "@jupyter-widgets/output",
      "model_module_version": "1.0.0",
      "model_name": "OutputModel",
      "state": {
       "layout": "IPY_MODEL_d575c25a464d45d68e48efb660e021a7",
       "outputs": [
        {
         "data": {
          "image/png": "iVBORw0KGgoAAAANSUhEUgAAAl8AAAF1CAYAAADWYI/QAAAABHNCSVQICAgIfAhkiAAAAAlwSFlzAAALEgAACxIB0t1+/AAAADl0RVh0U29mdHdhcmUAbWF0cGxvdGxpYiB2ZXJzaW9uIDMuMC4wLCBodHRwOi8vbWF0cGxvdGxpYi5vcmcvqOYd8AAAIABJREFUeJzt3X+YnGV97/HPdzdhEkKAhCwDkx8swlo17YUlCT/qUTmVWuGyIEFasCqgSKn1VNtSJNViD60H5HBqPdqWYuUIWhG1QeMp1oJog8ey8uOCIlhMgkvYbDL5RQOBMGR3v+ePmQ2zuzOzM5nn9/N+Xddemb3nyTz3s5Psfva+v/f9mLsLAAAA0eiJuwMAAAB5QvgCAACIEOELAAAgQoQvAACACBG+AAAAIkT4AgAAiBDhC0CkzOw7ZnZxG8ftNbNXhXD+ITM7M+jXPYh+/JmZfTnufgCI3qy4OwAgecxsSFJR0qikMUlPSLpN0s3uPt7Na7v7WW0ed1g35wGApGLkC0Azv+Hu8yUdJ+l6SR+V9IV4uwRJMrPeuPsA4OARvgC05O573H2dpN+SdLGZ/aIkmVnBzG40s81mVjazm8xs7sTfM7NzzewRM3vOzDaZ2dtq7T8ws8tqj080s381sz1mttPM7qj7+25mJ9YeH2Fmt5nZDjN72sw+bmY9tecuMbMf1vryrJn93MxmGl1bZWZP1I7/P2Y2p+68HzCzjWa228zWmVmp1t5f69OsumPrr6VlP8zs+Nq1Pm9md0taVN8hM/u6mW2rfS3Wm9nyuue+aGZ/a2Z3mdkLkv6w9jWv78v5ZvbIDNcNIAEIXwDa4u4/ljQs6Y21pk9JerWk10s6UdJiSddIkpmdouo05R9LOlLSmyQNNXjZP5f0L5IWSFoi6bNNTv9ZSUdIepWkN0t6r6RL654/VdKTqgaaGyR9wcysxeX8tqRfl3RC7Ro+Xuv3r0q6TtJvSjpW0tOSvtridaZq1Y+vSHqo9tyfS5pa9/YdSQOSjpb0sKR/mPL8uyR9UtJ8Vb8euyT9Wt3z75b0pQ76CiAmhC8AnRiRtLAWKD4g6Q/cfbe7Py/pf0i6sHbc+yXd4u53u/u4u29x9/9o8Hr7VZ3WLLn7S+7+w6kH1KbYfkvSGnd/3t2HJP0vSe+pO+xpd/+8u49JulXV4FRscR2fc/dn3H23qoHmolr7b9f6/bC7VyStkXS6mfXP9IVp1Q8zWyZplaQ/dfeKu6+X9O36v+jut9SuryLpzySdZGZH1B3yLXf/f7Wv50u113937Wu0UNUw+ZU2+wkgRoQvAJ1YLGm3pD5Jh0p6yMz+08z+U9I/19olaamkTW283lWSTNKPzexxM3tfg2MWSTpE1VGoCU/X+jJh28QDd3+x9rBVwf4zU16rVHtcqj+Pu+9VdYSp/lytNOtHSdKz7v7ClPNKqgZMM7u+Nj37nF4ZJayfmqzvsyR9WdJvmNlhqo7U3efuW9vsJ4AYEb4AtMXMVqkaQn4oaaekfZKWu/uRtY8j6lYoPqPqlF5L7r7N3T/g7iVJvyPpbybqvOrs1CsjZBOWSdrSxeUsnfJaI7XHI/XnMbN5ko6qnWsiOB1a93ePafN8WyUtqL1e/XknvEvSuZLOVHV6tX+iC3XHeP0LuvsWSf8m6TxVRwGZcgRSgvAFoCUzO9zM3q5q7dOX3f2x2nYTn5f0aTM7unbcYjP79dpf+4KkS83sLWbWU3vuNQ1e+wIzW1L79FlVA8ZY/TG1KbyvSfqkmc03s+Mk/aGqIz8H6/fMbEltuu5PJE0U+n+l1u/Xm1lB1anUQXcfcvcdqoawd9dGqt6nNgJm7RqelvSgpP9uZoeY2X+R9Bt1h8yXVFF1lO3Q2nnbcZuqo4e/JOnONv8OgJgRvgA0820ze17VUayPSfpLTS5y/6ikjZLur02V3SPpF6QDxfmXSvq0pD2S/lWTR64mrJI0aGZ7Ja2T9GF3/3mD4/6bqiNPT6k68vYVSbd0cW1fUbXQ/6nax1/U+v09SX8q6R9VHa06Qa/UsUnVOrc/VjUkLZf0ow7O+S5VC/J3S/qEqsFpwm2qTkNuUXVPtfvbfM07Vf263jllShNAgpm7z3wUACCRzGyTpN9x93vi7guA9jDyBQApZWbnqzpVe2/cfQHQPm4vBAApZGY/kPQ6Se/p9pZPAKLFtCMAAECEmHYEAACIEOELAAAgQomt+Vq0aKH39y+d+UAAQCj279+v3bt3yt318suzNDo6SzZnn6xXWnjEQs2ZM2fmFwFy4rGHHtvp7n0zH5ng8NXfv1Q//vF34+4GAOTW9u1bdfvtX9DLL7+kzZuP1u7di2SveUyz543rordfpOWvXh53F4HEWNa77OmZj6pi2hEAACBChC8AAIAIEb4AAAAiRPgCAACIEOELAAAgQoQvAACACBG+AAAAIkT4AgAAiBDhCwAAIEKELwAAgAgFEr7M7BYz225mP2ny/BlmtsfMHql9XBPEeQEAANImqHs7flHS5yTd1uKY+9z97QGdDwAAIJUCGfly9/WSdgfxWgAAAFkWZc3X6Wb2qJl9x8yWNzrAzC43swfN7MEdO3ZF2DUAAIBoRBW+HpZ0nLufJOmzkr7Z6CB3v9ndV7r7yr6+oyLqGgAAQHQiCV/u/py77609vkvSbDNbFMW5gTCVy2s1OLhK69eXNDi4SuXy2ri7BABIuKAK7lsys2Mkld3dzewUVUMf84pItXJ5rTZsuFLj4/skSZXKsDZsuFKSVCyujrNrAIAECyR8mdntks6QtMjMhiV9QtJsSXL3myS9U9LvmtmopH2SLnR3D+LcQFyGhq47ELwmjI/v09DQdYQvAEBTgYQvd79ohuc/p+pWFEBmVCpbOmoHAEBih3vgoBUKiztqBwBAInwBB62/f416euZOauvpmav+/jUx9QgAkAaRFNwDWTRR1zU0dJ0qlS0qFBarv38N9V4AgJYIX0AXisXVhC0AQEeYdgQAAIgQ4QsAACBChC8AAIAIEb4AAAAiRPgCAACIEOELAAAgQoQvAACACBG+AAAAIkT4AgAAiBDhCwAAIEKELwAAgAgRvgAAACJE+AIAAIgQ4QsAACBChC8AAIAIEb4AAAAiRPgCAACIEOELAAAgQoQvAACACBG+AAAAIkT4AgAAiBDhCwAAIEKELwAAgAgRvgAAACJE+AIAAIgQ4QsAACBCs+LuAID4lctrNTR0nSqVLSoUFqu/f42KxdVxdwsAMonwBeRcubxWGzZcqfHxfZKkSmVYGzZcKUkEMAAIAdOOQM4NDV13IHhNGB/fp6Gh62LqEQBkG+ELyLlKZUtH7QCA7hC+gJwrFBZ31A4A6A7hC8i5/v416umZO6mtp2eu+vvXxNQjAMg2Cu6BnJsoqme1IwBEg/AFQMXiasIWAESEaUcAAIAIEb4AAAAiRPgCAACIEOELAAAgQoQvAACACBG+AAAAIkT4AgAAiBDhCwAAIEKELwAAgAixwz2Apsrltdx2CAACRvgC0FC5vFYbNlyp8fF9kqRKZVgbNlwpSQQwAOgC044AGhoauu5A8JowPr5PQ0PXxdQjAMgGwheAhiqVLR21AwDaQ/gC0FChsLijdgBAewhfABpasOAtkmxSW0/PXPX3r4mnQwCQEYQvANOUy2u1ffvXJHldq+noo3+TYnsA6BLhC8A0jYrtJdezz34vlv4AQJaw1QQiE8aeUexDFQ6K7QEgPIQvRCKMPaPYhyo8hcJiVSrDDdsBAN1h2hGRCGPPKPahCk9//xr19Myd1EaxPQAEg5EvRCKMaSymxtpTKvWpXO6d1l4sjmlkZEfDvzMxcsiULgAEL5DwZWa3SHq7pO3u/osNnjdJn5F0tqQXJV3i7g8HcW6kQxjTWEyNtadR8GrVPqFYXE3YAoAQBDXt+EVJb2vx/FmSBmofl0v624DOi5QIYxqLqTFMKJfXanBwldavL2lwcJXK5bVxdwkAmgpk5Mvd15tZf4tDzpV0m7u7pPvN7EgzO9bdtwZxfiRfGNNYTI1BYuEFgPSJquZrsaRn6j4frrVNCl9mdrmqI2Natoypo6wJYxqLqTG0WnjBvw0ASRTVakdr0ObTGtxvdveV7r6yr++oCLoFIO1YeAEgbaIKX8OSltZ9vkTSSETnRpeop0m3YnGso/a04QbgANImqvC1TtJ7reo0SXuo90qHiXqa6qpCP1BPQwBLj5GRHRob2zbto9k2E2nDwgsAaRPUVhO3SzpD0iIzG5b0CUmzJcndb5J0l6rbTGxUdauJS4M4L8JHPQ2SjoUXANImqNWOF83wvEv6vSDOhWhRT4M0YOEFgDTh9kJoiXoaAACCRfhCS2mqp2FhQDLwPgBAa9zbES2lpZ6m0UabTz75EW3a9HGNjv5nYvudNWx4CgAzI3xhRmmop2m0MEDar9HRZyVVQ8DPfvYRbdz4cY2NEcbCwgINAJgZ4QuZ0M4CAPf9Ght7JYwxIhM8FmgAwMyo+UImHMwCgIkRGQSHBRoHj1o5ID8IX8iERgsD2sGITLDStEAjSdjMGMgXwhcyoVhcrYGBG1UoLJFk6u1dILPZM/69IEZkGLF4xdT3oVBYooGBG5nanUGrWjkA2UPNFzJj6sKAcnntgVWas2YdqdHRvZL2H3g+iBGZtK/uq/8aBbUIIQ0LNJKGWjkgXwhfyKxWYSyooJHm1X1pD45ZUigsrk05Tm8HkD2EL+RGUCMy9SFO8obHpGHEIs3BMWv6+9dMCsIStXJAlhG+gA5MHS1qJg0jFkx1JUdaNjMGEAzCF9CBxpu5TpaWEQumupKFWjkgP1jtiEDkZcVf61GhdK3uY1sIAIgHI1/oWp4Kt5uPFi3Rqac+EEOPDh5TXQAQD8IXupanwu2sFUYz1QUA0SN8oWt5KtxmtAgA0C3CF7qWt8JtRosAAN2g4B5dy0Phdl4WFAAAwsfIF7qW9am4PC0oAACEj/CFQGR5Ki5PCwoAAOEjfAEzyNOCAnQnjPuHIjgrSiXtKPdOa+8rjumhkZEYeoS8InwBM8jbgoKsiSoQMT2dfI2CV6t2ICwU3CNSaSxcz8OCgqyaCETV8OwHAlEY/+5aTU8DQD3CFyIT5Q/CIBWLqzUwcKMKhSVK2y2E8u5gAtHB/oLA9DSAdjHtiMikuXA9ywsKsqzTQNTN1CHT0wDaxcgXIsPIAKLWLPg0a+9m6pDpaQDtInwhEO1M1XT6gxDoVqeBqJtfEJieTr6+4lhH7UBYmHZE19qdqsnaTamRfJ1uANzt1CHT08nGdhJICsIXutZuLVfWd8JHMnUSiPgFAUAUCF/oWidTNYwMIMn4BQFAFAhf6BqrvJAl/IIAIGwU3KNrrPICAKB9jHyha0zVAADQPsIXAsFUDQAA7SF8AWip2Y2po7phNQBkDeELSLGwA1CzPdz27Pmxtm//2kHdhgcA8o6CeyClorhRebM93LZt+/JB34YHAPKO8AWkVDf3IWxX89vqNL4dC/fpBICZEb6AlIriRuXN92rr7fB4AMAEwheQUlHcqLzRHm5ms2VWmHZss73d2rnpOgDkCQX3QErV34dw9eqtevbZY6YdUyyOaWRkx0GfY+oebrNmHanR0b2SXpx0XG/vAp144l9MK7Zv96brAJAnjHwBKVUsrtbAwI0qFJY0DF6SVC43nh7s9DynnvqA3vSmEfX2zpO0f9oxs2bNaximoqhLA4C0YeQLSLGoN7fttM4siro0AEgbRr4AtK3TOrMo6tIAIG0IX0BA8lBY3ulN1LnpOgBMx7QjEIC8FJZ3ehN1broOANMRvoAAtCosjyJoFItjDYvri8XGm6F2d67O6sy46ToATEb4AgIQd2F5N9tJAACiRc0XEAAKywEA7SJ8AQHISmF5HhYNAEDcmHZsoFxeS4EwOpKFwvK8LBoAgLgRvqbgBxAOVtoLy+NeNAAAecG04xTcDgV5FfeiAQDIC8LXFPwAQl6xaAAAokH4moIfQMirrCwaANJkRamkZb1Lp32sKJXi7hpCRPiagh9AyKticbUGBm5UobBEkqlQWKKBgRup9wJCtKPB5sit2pENFNxPkYVVa8imUqmv6S72QW2ymvZFAwCQBoGELzN7m6TPSOqV9Pfufv2U5y+R9D8lTRROfc7d/z6Ic4eBH0BIokbBq1V7nrFdDIAk6zp8mVmvpL+W9GuShiU9YGbr3P2JKYfe4e4f6vZ8ANAK28UASLogar5OkbTR3Z9y95clfVXSuQG8LgB0jO1iACRdEOFrsaRn6j4frrVNdb6Z/buZfcPMlgZwXgCYhu1ikCZ9xbGO2pENQdR8WYM2n/L5tyXd7u4VM7tC0q2SfnXaC5ldLulySVq2jK0dkE5RFMajuUJhsSqV4YbtQNI8NDISdxcQgyBGvoYl1Y9kLZE06V+Tu+9y90rt089LWtHohdz9Zndf6e4r+/qOCqBrQPTCKowvNvlNuFl7XrFdDICkC2Lk6wFJA2Z2vKqrGS+U9K76A8zsWHffWvv0HEk/DeC8QK4watYetosJ1wl9m3TqCQ+rsO1LevrZkhb2X6X5xfPi7haQKl2HL3cfNbMPSfquqltN3OLuj5vZtZIedPd1kn7fzM6RNCppt6RLuj0vADTDdjHhOOGEh/SmX/iRZvdWR1tHK1u0Y8PVkkQAAzoQyD5f7n6XpLumtF1T93iNJMb8ASDFTj31OweC1wQf36fdQzcQvoAOcHshAEBbDjvs2YbtoxWKxoFOEL6AgFEYj6zau3dBw/ZZBW4CDXSCezsCAaMwHlk1OHiW3vxf75g09Wg9c7Ww/6oYewWkD+ErYbgnHYCk2rRphaz0jE494WHNK7yo2QVWOwIHg/CVINyTDkDSbdpxgja/eLwuevtFOvHVy+PuDpBK1HwlSBLvSVcur9Xg4CqtX1/S4OAqlctrY+sLAABZwMhXgiTtnnSMxAFA8q0olbSjwR00+opj3L4ooRj5SpBm956L6550SRyJAwBM1ih4tWpH/AhfCZK0e9IlbSQOAIAsIHwlSLG4WgMDN6pQWCLJVCgs0cDAjbFN8SVtJA4AgCyg5ithknRPuv7+NZNqvqR4R+IAAJiQ5lo3wheamgiB7DuGrGJfPSC90lzrRvhCS0kaiQOCxGpeZEVfcazpCBCSifAFIJdareYlfCFNkj7FhukIXwByKemreZkSBbKL1Y4AcinJq3knpkQrlWFJfmBKlDtMANlA+AKQS0nbV68eGxwDM2tW05aGWjemHQHkUpJX8yZ9ShTTpXnbg7RK89eV8BUS6jWA5Evqat5CYXFtynF6O5IpzdseIHpMO4aAeg1kSanUp97eY6Z9lEp9cXcts5I8JQqge4SvEFCvgSwpN/nNvVk7upe0W40BCBbTjiGgXgNAt5I6JQqge4x8hSDJS9gBAEC8CF8hiKteo1xeq8HBVVq/vqTBwVXUmAFARNK87QGix7RjCOJYws596pBHrCpGUqR52wNEj/AVkqjrNbhPHcJSLI41LK4vxvwbPb9wAEgrwldGUOSPsIyM7Ii7Cw3xCweAtKLmKyMo8kfe8AsHgLQifGUEmzIib/iFA0BaEb4OQhJXFbIpI/KGXzg6k8TvW0BeUfPVoSQX+bIpI/IkyTfGTpokf98C8ojw1SGKfIHk4BeO9vB9C0gWph07RJEvgLTh+xaQLISvDlHki26VSn3q7T1m2kep1Bd315BRfN8CkoXw1SGKfNGtRhuWtmpHdyg05/sWkDTUfHWIIl8gPSg0r+L7FpAshK+DQJEvkA4Umr+C71tAcjDtCCCzKDQHkESELwCZRaE5gCQifAERKxbHOmrHwaPQHEASUfMFRGxkZEfcXcgNCs0BJBHhC0CmUWgOIGmYdgQAAIgQI18AgNRbUSppR4ONivuKY3poZCSGHgHNEb4AAG355jd/Ry+9NE+SdNsfv9KehIDTKHi1agfiRPgKWbm8lmJfAJkwEbymIuAAnSF8hYhbmwAAgKkouA9Rq1ubIP1KpT719h4z7aNU6ou7awCABCN8hYhbm2RbuclUS7N2AAAkwleoori1Sbm8VoODq7R+fUmDg6tULq8N7LUBIC36mtwholk7ECdqvkLU379mUs2XFOytTagpAxClOXNeaFh0n4SAE/dqS6AThK8QhX1rk1Y1ZYQvAEF7xzv+TvaaxzR73rguevtFWv7q5XF3CUglwlfIwry1CTVlAACkDzVfKRZFTRmaKzaZamnWDgCAxMhXqoVdU4bWRkZ2xN0FAEAKEb5SLOyasqCwyz8AAK8gfKVcmDVlQWBFZj6USn0N9zcrFscYIQSAKaj5QqjY5T8f2HAWANpH+EKoWJEJAMBkgYQvM3ubmT1pZhvN7OoGzxfM7I7a84Nm1h/EeZF8rMgEAGCyrsOXmfVK+mtJZ0l6naSLzOx1Uw57v6Rn3f1ESZ+W9Kluz4t06O9fo56euZPaWJEJAMizIEa+TpG00d2fcveXJX1V0rlTjjlX0q21x9+Q9BYzswDOjYQrFldrYOBGFQpLJJkKhSUaGLiRYnsAQG4FsdpxsaRn6j4flnRqs2PcfdTM9kg6StLOAM6PhEv6ikx0r1gca7raEQAwWRDhq9EIlh/EMTKzyyVdLknLlk2vCWK/qHRzd42MPKO9e5+LuyuZ9MY3vlG7dhWmtR91VEX33XdfqOf+/vebP/fkk6GeGiF67rk9kz53ecNv5hNWlEra0SCE9xXHuPE1UCeI8DUsaWnd50skTf1fNnHMsJnNknSEpN1TX8jdb5Z0syStXHnSpHDGflHptnv3Tt1997f11FNPamyM0ZAw7Np1ZpP2gr7+9VsbPgfMZHRU2rZtoXY+7/JjfqJef1Fzeudp/rz5045tFLxatQN5FUT4ekDSgJkdL2mLpAslvWvKMeskXSzp3yS9U9K97j5t5KuVVvtFEb6Sq1J5ST/60ff1wAM/1M6drq1b+zQ6OjvubuXO448vnfkgoIFRd40t2CU7fqt6D3H1Hd2n89+6WktLnf2benrwdC3sv0rzi+eF1FMgPboOX7Uarg9J+q6kXkm3uPvjZnatpAfdfZ2kL0j6kpltVHXE68JOz8N+UekyPj6uJ574d9177z9p587nNDy8UHte7pGOLkuF0bi7lzsv9w/F3QWkVc+YemaPaf7h8/TWN7xVv7LiVzRrVuc/OkYrW7RjQ3Unok4DGNOZyJpAbi/k7ndJumtK2zV1j1+SdEE35ygUFqtSGW7YjuR57LGHdffd39YLL7ygp55aohfHTT3HD6l3zpgKcwot60YQvMMWMu2Dg2Sz9PrXnKSzzjhL8w+bPtXYCR/fp91DN3QcvrI8nUmwzKfU3Nuxv3/NpJovif2ikuz55/fIzFQozJPZ4Zozf596DztEhx0xRx+5+CNip5HgfXna9sav+NjvfSySPrzxhBO1c/v0byuLjh7VfZs2RtIHBKunp0dz58yd+cA2jVYIFPWyHCzRXGrC10RdF6sd08bqPqoOm3dYbL3Jsr7iWNPfoOcdOi+SPjQKXhPtUfUB8Wn2b3DBgm0HHs8qlKLsEpBIqQlfEvtFAa0wRYG41f8bfL58p3ZsuFpeN1thPXO1sP+qOLoGJEqqwhcAIB0m6rp2D92g0cqIZhVKrHbsEPVg2UX4AgCEYn7xvEDCVqsp9SyjHiy7CF8AgETL8ihPq2BJyMouwheAwOR1hAKNMW02s1Zfh2W9bI6cVYQvAIHhByrqhT1tRrhDWhG+ACBABILoUBOFtOqJuwMAkCUEAgSl2XQ90/jpx8gXEAFGQ4D0iuv/L98bsouRLyACjIYA6cX/XwSN8AUACAXTZkBjTDsCAEIR9rQZW5sgrQhfABAgAkF0qIlCWhG+ACBABAIAM6HmC4gAtS9AevH/F0Fj5AuIAKMhQHrx/xdBY+QLAAAgQoQvAACACDHtCABTPF++U7uHbtBoZUSzCiUt7L9K84vnxd0tABlB+AKAOs+X79SODVfLx/dJkkYrW7Rjw9WSRABDU9xCDJ0gfAEZxA+Cg7d76IYDwWuCj+/T7qEbCF9oilsQoROEL6ADaQk1/CA4eKOVxu9js3YA6BQF90AHCDXZN6tQ6qgdADpF+AKAOgv7r5L1zJ3UZj1ztbD/qph6BCBrmHYEgDoTdV2sdgQQFsIXAEwxv3geYQsd4Ybq6AThC8ggfhAA0UrSghskH+EL6EBaQg0/CPIn7JW4aVnpC6QB4QvoAD9kkFRhr8RlpS8QHFY7AgAARIiRr4Qql9dqaOg6VSpbVCgsVn//GhWLq+PuFgAA6BLhK4HK5bXasOFKjdducVKpDGvDhisliQAGRIxaJwBBI3wl0NDQdQeC14Tx8X0aGrqO8AUEbKZwRa0TgKBR85VAlcqWjtoBHLyshKtmK26DWokb9usDecLIVwIVCotVqQw3bAeARsKeAmWKFQgOI18J1N+/Rj1T7i3X0zNX/f1rYuoRAAAICiNfCTRR18VqRwAAsofwlVDF4mrCFpAAabmrAYD0IHwByLWZwhW1TgCCRvgCkGuEK6Az7H3XPQruAQBA27KyPUucCF8AAAARInwBAABEiJovALlF7QqAOBC+AOQWtSvZRbBGkhG+ACDHshpSCNbhYe+77hG+ACDHCCnoVJpDeVIQvgAAwEHzcddLu17S/j37NT42LnncPQqBSb2FXs1bPE89s7tfq0j4AgAAB+2FLS9oTs8cLT5usWbNniUzi7tLgXN3PbvrWe3eslvz++d3/XpsNQEgt5rVqFC7ArRv7MUxHVs6VrMPmZ3J4CVJZqYFRy3QWCWY7w2MfAHILWpXsoui8Oi4u3p6sj+WY2aBTakSvgAgx7IaUgjWSDLCFwDkWFAhJatbVgBhyP44IQAgdGxZAbSP8AXggBWlkpb1Lp32saJUirtrABCKm/7mJr36Va/W4XMP12krT9MP7/th6OckfAE4gNELAHHZUb5dD90/oB/96xw9dP+AdpRvD/2cX7/j6/qjj/yRPrrmoxp8eFCnnX6azjn7HG3evDnU8xK+AABArHaUb9emn31QlcpmSa5KZbM2/eyDoQewz3z6M3rvxe/V+z/wfr32ta/VX332r3TMscfo5r+9OdTzdhW+zGyhmd1tZhtqfy5octyYmT1S+1jXzTkBAEDHpR+/AAAKcUlEQVS2bP75NRoff3FS2/j4i9r882tCO+fLL7+shx96WGe+9cxJ7Wf+2pm6/9/uD+28UvcjX1dL+p67D0j6Xu3zRva5++trH+d0eU4AQMKwYS26Uak801F7EHbu3KmxsTEdXTx6UnuxWNS2bdtCO6/U/VYT50o6o/b4Vkk/kPTRLl8TAJAybCeBbhQKS2tTjtPbwzZ1V353D32n/m5HvoruvlWSan8e3eS4OWb2oJndb2bv6PKcAELC6AWAOCw7/lr19Bw6qa2n51AtO/7a0M65aNEi9fb2qrytPKl9+/btKhaLoZ1XamPky8zukXRMg6c+1sF5lrn7iJm9StK9ZvaYu29qcK7LJV0uScuWLe7g5QFI3W90yegFgDj0FS+SVK39qlSeUaGwVMuOv/ZAexgOOeQQnbziZN1z9z06/4LzD7R/757v6bzV54V2XqmN8OXuZzZ7zszKZnasu281s2MlbW/yGiO1P58ysx9I+mVJ08KXu98s6WZJWrnypIDuoASkX7uhiq0iAKRVX/GiUMNWIx/+gw/r0vdeqlWnrNLpbzhdn7/p89o6slUfuOIDoZ6325qvdZIulnR97c9vTT2gtgLyRXevmNkiSW+QdEOX5wVyhVAFAMG74Lcu0K5du3T9J6/X1q1btfwXl+tb//QtHXfccaGet9vwdb2kr5nZ+yVtlnSBJJnZSklXuPtlkl4r6e/MbFzVGrPr3f2JLs8LAADQtSs+eIWu+OAVkZ6zq/Dl7rskvaVB+4OSLqs9/pGkX+rmPADixU2TASA47HAPYEZMewJAcLqddgSQIH3FsaYjVHFh1Gw6viZAvhG+gBRoN1Ql8Qc3o2bT8TUB8o3wBaRAEkMVkiXPo2l5vnakEzVfAJABeR5Ny/O1I50IXwBmxG2HACA4TDsCmBFTNwAQHEa+AISKUbPp+JoA+cbIF4BQMWo2HV8TIN8Y+QKADMjzaFqerx3duW/9fVp97modv+R4FXoKuu2Lt0VyXka+ACAD8jyaFve1s9VF95YdO1vlsk1rLxZdm7fuD+28e/fu1fLly/Xu97xb77v4faGdZyrCFwAAXWCri+41Cl6t2oNy1tln6ayzz5IkXXbpZaGeqx7TjgAAABEifAEAAESI8AUAABAhwhcAAECECF8AAHSBrS66Vyx6R+1px2pHAAC6wHYS3QtzO4lW9u7dq00bN0mSxsfH9czmZ/ToI49qwcIFWrZsWWjnZeQLQCqtKJW0rHfptI8VpVLcXQOQEg89+JBOOfkUnXLyKdq3b5+u/bNrdcrJp+jaT1wb6nkZ+QKQSuytBKBbbz7jzaqMVyI/LyNfAAAAESJ8AQAARIjwBQAAECHCFwAAQIQIXwBSib2VgIQwyT2b+3HVc3cpoPt8s9oRQCqxtxKQDD2ze/TSvpc099C5cXclVKP7R9XTG8yYFeELAJAIK0qlhluF9BXHCNsJVlhU0JYtW7R48WLNmTtHZgENDyXI+Pi4tm/frtlHzA7k9QhfAIBEYO+2dCocXpAkDW8d1vj+cSmDM5Bmpt5DezXvqHmBvB7hC0BbGJUA0Ezh8MKBEIaZUXAPoC2MSgBAMAhfAAAAESJ8AQAARIjwBQBIBPZuQ15QcI9QHHbY4Tr88CO0b5/r8MPnabRwiHoPPVILFh4ad9cAJBQLN5AXltRdac1sh6Sna58ukrQzxu7EhevOnwRf+0knSbMa/MI2Oio9+miXL57g6w5VXq9byu+15/W6pexf+3Hu3tfOgYkNX/XM7EF3Xxl3P6LGdedPXq+d686fvF57Xq9byve1T0XNFwAAQIQIXwAAABFKS/i6Oe4OxITrzp+8XjvXnT95vfa8XreU72ufJBU1XwAAAFmRlpEvAACATEhc+DKzC8zscTMbN7OmqyLMbMjMHjOzR8zswSj7GJYOrv1tZvakmW00s6uj7GMYzGyhmd1tZhtqfy5octxY7f1+xMzWRd3PoMz0/plZwczuqD0/aGb90fcyHG1c+yVmtqPufb4sjn4GzcxuMbPtZvaTJs+bmf3v2tfl383s5Kj7GIY2rvsMM9tT935fE3Ufw2BmS83s+2b209r39A83OCZz73mb153J97xj7p6oD0mvlfQLkn4gaWWL44YkLYq7v1Ffu6ReSZskvUrSIZIelfS6uPve5XXfIOnq2uOrJX2qyXF74+5rANc64/sn6YOSbqo9vlDSHXH3O8Jrv0TS5+LuawjX/iZJJ0v6SZPnz5b0HUkm6TRJg3H3OaLrPkPS/427nyFc97GSTq49ni/pZw3+rWfuPW/zujP5nnf6kbiRL3f/qbs/GXc/4tDmtZ8iaaO7P+XuL0v6qqRzw+9dqM6VdGvt8a2S3hFjX8LWzvtX//X4hqS3mJlF2MewZPHfblvcfb2k3S0OOVfSbV51v6QjzezYaHoXnjauO5Pcfau7P1x7/Lykn0paPOWwzL3nbV43lMBpxw64pH8xs4fM7PK4OxOhxZKeqft8WOn/x110961S9T+vpKObHDfHzB40s/vNLK0BrZ3378Ax7j4qaY+koyLpXbja/bd7fm0a5htmtjSarsUui/+v23W6mT1qZt8xs+VxdyZotbKBX5Y0OOWpTL/nLa5byvh73o5Y7u1oZvdIOqbBUx9z92+1+TJvcPcRMzta0t1m9h+137ISLYBrbzQCkvglq62uu4OXWVZ7z18l6V4ze8zdNwXTw8i08/6l8j1uQzvX9W1Jt7t7xcyuUHUE8FdD71n8svqez+RhVW/JstfMzpb0TUkDMfcpMGZ2mKR/lPQRd39u6tMN/kom3vMZrjvT73m7Yglf7n5mAK8xUvtzu5ndqeqURuLDVwDXPiypfjRgiaTE34221XWbWdnMjnX3rbVh9+1NXmPiPX/KzH6g6m9VaQtf7bx/E8cMm9ksSUcoG1M3M167u++q+/Tzkj4VQb+SIJX/r7tV/4PZ3e8ys78xs0Xunvr7/5nZbFUDyD+4+9oGh2TyPZ/purP8nncildOOZjbPzOZPPJb0VkkNV9Nk0AOSBszseDM7RNWC7NSu/KtZJ+ni2uOLJU0bATSzBWZWqD1eJOkNkp6IrIfBaef9q/96vFPSvV6rVE25Ga99Ss3LOarWjOTBOknvra2AO03Snomp+Cwzs2Mm6hnN7BRVfybtav23kq92TV+Q9FN3/8smh2XuPW/nurP6nncqlpGvVszsPEmfldQn6Z/M7BF3/3UzK0n6e3c/W1JR0p2192+WpK+4+z/H1umAtHPt7j5qZh+S9F1VV4/d4u6Px9jtIFwv6Wtm9n5JmyVdIElW3W7jCne/TNWVoH9nZuOq/me93t1TF76avX9mdq2kB919narfvL5kZhtVHfG6ML4eB6fNa/99MztH0qiq135JbB0OkJndruoqr0VmNizpE5JmS5K73yTpLlVXv22U9KKkS+PpabDauO53SvpdMxuVtE/ShRn5ReMNkt4j6TEze6TW9ieSlkmZfs/bue6svucdYYd7AACACKVy2hEAACCtCF8AAAARInwBAABEiPAFAAAQIcIXAABAhAhfAAAAESJ8AQAARIjwBQAAEKH/D0Ma4xHzdfJyAAAAAElFTkSuQmCC\n",
          "text/plain": "<Figure size 720x432 with 1 Axes>"
         },
         "metadata": {
          "needs_background": "light"
         },
         "output_type": "display_data"
        }
       ]
      }
     },
     "ec53615c76c24959a0c5305ae4110f65": {
      "model_module": "@jupyter-widgets/controls",
      "model_module_version": "1.5.0",
      "model_name": "IntSliderModel",
      "state": {
       "description": "max_leaf_nodes",
       "layout": "IPY_MODEL_d00f9cda37ae4feea98c52d94bb77cd5",
       "max": 6,
       "min": -2,
       "style": "IPY_MODEL_4f989bf01bbc4a188fb9e888b642ff6e",
       "value": 2
      }
     },
     "ecd8b162c1d44f62bb7bd2885852584b": {
      "model_module": "@jupyter-widgets/base",
      "model_module_version": "1.2.0",
      "model_name": "LayoutModel",
      "state": {}
     },
     "ed89ef3ba3ee41319f282028f8dd4e83": {
      "model_module": "@jupyter-widgets/controls",
      "model_module_version": "1.5.0",
      "model_name": "SliderStyleModel",
      "state": {
       "description_width": ""
      }
     },
     "ed9be1d4c8ea4966947aa665ee3d3d5d": {
      "model_module": "@jupyter-widgets/base",
      "model_module_version": "1.2.0",
      "model_name": "LayoutModel",
      "state": {}
     },
     "ee8e080b909f4be3b5d23449adf72c01": {
      "model_module": "@jupyter-widgets/controls",
      "model_module_version": "1.5.0",
      "model_name": "SliderStyleModel",
      "state": {
       "description_width": ""
      }
     },
     "eeba6399e9054d73bc93bfef6da1294d": {
      "model_module": "@jupyter-widgets/base",
      "model_module_version": "1.2.0",
      "model_name": "LayoutModel",
      "state": {}
     },
     "eee2d174cd1f48d8979b647a30bacbb6": {
      "model_module": "@jupyter-widgets/controls",
      "model_module_version": "1.5.0",
      "model_name": "SliderStyleModel",
      "state": {
       "description_width": ""
      }
     },
     "eefc1e89b2f64cdfbfd7a4a9e7e9b649": {
      "model_module": "@jupyter-widgets/base",
      "model_module_version": "1.2.0",
      "model_name": "LayoutModel",
      "state": {}
     },
     "ef031fc910544968ad86a7d26cab9a8c": {
      "model_module": "@jupyter-widgets/output",
      "model_module_version": "1.0.0",
      "model_name": "OutputModel",
      "state": {
       "layout": "IPY_MODEL_16d03eabed4741a79d842ce341a553b2",
       "outputs": [
        {
         "data": {
          "image/png": "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\n",
          "text/plain": "<Figure size 720x432 with 1 Axes>"
         },
         "metadata": {
          "needs_background": "light"
         },
         "output_type": "display_data"
        }
       ]
      }
     },
     "ef85f5df43ec4be6be1ec07b2fa91d0d": {
      "model_module": "@jupyter-widgets/controls",
      "model_module_version": "1.5.0",
      "model_name": "SliderStyleModel",
      "state": {
       "description_width": ""
      }
     },
     "efc00c61cbdc45469c7b439d9006ddec": {
      "model_module": "@jupyter-widgets/controls",
      "model_module_version": "1.5.0",
      "model_name": "SliderStyleModel",
      "state": {
       "description_width": ""
      }
     },
     "efe18b51b798424b95d6a6b2c8f23a09": {
      "model_module": "@jupyter-widgets/controls",
      "model_module_version": "1.5.0",
      "model_name": "SliderStyleModel",
      "state": {
       "description_width": ""
      }
     },
     "effac79f5ff04ed192dff10880c8101a": {
      "model_module": "@jupyter-widgets/controls",
      "model_module_version": "1.5.0",
      "model_name": "IntSliderModel",
      "state": {
       "description": "min_samples_leaf",
       "layout": "IPY_MODEL_001a5e429547410db08f5911086b9cbf",
       "max": 1,
       "style": "IPY_MODEL_f1d41a0272044242bb3961e2a9420c6f"
      }
     },
     "f0ac3827982b458faffc0e7e5f482b38": {
      "model_module": "@jupyter-widgets/base",
      "model_module_version": "1.2.0",
      "model_name": "LayoutModel",
      "state": {}
     },
     "f13162a90d4d4d0cae38c61f953f5121": {
      "model_module": "@jupyter-widgets/base",
      "model_module_version": "1.2.0",
      "model_name": "LayoutModel",
      "state": {}
     },
     "f1d41a0272044242bb3961e2a9420c6f": {
      "model_module": "@jupyter-widgets/controls",
      "model_module_version": "1.5.0",
      "model_name": "SliderStyleModel",
      "state": {
       "description_width": ""
      }
     },
     "f2cc39427eac4472a5087df831425d9a": {
      "model_module": "@jupyter-widgets/controls",
      "model_module_version": "1.5.0",
      "model_name": "IntSliderModel",
      "state": {
       "description": "max_depth",
       "layout": "IPY_MODEL_eeba6399e9054d73bc93bfef6da1294d",
       "max": 15,
       "min": 1,
       "style": "IPY_MODEL_110f1199d30d4809be1df484b24c0514",
       "value": 8
      }
     },
     "f41b567b0c5e4528aae983fd4e4b3492": {
      "model_module": "@jupyter-widgets/base",
      "model_module_version": "1.2.0",
      "model_name": "LayoutModel",
      "state": {}
     },
     "f4cc0ad271854913b197ccb0f816fb28": {
      "model_module": "@jupyter-widgets/base",
      "model_module_version": "1.2.0",
      "model_name": "LayoutModel",
      "state": {}
     },
     "f4e10559d95f4f73ad528567c67c9b3e": {
      "model_module": "@jupyter-widgets/controls",
      "model_module_version": "1.5.0",
      "model_name": "IntSliderModel",
      "state": {
       "description": "max_depth",
       "layout": "IPY_MODEL_19c1ba76cd98421c88776fde46699fe1",
       "max": 15,
       "min": 1,
       "style": "IPY_MODEL_73c6f12373594610a5515ada499e728b",
       "value": 2
      }
     },
     "f64215dcb2d943f19dbd58d955bf05ef": {
      "model_module": "@jupyter-widgets/controls",
      "model_module_version": "1.5.0",
      "model_name": "SliderStyleModel",
      "state": {
       "description_width": ""
      }
     },
     "f6b21a7a0f1d402a9d7ce5327c74a59e": {
      "model_module": "@jupyter-widgets/controls",
      "model_module_version": "1.5.0",
      "model_name": "IntSliderModel",
      "state": {
       "description": "min_samples_leaf",
       "layout": "IPY_MODEL_17d3e872bffc4749b1077898f35b15fe",
       "max": 6,
       "min": -2,
       "style": "IPY_MODEL_9925403cd9394c998a67d1a1fd2ab5a5",
       "value": 6
      }
     },
     "f7071a36f2de4084adc543487f7604b6": {
      "model_module": "@jupyter-widgets/base",
      "model_module_version": "1.2.0",
      "model_name": "LayoutModel",
      "state": {}
     },
     "f7489b7a5afe4ccaae2739219d641023": {
      "model_module": "@jupyter-widgets/base",
      "model_module_version": "1.2.0",
      "model_name": "LayoutModel",
      "state": {}
     },
     "f7a5a9dbf3a34db8ae4da6139107e7da": {
      "model_module": "@jupyter-widgets/controls",
      "model_module_version": "1.5.0",
      "model_name": "VBoxModel",
      "state": {
       "_dom_classes": [
        "widget-interact"
       ],
       "children": [
        "IPY_MODEL_f4e10559d95f4f73ad528567c67c9b3e",
        "IPY_MODEL_70eb510d214a4130978ef51898813c9d",
        "IPY_MODEL_15b425b55b874122829eaba2a4b4888d"
       ],
       "layout": "IPY_MODEL_361a6503a663441bbf9ad042d9500c65"
      }
     },
     "f7ef58dfd54546b591593da02cd13921": {
      "model_module": "@jupyter-widgets/output",
      "model_module_version": "1.0.0",
      "model_name": "OutputModel",
      "state": {
       "layout": "IPY_MODEL_7e1df5c0ed804c85b1ff1e18a512c2b1",
       "outputs": [
        {
         "data": {
          "image/png": "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\n",
          "text/plain": "<Figure size 720x432 with 1 Axes>"
         },
         "metadata": {
          "needs_background": "light"
         },
         "output_type": "display_data"
        }
       ]
      }
     },
     "f805f190918949e6b2e22a84c10ba505": {
      "model_module": "@jupyter-widgets/controls",
      "model_module_version": "1.5.0",
      "model_name": "SliderStyleModel",
      "state": {
       "description_width": ""
      }
     },
     "f89c923a6b0c47598fed6cc8d77f8c71": {
      "model_module": "@jupyter-widgets/output",
      "model_module_version": "1.0.0",
      "model_name": "OutputModel",
      "state": {
       "layout": "IPY_MODEL_9e3e9b617923412fb2c4ae3a0c92c081",
       "outputs": [
        {
         "data": {
          "image/png": "iVBORw0KGgoAAAANSUhEUgAAAl8AAAF1CAYAAADWYI/QAAAABHNCSVQICAgIfAhkiAAAAAlwSFlzAAALEgAACxIB0t1+/AAAADl0RVh0U29mdHdhcmUAbWF0cGxvdGxpYiB2ZXJzaW9uIDMuMC4wLCBodHRwOi8vbWF0cGxvdGxpYi5vcmcvqOYd8AAAIABJREFUeJzt3Xt8XHWd//H3Z3KZpk16o21o0pYUKLeCRWhBqSvITUEXtIgrLiugwrKuP9ffyq52d3+o+Nst7rIXf7jK4soqqKhAFdxFkYtYFVqgFSyg9Ebapm2maXpNm06TzPf3x0xKLpNkkjnXmdfz8eijyXdOzvmcmVze8/1+z/eYc04AAAAIRiLsAgAAAMoJ4QsAACBAhC8AAIAAEb4AAAACRPgCAAAIEOELAAAgQIQvAIEys5+Y2XUFbNdhZsf7cPxmM7vY6/2OoY7Pm9m3w64DQPAqwy4AQPSYWbOkekndknokvSrpXkl3O+cyxezbOXdZgdvVFnMcAIgqer4ADOUPnXN1ko6TdLukz0j6RrglQZLMrCLsGgCMHeELwLCcc/ucc49I+iNJ15nZ6ZJkZkkzu8PMtphZyszuMrOa3q8zsyvN7EUz229mG83sXbn2p83sY7mPTzSzX5jZPjPbZWbf7/P1zsxOzH08yczuNbM2M9tsZn9nZoncY9eb2a9ytewxs9fNbKTetUVm9mpu+/8ys3F9jnujmW0ws91m9oiZNeTam3I1VfbZtu+5DFuHmc3NnesBM3tc0rS+BZnZA2bWmnsuVpjZ/D6PfdPMvmZmj5rZQUl/mXvO+9ZylZm9OMJ5A4gAwheAgjjnnpPUIukPck1fknSSpDMlnSipUdKtkmRm5yg7TPlXkiZLeruk5jy7/aKkn0maImmWpDuHOPydkiZJOl7S+ZI+LOmGPo+fK+k1ZQPNP0r6hpnZMKfzx5LeKemE3Dn8Xa7uCyUtk/QBSTMlbZb0vWH2M9BwdXxX0urcY1+UNHDe208kzZM0Q9IaSd8Z8PiHJP29pDpln492SZf0efxaSfeNolYAISF8ARiN7ZKm5gLFjZL+t3Nut3PugKR/kPTB3HYflXSPc+5x51zGObfNOff7PPvrUnZYs8E5d9g596uBG+SG2P5I0lLn3AHnXLOkf5b0J3022+yc+7pzrkfSt5QNTvXDnMdXnHNbnXO7lQ001+Ta/zhX9xrnXFrSUklvNbOmkZ6Y4eowszmSFkn6P865tHNuhaQf9/1C59w9ufNLS/q8pAVmNqnPJg87536dez4P5/Z/be45mqpsmPxugXUCCBHhC8BoNEraLWm6pPGSVpvZXjPbK+mnuXZJmi1pYwH7+2tJJuk5M3vFzD6SZ5tpkqqV7YXqtTlXS6/W3g+cc4dyHw43YX/rgH015D5u6Hsc51yHsj1MfY81nKHqaJC0xzl3cMBxJWUDppndnhue3a83egn7Dk32rVmSvi3pD82sVtmeul8653YUWCeAEBG+ABTEzBYpG0J+JWmXpE5J851zk3P/JvW5QnGrskN6w3LOtTrnbnTONUj6U0lf7Z3n1ccuvdFD1muOpG1FnM7sAfvanvt4e9/jmNkEScfkjtUbnMb3+dpjCzzeDklTcvvre9xeH5J0paSLlR1ebeotoc82ru8OnXPbJD0r6X3K9gIy5AjEBOELwLDMbKKZvUfZuU/fds6tzS038XVJ/2pmM3LbNZrZO3Nf9g1JN5jZRWaWyD12Sp59X21ms3Kf7lE2YPT03SY3hPcDSX9vZnVmdpykv1S252es/tzMZuWG6/5GUu9E/+/m6j7TzJLKDqWucs41O+falA1h1+Z6qj6iAgJm7hw2S3pB0hfMrNrM3ibpD/tsUicprWwv2/jccQtxr7K9h2dI+mGBXwMgZIQvAEP5sZkdULYX628l/Yv6T3L/jKQNklbmhsqekHSydHRy/g2S/lXSPkm/UP+eq16LJK0ysw5Jj0j6C+fc63m2+1/K9jxtUrbn7buS7ini3L6r7ET/Tbl//zdX95OS/o+kh5TtrTpBb8xjk7Lz3P5K2ZA0X9Izozjmh5SdkL9b0ueUDU697lV2GHKbsmuqrSxwnz9U9nn94YAhTQARZs65kbcCAESSmW2U9KfOuSfCrgVAYej5AoCYMrOrlB2qfSrsWgAUjtsLAUAMmdnTkk6T9CfF3vIJQLAYdgQAAAgQw44AAAABInwBAAAEKLJzvqZNm+qammaPvCEAwDft7W06ciStrq5qdXdXysZ1yiqkqZOmaty4cSPvACgTa1ev3eWcmz7ylhEOX01Ns/Xcc4+FXQYAlLX77rtLW7ZsUmvrLO3ePU12ylpVTcjomvdco/knzQ+7PCAy5lTM2TzyVlkMOwIAAASI8AUAABAgwhcAAECACF8AAAABInwBAAAEiPAFAAAQIMIXAABAgAhfAAAAASJ8AQAABIjwBQAAECBPwpeZ3WNmO83s5SEev8DM9pnZi7l/t3pxXAAAgLjx6t6O35T0FUn3DrPNL51z7/HoeAAAALHkSc+Xc26FpN1e7AsAAKCUBTnn661m9pKZ/cTM5ufbwMxuMrMXzOyFtrb2AEsDAAAIRlDha42k45xzCyTdKelH+TZyzt3tnFvonFs4ffoxAZUGAAAQnEDCl3Nuv3OuI/fxo5KqzGxaEMcG/JRKLdeqVYu0YkWDVq1apFRqedglAQAizqsJ98Mys2MlpZxzzszOUTb0Ma6IWEullmv9+luUyXRKktLpFq1ff4skqb5+SZilAQAizJPwZWb3S7pA0jQza5H0OUlVkuScu0vS+yX9mZl1S+qU9EHnnPPi2EBYmpuXHQ1evTKZTjU3LyN8AQCG5En4cs5dM8LjX1F2KQqgZKTT20bVDgCAxAr3wJglk42jagcAQCJ8AWPW1LRUiURNv7ZEokZNTUtDqggAEAeBTLgHSlHvvK7m5mVKp7cpmWxUU9NS5nsBAIZF+AKKUF+/hLAFABgVhh0BAAACRPgCAAAIEOELAAAgQIQvAACAABG+AAAAAkT4AgAACBDhCwAAIECELwAAgAARvgAAAAJE+AIAAAgQ4QsAACBAhC8AAIAAEb4AAAACRPgCAAAIEOELAAAgQIQvAACAABG+AAAAAkT4AgAACBDhCwAAIECELwAAgAARvgAAAAJE+AIAAAgQ4QsAACBAhC8AAIAAEb4AAAACRPgCAAAIUGXYBQAIXyq1XM3Ny5ROb1My2aimpqWqr18SdlkAUJIIX0CZS6WWa/36W5TJdEqS0ukWrV9/iyQRwADABww7AmWuuXnZ0eDVK5PpVHPzspAqAoDSRvgCylw6vW1U7QCA4hC+gDKXTDaOqh0AUBzCF1DmmpqWKpGo6deWSNSoqWlpSBUBQGljwj1Q5non1XO1IwAEg/AFQPX1SwhbABAQhh0BAAACRPgCAAAIEOELAAAgQIQvAACAABG+AAAAAkT4AgAACBDhCwAAIECELwAAgAARvgAAAALECvcAhpRKLee2QwDgMcIXgLxSqeVav/4WZTKdkqR0ukXr198iSQQwACgCw44A8mpuXnY0ePXKZDrV3LwspIoAoDQQvgDklU5vG1U7AKAwhC8AeSWTjaNqBwAUhvAFIK8pUy6SZP3aEokaNTUtDacgACgRhC8Ag6RSy7Vz5w8kuT6tphkzPsBkewAoEuELwCD5JttLTnv2PBlKPQBQSlhqAoHxY80o1qHyB5PtAcA/hC8Ewo81o1iHyj/JZKPS6Za87QCA4kQ2fLW379Ldd/9L2GXAIyec8B+qqhq8ZtTLLy/Vww83R2afyKqrW6CZM1uVSHQfbctkKrVp0wK99BI/l+Vk797d2r+/Srv3JHRk/HZVuiOqtiolEsxaAcYqsuHr8OFurVlzKOwy4JGTT96ft72ycv+YX2c/9lmKvv3tf1Bn58RB7TU1+3XttX8zxFc16bjj3qEzz3xW48d36NChWr344lu1eXOTJJ7bcpJO12l/l0kzm2XjD8uqqvXmU9+sE5tODLs0ILY8CV9mdo+k90ja6Zw7Pc/jJunLki5X9jf39c65NcPtsztTpTZlvCgPEXDgUK0mTujI2z7W19mPfZaifMGrt32456lt84l6YfPAP7A8r2Vn4j5p4gFVVptmzZmjD1x6tWbNnBV2VUCsedXz9U1JX5F07xCPXyZpXu7fuZK+lvt/aMkjSszc6VF5CNszzafqolPWqKqi52hbV0+Fnmk+dcyvsx/7LDel8jzNm7FF5x3/surGderA4Ro9s+l0rd85J+yySoNJkydN0hUXXaEzTzuT4UbAA56EL+fcCjNrGmaTKyXd65xzklaa2WQzm+mc2zH0l1i/FYYQb+tyfwgH/oFcV8QfSD/2WW5K4WfspBlb+oXwiTWduuiUbMc63wvFM0lOTtkBDABeCGrOV6OkrX0+b8m19QtfZnaTpJskacox9XI7pgdUHoLw2o7peu2lsyO/z3JSCj9j553zWL/eT0mqqujReU2/43vDAy6Z1p6uA7pv+bf19JyndfU7r9asYxl2BIoRVPjK95Zp0Jtu59zdku6WpIaGBjc9utcDACWhFH7G6sYPnvfX214K5xe29P4a7W+fou6ZKTVv2qIv/9edWnzWW/Xui96tqsqqsMsDYimo30wtkmb3+XyWpO3DfcH48ZU68cQjvhaFwkydul6zZz+v6uoOHTlSq61bF2n37nlhl4UC1dbuU0fHpLztpfAzduRIrZLJwQHsyJHakji/sHV3d2jv3iptbWnSkfGH5Wbt0OpXV+vkE07WqSeeGnZ5QCwFFb4ekfQJM/ueshPt9w0/30uaNGmyPvnJvw2kOAytre1Hev31+44uZJpMduikk1Zq7tz3avr094ZcHQrxyU/uk7RviEfj/zPW1jZfr7/+2X63Q0okanTaaX+v88/ne7QYu3al9MAD31JFxWEdPJjR7t0NMmuXcxllMlz5CoyVV0tN3C/pAknTzKxF0uckVUmSc+4uSY8qu8zEBmWXmrihgH2qurrai/JQhJaWfxp0j79MplMtLf+kxsYPhFQV8IbGxg+osrKS20z5oLKSYVvAD15d7XjNCI87SX/uxbEQLO7xhzior19C2AIQGyzYgmENdS8/7vEHAMDYEL4wrKampUokavq1JRI1ampaGlJFQ0ullmvVqkVasaJBq1YtUiq1POySyhKvAwAMjwF9DKt3KCfq82lSqeVav/6Wo/PT0ukWvfbap7Rx49+pu3tvZOsuNfleh/Xrb5EknnsAyCF8YURxmE/T3Lxs0IUBUpe6u/dIyoaAdes+pQ0b/k49PYQxv+R7HTKZTjU3L+O5BoAcwhdKQiEXADjXpZ6eN8IYPTLe4wINABgZc75QEsZyAUBvjwy8wwUaY8dcOaB8EL5QEvJdGFAIemS8FacLNKKkd65cOt0iyR3tmSWAAaWJ8IWSUF+/RPPm3aFkcpYkU0XFFJmNfN85L3pk6LF4w8DXIZmcpXnz7mBodwTDzZUDUHqY84WSMfDCgFRq+dGrNCsrJ6u7u0NS19HHveiRifvVfX2fI68uQojDBRpRw1w5oLwQvlCyhgtjXgWNOF/dF/fgWEqSycbckOPgdgClh/CFsuFVj0zfECe5vNvEoccizsGx1DQ1Le0XhCXmygGljPAFjMLA3qKhxKHHgqGu6IjLYsYAvEH4AkYh/2Ku/cWlx4KhrmhhrhxQPrjaEZ4olyv+hu8VitfVfSwLAQDhoOcLRSunidtD9xbN0rnnPh9CRWPHUBcAhIPwhaKV08TtUpsYzVAXAASP8IWildPEbXqLAADFInyhaOU2cZveIgBAMZhwj6KVw8TtcrmgAADgP3q+ULRSH4orpwsKAAD+I3zBE6U8FFdOFxQAAPxH+AJGUE4XFKA4ftw/FN45u6FBbamKQe3T63u0evv2ECpCuSJ8ASMotwsKSk1QgYjh6ejLF7yGawf8woR7BCqOE9fL4YKCUtUbiLLh2R0NRH583w03PA0AfRG+EJgg/xB6qb5+iebNu0PJ5CzF7RZC5W4sgWisbxAYngZQKIYdEZg4T1wv5QsKStloA1ExQ4cMTwMoFD1fCAw9AwjaUMFnqPZihg4ZngZQKMIXPFHIUM1o/xACxRptICrmDQLD09E3vb5nVO2AXxh2RNEKHaoptZtSI/pGuwBwsUOHDE9HG8tJICoIXyhaoXO5Sn0lfETTaAIRbxAABIHwhaKNZqiGngFEGW8QAASB8IWicZUXSglvEAD4jQn3KBpXeQEAUDh6vlA0hmoAACgc4QueYKgGAIDCEL4ADGuoG1MHdcNqACg1hC8gxvwOQEOt4bZv33PaufMHY7oNDwCUOybcAzEVxI3Kh1rDrbX122O+DQ8AlDvCFxBTxdyHsFBD31Yn/+1YuE8nAIyM8AXEVBA3Kh96rbaKUW4PAOhF+AJiKogbledbw82sSmbJQdsOtbZbITddB4BywoR7lLS9e3dr9+5dYZfhi/Hjr9eRI/8k59JasmSH9uw5dtA206Yd0bPPriziKKdr0qRPa//+r6unZ6cSiYnKZDokHeq3ldlETZr0SR08eLo2bVp3tP3gwce1d2+2Rik7MX/dur9Ue/tOnXLKTUokeP8HoPwQvlCSDh8+rF//+kmtXv2Murq6wi7HN9OnL1RT04t5g5ck7dpVrfvv/08PjnSpJGnRouUaN27wfK/Ozh6tWLFZUv9jZbdP92tzLq2Wlju0cuURXXrplZo16zgP6gOA+CB8oaRkMhm98spv9NRTP1Vb2z5t3z5V6XTNyF8YW436xS/+YNgtXn3Vu2HIt73tYN72ZPJg3uMMt/3atW1qbf2aTj/9zXrHO96lurpJntUJAFFG+ELJ2LZti372s0e0desWtbbWaeeemcpM2yWb3h52aaE6PGvwTc/H6kDnBE0cPzhQHeickPc4w22/efcEte2q1IEDv9G6da9q8eILtWjRYlVW8msJQGnjtxxKQmvrdj344L3at2+Ptm6drvbddbITNylRk1ZlVUJm/s8tOnHaZr2l6beqTR5SR3q8Vja/SRt2hT+kVj3Ju2HXVVvO0AXznldVxRtDj109FVq15Yy8xxlq+2eb5ysxe4cObZ+pTZsalUi06Omnf6KOjv265JI/9KxeAIgiwhdKwtSp03Tiiafqt799XpMnH9D+A+PU1T5ZmrFbXe6IzDK+Hv+k+i26YN6aoyGjbtwhXTDvefX09Ghdao6vxx5J15Fuz/b1u+2N6unp0XnHv6y6cZ06cLhGz2w6XetSjZIGH2eo7V/bMVs6lJQdSmrSpANKJns0depMnXrqmzyrFQCiivCFklBdXa13v/sqLViwUD/72cOqrW1Ra2ud2jcdp56qbjmZr8c/b9Hj/Xp3JKmqokfnzXlNrz1zvq/HlqTkuP1KH56Yt91tnOvpsV7bOHdU55R3+4xUk3Ca1bRT06ZV67zz3q1Fixarqqra01oBIIoIXygps2Ydp+uv/4TWrl2tn//8Me3fv10HDlTJzN/wVVe7f8j2E2bu8fXYkvSJP/9L34/hpUQio7q6Hs2ff6YuvPByTZzIZHsA5YPwhZKTSCS0YMEinXTS6Vq37hW98sqLvh+zp2eSKiv35W0/88wm348fN9XV1Tr33Ldr9uymsEsBgMARvlCyampqtGDBQi1YsND3Y6VSU7V+/S397rWYSNRo/vx/0IUXLvH9+F5JpZaruXmZ0ultSiYb1dS0VPX18akfAOKA8JUHf4AwWr3fH3H+vkmllvcLkOl0i9avv0WSYnUeABB1hK8B+AOEsaqvXxLr75Hm5mX9eu4kKZPpVHPzslifFwBEDTdWG2C4P0BAKUunt42qHQAwNvR8DcAfoNLS1XVEBw/mv8UN+quqOlZdXTvytu/d6+0Vm5WVlaqtrfN0nwAQF4SvAZLJRqXTg2+Tkkx6d388+C97j8eX9PTTP9WhQ4SvQhxzzEk64YSdquizXllPT4XWrTtJK1b8s6fHMjOdeuqb9I53vIsQhrJ2dkOD2lIVg9qn1/do9fbtIVSEIBC+BmhqWpr3qrWmpqUhVoXR2LGjRY899rC2bNmsVGqCDudZfBT5nKXW1hqdddavNWHCAR08WKc1axbr9ddP9fxIiUSP9uxZrXXrXtHixRdq4cLzuKcjylK+4DVcO0oDv+0GKIWr1spVR8cBPf30Y1q7drXa2iq0bcdMddV2yCbkXwA1bn5yzz8r3Tl4MdJkzT5d9pFPe3KM3+xs1G9++oH+jX48fz0J7d4yXe3tae3f/9968cXndMklV+j44+f5viAuAITNk/BlZu+S9GVJFZL+0zl3+4DHr5f0T5J6J059xTn3n14c2w9xv2qtHLW3t+l737tHu3e3adu2KWrbNUlq2qJE7SFVVlZIPt9eKAj5gldve9WMjoCrKU4m06Oeyfu0q2WWDqxrVE/PNj344De1ePFFetvbLip6/ywXAyDKig5fZlYh6d8lXSKpRdLzZvaIc+7VAZt+3zn3iWKPB+Szc2er0ulOJZNJdXcfo6rxCVVMNo2rrdMliy9R/bT6sEss2gOfG/qxP/3jG4MrxAOP/eIxtbRuV2aKk7VNUibTIec6tH371qL3zXIxAKLOi56vcyRtcM5tkiQz+56kKyUNDF+A78xMZpUykxJmSiQSOnnuyZoxbUbYpfnqpLknhV3CqPzmld9oe1urnJmkhBKJhBIJb3onWa8MQNR5sc5Xo6S+b1dbcm0DXWVmvzWzB81stgfHBYBBWC4GcTK9vmdU7SgNXvR85Xu76gZ8/mNJ9zvn0mZ2s6RvSbpw0I7MbpJ0kyTNmcPSDognLh0PF8vFIE74nVCevOj5apHUtydrlqR+303OuXbnXDr36dclnZ1vR865u51zC51zC6dPP8aD0oDg+XXpOO+QC9PUtFSJRE2/NpaLARAlXvR8PS9pnpnNVfZqxg9K+lDfDcxspnOud+nsKyT9zoPjAmWFd8iFYbkYf50wfaPOPWGNkq33afOeBk1t+mvV1b8v7LKAWCk6fDnnus3sE5IeU3apiXucc6+Y2W2SXnDOPSLpk2Z2haRuSbslXV/scQFgKCwX448TTlitt5/8jKpyd0HoTm9T2/rPShIBDBgFT9b5cs49KunRAW239vl4qST6/AEgxs499ydHg1cvl+nU7uZ/JHwBo+DFnC8AQBmorc1/g/XuNEPiwGgQvgCPMTEepaqjY0re9spkQ8CVAPHGvR0BjzExHqVq1arLdP47vt9v6NESNZra9NchVgXED+ErYrgnHYCo2rjxbFnDVp17whpNSB5SVZKrHYGxIHxFCPekAxB1G9tO0JZDc3XNe67RiSfND7scIJaY8xUhw92TLiyp1HKtWrVIK1Y0aNWqRUqllodWCwAApYCerwiJ2j3p6IkDgOjjlmbxQ89XhAx177mw7kkXxZ44AEB/ft3SDP4hfEVI1O5JF7WeOAAASgHhK0Lq65do3rw7lEzOkmRKJmdp3rw7Qhvii1pPHAAApYA5XxETpXvSNTUt7TfnSwq3Jw4AgF5xnutG+MKQekMg646hVLGuHhBfcZ7rRvjCsKLUEwd4iat5USqm1/cM2QOEaCJ8AShLw13NS/hCnER9iA2DEb4AlKWoX83LkChQurjaEUBZivLVvL1Doul0iyR3dEiUO0wApYHwBaAsRW1dvb5Y4BgY2VBz2uIw141hRwBlKcpX80Z9SBSDxXnZg7iK8/NK+PIJ8zWA6Ivq1bzJZGNuyHFwO6IpzsseIHiELx9wCTtKCe/og8cCx0BpY86XD5ivgVLCO/rgRe1WYwC8Rc+XD5ivAaBYUR0SBVA8er58EOVL2AEAQLgIXz4I6xL2VGq5Vq1apBUrGrRq1SLWBAKAgMR52QMEj2FHH4RxCTuT/FGOuKoYUcHFJxgNwpdPgp6vwX3q4Jeo3rSXNxwA4orwVSKY5A+/RPUdPW84AMQVc75KBJP8UW54wwEgrghfJSLK96kD/MAbDgBxRfgagyheVciijCg3vOEYnSj+3gLKFXO+RinKk3xZlBHlJMo3xo6aKP/eAsoR4WuUmOQLRAdvOArD7y0gWhh2HCUm+QKIG35vAdFCz9coJZONSqdb8rYDhTi7oWHIdbOiuqwD4o3fW0C00PM1SkzyRbHyBa/h2lEcJprzewuIGnq+RolJvkB8MNE8i99bQLQQvsaASb5APDDR/A383gKig2FHACWLieYAoojwBaBksQo+gCgifAEBm17fM6p2jB0TzQFEEXO+gICxnERwmGgOIIoIXwBKGhPNAUQNw44AAAABoucLABB73DkCcUL4AgAU5Ec/+lMdPjxBknTvX73RHoWAw50jECeEL5+lUsuZ7AugJPQGr4EIOMDoEL58xK1NAADAQIQvH3Frk9LGHBMAwFhwtaOPuLVJaWOOCQBgLAhfPgri1iap1HKtWrVIK1Y0aNWqRUqllnu2bwCIC+4cgThh2NFHTU1L+835kry9tQlzygAEady4g3kn3Uch4DDUjzghfPnI71ubMKcMQJDe+97/kJ2yVlUTMrrmPddo/knzwy4JiCXCl8/8vLUJc8oAAIgf5nzFWBBzyjA05pgAAMaCnq8Y83tOGYbHHBMAwFgQvmLM7zllXmGVfwAA3kD4ijk/55R5gSsyywMLzgJA4ZjzBV8Nd0UmSgcLzgJA4Qhf8BVXZAIA0J8n4cvM3mVmr5nZBjP7bJ7Hk2b2/dzjq8ysyYvjIvq4IhMAgP6KDl9mViHp3yVdJuk0SdeY2WkDNvuopD3OuRMl/aukLxV7XMRDU9NSJRI1/dq4IhMAUM686Pk6R9IG59wm59wRSd+TdOWAba6U9K3cxw9KusjMzINjI+Lq65do3rw7lEzOkmRKJmdp3rw7mGwPAChbXlzt2Chpa5/PWySdO9Q2zrluM9sn6RhJuzw4PiIu6ldkonjT63uGvNoRANCfF+ErXw+WG8M2MrObJN0kSXPmDJ4TxHpR8eac0/btW9XRsd/zfadS2+SOfkc55f+WK21hLvfgxf6dkw4fPqzXXnvZg4rghf379/X73MkN+5M11PfgtPpurWze7HF1QHx5Eb5aJM3u8/ksSQN/E/du02JmlZImSdo9cEfOubsl3S1JCxcu6BfOWC8q3nbv3qXHH/+xNm1OR1XNAAAU10lEQVR6TT09/vSGpNMJbds2Xfu69ssaW5XJpFVbNUXja8b7cryoidNyD3UT6tTT060jdduU6TysDZsmqXHmYR05slFbtmwMuzz00d0ttbZO1a4DTu7Yl1XhDmlcxQTVTagbtO1Q32u7UpX6wp1f8LtUIDa8CF/PS5pnZnMlbZP0QUkfGrDNI5Kuk/SspPdLeso5N6jnazjDrRdF+IqudPqwnnnm53r++V9p1y6nHTumq7u7ypdjdalHmRltsokHVFGd0HFNc/SBd35AtRNqfTkexu7ixRerqqpKP3/25zqYSKlr8m69vqNeVduOUaL8Oi0jrds59Uxpl83doYpqp+kzpuuqS5dodsPskb+4j/ef/pB+ve5NWrejyZ9CgRgpOnzl5nB9QtJjkiok3eOce8XMbpP0gnPuEUnfkHSfmW1Qtsfrg6M9DutFxUsmk9Grr/5WTz31P9q1a79aWqZq35GENCMlJbv9OWiiRxXVGU09ZrKuvOhKnXHyGUokWMouiqqrq3XJ2y7R2aefrYeefEiv/X6djlS3qLurOuzSMFCiR4mqHtVNnKBLF1+q884+T5WVo//TMbHmkC4+7QVVpOq1YcPpo/raRx75jNLpwT1tyeQBXXEFF88jfjy5vZBz7lFJjw5ou7XPx4clXV3MMZLJRqXTLXnbET1r167R44//WAcPHtSmTbN0KGNKzG1WxbgeJcclfZmRlaio1tsX/oHOf8v5SlYnfTgCvDZ18lTdeNWN2rh5ox56/CHt3bM37JIwkFXqzFMW6LILLlNd7eAANBpVVd16+9sfV3X1hFF93QMP5D9uOl2n0057vaiawnbHHf+ugwcnD2qfMGGvbrnlz0OoCEGIzb0dm5qW9pvzJbFeVJQdOLBPZqZkcoLMJmpcXacqaqtVO2mcPnXdp+THSiNVlVWqrqbnJExjnfR/wnEn6JaP3KLOw51DboNwJBIJ1YyrGXnDAiWTh9TSMtWz/Xm5rzDkC1697XE/NwwtNuGrd14XVzvGjfX5l8UcLH9EYbmHYib9JxIJTRg/uh4RRMtQ34NTprQe/fjAoVq1V3V5dkwv9xU1pXxu5S424UtivShgOH4vJwGMpO/34L7W5Wpb9xmZ0kfbunoqtHLzaao8dtDF7mPm5b6ippTPrdzFKnwBAOJh0rFLlDBT++tfUveRHXKJacrUXae3XfAOvW2U+3rw80M/dsPV1xdRZfiGO7cn7rxPe9sHz1+dfExa31nxpH9FYUwe/PwDBW9L+AIA+KKu/n2qq39f0fsZbkj9jFPOKHr/UZUvePW2l/J5lwPCFwAg0kp5SH24YBnFBZLhDcIXAM9EYdI/oiPMW17FxXDPw5yK0S1ki/ggfAHwDH9Q0Zfft7wi3CGuCF8A4CECQXDidD9ToC/uvQIAHiIQwCtDDdczjB9/9HwBAaA3BIivsH5++d1Quuj5AgJAbwgQX/z8wmuELwCALxg2A/Jj2BEA4Au/h81Y2gRxRfgCAA8RCILDnCjEFeELvnHOKZPJyLmM5JyU+3zTlk0ys7DLC9jQiyW+vvX1AOuA3x5cNfTr+frWAAuBh/j5hbcIX/DFscc2qqIioa6ug6qq2q19+5Ky/d063HVIX73va2GXF7hk7ZuU7picp32v/v3er4ZQEYBC8fMLr5lzLuwa8lq4cIF77rnHwi4DRdi5c4d++tOH1dy8UTt31qp11yRlpuyRJbvDLg0AAE/96M57VjvnFhayLT1f8M2MGTN17bU3ad26V/TEE/+tqTt3KJWaqK79dWGXBgBAaAhf8FUikdApp5yh448/SStXrtBzz/1KPT2Hwi4LAIDQMOyIQB06dFCHDh0MuwxgWHv3/o927rxT3d2tqqw8VjNm/C9NnvzusMsCEGH19QsYdkQ0jRtXo2RyXNhlAEPaufOHam39ojKZTklSd/cOtbZ+URMm1GnGjPeFXB2iavbsY5XKs8RIfX2Ptm5tDaEiRBnhC4HIZDL6/e/X6umnH1NnJ8OOfrvtti+po2PSoPba2n269dbPhFBRfLzpTd9RMtnZry2T6dTLLy/Vb3/7ckhVIepSqbuGaK/Qv/3bFwOuBlFH+ILvslc9/kjNzZvU3j5eXV3x/ba7995l6uycOKi9pma/PvzhpSFUlF++4NXbvnEj96MbzsKFHXnbq6s7eO4wJnzfYKD4/hVE5B06dFArVvxMv/nNc9q1K6FtO2bqSPKwVB3fpSbyBa/e9taeaM6fHCgudYblwMFaTawdHMAOHKzlucOY8H2DgQhf8MX27Vv1wx9+R7t2tWnbtmlq3ztBmrNViQmdSlSU5ur2lY1tYZdQkLjUGZZnt5ymC09eraqKN24H1NVToWe3nMZzhzHh+wYDEb7gi02b1qmz85AqK8fp4MFpqpp0WBWTpfETJ+ny8y+P7e2FHvrC0I996L3XBFfICOJSZ1Sl0yuUOPwdJVy7MnaM0rV/rEXnvV2Lwi4MkcXPHB76woMFb0v4gm/MEqqoSCiRqJRLVChRkVBlZaXOWXBO2KX5YtGb4vGnOS51hmuRpE+HXQRiZLgbqvMzh4EIX0AJGu4PAQDvrd6+PewSECOEL2AU4hJq+ENQfs5uaBjye9OL7we/9w+UE8IXMAr8kUFU5QtGw7VHbf9AOUmEXQAAAEA5oecrolKp5WpuXqZ0epuSyUY1NS1Vff2SsMsCAABFInxFUCq1XOvX33L03nLpdIvWr79FkghgQMCY6wTAa4SvCGpuXnY0ePXKZDrV3LyM8AV4bKRwxVwnAF5jzlcEpdPbRtUOYOxKJVwNdcWtV1fi+r1/oJzQ8xVByWSj0umWvO0AkI/fQ6AMsQLeoecrgpqaliqRqOnXlkjUqKlpaUgVAQAAr9DzFUG987q42hEAgNJD+Iqo+volhC0gAuJyVwMA8UH4AlDWRgpXzHUC4DXCF4CyRrgCRoe174rHhHsAAFCwUlmeJUyELwAAgAARvgAAAALEnC8AZYu5KwDCQPgCULaYu1K6CNaIMsIXAJSxUg0pBGv/sPZd8QhfAFDGCCkYrTiH8qggfAEAgDFzGafD7YfVta9LmZ6M5MKuyAcmVSQrNKFxghJVxV+rSPgCAABjdnDbQY1LjFPjcY2qrKqUmYVdkuecc9rTvke7t+1WXVNd0ftjqQkAZWuoOSrMXQEK13OoRzMbZqqquqokg5ckmZmmHDNFPWlvfjfQ8wWgbDF3pXQxKTw4zjklEqXfl2Nmng2pEr4AoIyVakghWCPKCF8AUMa8CimlumQF4IfS7ycEAPiOJSuAwhG+ABx1dkOD5lTMHvTv7IaGsEsDAF/c9dW7dNLxJ2lizUS9ZeFb9Ktf/sr3YxK+ABxF7wWAsLSl7tfqlfP0zC/GafXKeWpL3e/7MR/4/gP69Kc+rc8s/YxWrVmlt7z1Lbri8iu0ZcsWX49L+AIAAKFqS92vjes+rnR6iySndHqLNq77uO8B7Mv/+mV9+LoP66M3flSnnnqq/u3Of9OxM4/V3V+729fjFhW+zGyqmT1uZutz/08ZYrseM3sx9++RYo4JAABKy5bXb1Umc6hfWyZzSFtev9W3Yx45ckRrVq/RxZde3K/94ksu1spnV/p2XKn4nq/PSnrSOTdP0pO5z/PpdM6dmft3RZHHBABEDAvWohjp9NZRtXth165d6unp0Yz6Gf3a6+vr1dra6ttxpeKXmrhS0gW5j78l6WlJnylynwCAmGE5CRQjmZydG3Ic3O63gavyO+d8X6m/2J6veufcDknK/T9jiO3GmdkLZrbSzN5b5DEB+ITeCwBhmDP3NiUS4/u1JRLjNWfubb4dc9q0aaqoqFCqNdWvfefOnaqvr/ftuFIBPV9m9oSkY/M89LejOM4c59x2Mzte0lNmttY5tzHPsW6SdJMkzZnTOIrdA5CKX+iS3gsAYZhef42k7NyvdHqrksnZmjP3tqPtfqiurtZZZ5+lJx5/QlddfdXR9iefeFLvW/I+344rFRC+nHMXD/WYmaXMbKZzboeZzZS0c4h9bM/9v8nMnpb0ZkmDwpdz7m5Jd0vSwoULPLqDEhB/hYYqlooAEFfT66/xNWzl8xf/+y90w4dv0KJzFumti9+qr9/1de3YvkM33nyjr8ctds7XI5Kuk3R77v+HB26QuwLykHMubWbTJC2W9I9FHhcoK4QqAPDe1X90tdrb23X739+uHTt2aP7p8/Xw/zys4447ztfjFhu+bpf0AzP7qKQtkq6WJDNbKOlm59zHJJ0q6T/MLKPsHLPbnXOvFnlcAACAot388Zt188dvDvSYRYUv51y7pIvytL8g6WO5j5+RdEYxxwEQLm6aDADeYYV7ACNi2BMAvFPssCOACJle3zNkD1VY6DUbjOcEKG+ELyAGCg1VUfzDTa/ZYDwnQHkjfAExEMVQhWgp5960cj53xBNzvgCgBJRzb1o5nzviifAFYETcdggAvMOwI4ARMXQDAN6h5wuAr+g1G4znBChv9HwB8BW9ZoPxnADljZ4vACgB5dybVs7njuL8csUvteTKJZo7a66SiaTu/ea9gRyXni8AKAHl3JsW9rmz1EXx5sysUiplg9rr65227Ojy7bgdHR2aP3++rv2Ta/WR6z7i23EGInwBAFAElrooXr7gNVy7Vy67/DJddvllkqSP3fAxX4/VF8OOAAAAASJ8AQAABIjwBQAAECDCFwAAQIAIXwAAFIGlLopXX+9G1R53XO0IAEARWE6ieH4uJzGcjo4ObdywUZKUyWS0dctWvfTiS5oydYrmzJnj23Hp+QIQS2c3NGhOxexB/85uaAi7NAAxsfqF1TrnrHN0zlnnqLOzU7d9/jadc9Y5uu1zt/l6XHq+AMQSaysBKNb5F5yvdCYd+HHp+QIAAAgQ4QsAACBAhC8AAIAAEb4AAAACRPgCEEusrQREhEnOleZ6XH055ySP7vPN1Y4AYom1lYBoSFQldLjzsGrG14Rdiq+6u7qVqPCmz4rwBQCIhLMbGvIuFTK9voewHWHJaUlt27ZNjY2NGlczTmYedQ9FSCaT0c6dO1U1qcqT/RG+AACRwNpt8ZScmJQktexoUaYrI5XgCKSZqWJ8hSYcM8GT/RG+ABSEXgkAQ0lOTB4NYRgZE+4BFIReCQDwBuELAAAgQIQvAACAABG+AACRwNptKBdMuIcvamsnauLESersdJo4cYK6k9WqGD9ZU6aOD7s0ABHFhRsoFxbVVWnNrE3S5tyn0yTtCrGcsHDe5SfC575ggVSZ5w1bd7f00ktF7jzC5+2rcj1vqXzPvVzPWyr9cz/OOTe9kA0jG776MrMXnHMLw64jaJx3+SnXc+e8y0+5nnu5nrdU3uc+EHO+AAAAAkT4AgAACFBcwtfdYRcQEs67/JTruXPe5adcz71cz1sq73PvJxZzvgAAAEpFXHq+AAAASkLkwpeZXW1mr5hZxsyGvCrCzJrNbK2ZvWhmLwRZo19Gce7vMrPXzGyDmX02yBr9YGZTzexxM1uf+3/KENv15F7vF83skaDr9MpIr5+ZJc3s+7nHV5lZU/BV+qOAc7/ezNr6vM4fC6NOr5nZPWa208xeHuJxM7P/l3tefmtmZwVdox8KOO8LzGxfn9f71qBr9IOZzTazn5vZ73K/0/8izzYl95oXeN4l+ZqPmnMuUv8knSrpZElPS1o4zHbNkqaFXW/Q5y6pQtJGScdLqpb0kqTTwq69yPP+R0mfzX38WUlfGmK7jrBr9eBcR3z9JH1c0l25jz8o6fth1x3guV8v6Sth1+rDub9d0lmSXh7i8csl/USSSXqLpFVh1xzQeV8g6b/DrtOH854p6azcx3WS1uX5Xi+517zA8y7J13y0/yLX8+Wc+51z7rWw6whDged+jqQNzrlNzrkjkr4n6Ur/q/PVlZK+lfv4W5LeG2Itfivk9ev7fDwo6SIzswBr9Espfu8WxDm3QtLuYTa5UtK9LmulpMlmNjOY6vxTwHmXJOfcDufcmtzHByT9TlLjgM1K7jUv8LyhCA47joKT9DMzW21mN4VdTIAaJW3t83mL4v/NXe+c2yFlf3glzRhiu3Fm9oKZrTSzuAa0Ql6/o9s457ol7ZN0TCDV+avQ792rcsMwD5rZ7GBKC10p/lwX6q1m9pKZ/cTM5oddjNdy0wbeLGnVgIdK+jUf5rylEn/NCxHKvR3N7AlJx+Z56G+dcw8XuJvFzrntZjZD0uNm9vvcu6xI8+Dc8/WARP6S1eHOexS7mZN7zY+X9JSZrXXObfSmwsAU8vrF8jUuQCHn9WNJ9zvn0mZ2s7I9gBf6Xln4SvU1H8kaZW/J0mFml0v6kaR5IdfkGTOrlfSQpE855/YPfDjPl5TEaz7CeZf0a16oUMKXc+5iD/axPff/TjP7obJDGpEPXx6ce4ukvr0BsyRF/m60w523maXMbKZzbkeu233nEPvofc03mdnTyr6rilv4KuT1692mxcwqJU1SaQzdjHjuzrn2Pp9+XdKXAqgrCmL5c12svn+YnXOPmtlXzWyacy729/8zsyplA8h3nHPL82xSkq/5SOddyq/5aMRy2NHMJphZXe/Hki6VlPdqmhL0vKR5ZjbXzKqVnZAd2yv/ch6RdF3u4+skDeoBNLMpZpbMfTxN0mJJrwZWoXcKef36Ph/vl/SUy81UjbkRz33AnJcrlJ0zUg4ekfTh3BVwb5G0r3covpSZ2bG98xnN7Bxl/ya1D/9V0Zc7p29I+p1z7l+G2KzkXvNCzrtUX/PRCqXnazhm9j5Jd0qaLul/zOxF59w7zaxB0n865y6XVC/ph7nXr1LSd51zPw2taI8Ucu7OuW4z+4Skx5S9euwe59wrIZbthdsl/cDMPippi6SrJcmyy23c7Jz7mLJXgv6HmWWU/WG93TkXu/A11OtnZrdJesE594iyv7zuM7MNyvZ4fTC8ir1T4Ll/0syukNSt7LlfH1rBHjKz+5W9ymuambVI+pykKklyzt0l6VFlr37bIOmQpBvCqdRbBZz3+yX9mZl1S+qU9MESeaOxWNKfSFprZi/m2v5G0hyppF/zQs67VF/zUWGFewAAgADFctgRAAAgrghfAAAAASJ8AQAABIjwBQAAECDCFwAAQIAIXwAAAAEifAEAAASI8AUAABCg/w/uNRD+obn8zQAAAABJRU5ErkJggg==\n",
          "text/plain": "<Figure size 720x432 with 1 Axes>"
         },
         "metadata": {
          "needs_background": "light"
         },
         "output_type": "display_data"
        }
       ]
      }
     },
     "f8b18030ee644b78bf428c152af9c1a4": {
      "model_module": "@jupyter-widgets/base",
      "model_module_version": "1.2.0",
      "model_name": "LayoutModel",
      "state": {}
     },
     "f8c7d7f6da1b4bd18c7f9a53b49f4773": {
      "model_module": "@jupyter-widgets/base",
      "model_module_version": "1.2.0",
      "model_name": "LayoutModel",
      "state": {}
     },
     "fadd3b5d708242688958e3049b391973": {
      "model_module": "@jupyter-widgets/base",
      "model_module_version": "1.2.0",
      "model_name": "LayoutModel",
      "state": {}
     },
     "fcc9e33d82d0479cb699cc6f311190d4": {
      "model_module": "@jupyter-widgets/base",
      "model_module_version": "1.2.0",
      "model_name": "LayoutModel",
      "state": {}
     },
     "fcd46e400a65430bb90998c6291ac8cc": {
      "model_module": "@jupyter-widgets/controls",
      "model_module_version": "1.5.0",
      "model_name": "IntSliderModel",
      "state": {
       "description": "max_depth",
       "layout": "IPY_MODEL_16bb067978174286897c4f153fc5422a",
       "max": 15,
       "min": 1,
       "style": "IPY_MODEL_ed89ef3ba3ee41319f282028f8dd4e83",
       "value": 2
      }
     },
     "fcf39afa09d24cc480e2996756491f0b": {
      "model_module": "@jupyter-widgets/controls",
      "model_module_version": "1.5.0",
      "model_name": "IntSliderModel",
      "state": {
       "description": "max_depth",
       "layout": "IPY_MODEL_751aba8921c0431f9bb3319424e2385a",
       "max": 15,
       "min": 1,
       "style": "IPY_MODEL_2d5f567045e0471ba803a9b15b21ccda",
       "value": 8
      }
     },
     "fd6481add39c460380c66ebc1900ab14": {
      "model_module": "@jupyter-widgets/base",
      "model_module_version": "1.2.0",
      "model_name": "LayoutModel",
      "state": {}
     },
     "fdec514309944b0da9abca79eb7bf934": {
      "model_module": "@jupyter-widgets/controls",
      "model_module_version": "1.5.0",
      "model_name": "IntSliderModel",
      "state": {
       "description": "min_samples_leaf",
       "layout": "IPY_MODEL_5eb8d084074343e7a1b13b6a8175ce1a",
       "max": 3,
       "min": -1,
       "style": "IPY_MODEL_57150e0781ed477e8be15d5f6f2b7bb8",
       "value": 1
      }
     },
     "fe1a2bd6c93a4f36bb65c3ebeed3e4bf": {
      "model_module": "@jupyter-widgets/base",
      "model_module_version": "1.2.0",
      "model_name": "LayoutModel",
      "state": {}
     },
     "fe1d3a54dd584fc181b12ea1a516eaca": {
      "model_module": "@jupyter-widgets/controls",
      "model_module_version": "1.5.0",
      "model_name": "SliderStyleModel",
      "state": {
       "description_width": ""
      }
     },
     "fe5bde64a3f84e4eb280508e43aab2d8": {
      "model_module": "@jupyter-widgets/controls",
      "model_module_version": "1.5.0",
      "model_name": "IntSliderModel",
      "state": {
       "description": "min_samples_leaf",
       "layout": "IPY_MODEL_cdd6a319c9ef477593a1d17a53bf64e5",
       "max": 15,
       "min": 1,
       "style": "IPY_MODEL_27e87c5f263745b99bd7017d36690cf7",
       "value": 9
      }
     },
     "feeedf8b871b466d86f470542f5544cb": {
      "model_module": "@jupyter-widgets/controls",
      "model_module_version": "1.5.0",
      "model_name": "SliderStyleModel",
      "state": {
       "description_width": ""
      }
     },
     "ff59d56abb804cd7969d831d014e3ff0": {
      "model_module": "@jupyter-widgets/base",
      "model_module_version": "1.2.0",
      "model_name": "LayoutModel",
      "state": {}
     },
     "ffa27f21b251422ba2a7d52156eef7cb": {
      "model_module": "@jupyter-widgets/controls",
      "model_module_version": "1.5.0",
      "model_name": "IntSliderModel",
      "state": {
       "description": "min_samples_leaf",
       "layout": "IPY_MODEL_3640a50c0b7e466aa95b60bb3c869f76",
       "max": 3,
       "min": -1,
       "style": "IPY_MODEL_b5290a4771d54e72aefceb7ab40d1ff3",
       "value": 1
      }
     }
    },
    "version_major": 2,
    "version_minor": 0
   }
  }
 },
 "nbformat": 4,
 "nbformat_minor": 4
}
