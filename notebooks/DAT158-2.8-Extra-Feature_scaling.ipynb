{
 "cells": [
  {
   "cell_type": "markdown",
   "id": "e659fa67",
   "metadata": {},
   "source": [
    "A.S. Lundervold, v111022"
   ]
  },
  {
   "cell_type": "markdown",
   "id": "06818736",
   "metadata": {},
   "source": [
    "> **Note:** This is a short notebook giving a quick taste of a concept that's also covered elsewhere in the course. It should be regarded as extra material. "
   ]
  },
  {
   "cell_type": "markdown",
   "id": "ba308fce-27f6-48a0-948b-7121d05a7d22",
   "metadata": {},
   "source": [
    "# Setup"
   ]
  },
  {
   "cell_type": "code",
   "execution_count": null,
   "id": "a1b76349-871b-4150-8184-296cc41e7a92",
   "metadata": {},
   "outputs": [],
   "source": [
    "%matplotlib inline\n",
    "\n",
    "import numpy as np, pandas as pd\n",
    "import matplotlib.pyplot as plt \n",
    "from pathlib import Path\n",
    "import seaborn as sns \n",
    "import sklearn\n",
    "from sklearn import datasets\n",
    "\n",
    "pd.options.mode.chained_assignment = None"
   ]
  },
  {
   "cell_type": "code",
   "execution_count": null,
   "id": "53d675ef-f3c5-43e7-85fe-349185cfafaa",
   "metadata": {},
   "outputs": [],
   "source": [
    "# This is a quick check of whether the notebook is currently running on Google Colaboratory\n",
    "# or on Kaggle, as that makes some difference for the code below.\n",
    "# We'll do this in every notebook of the course.\n",
    "try:\n",
    "    import colab\n",
    "    colab=True\n",
    "except:\n",
    "    colab=False\n",
    "\n",
    "import os\n",
    "kaggle = os.environ.get('KAGGLE_KERNEL_RUN_TYPE', '')"
   ]
  },
  {
   "cell_type": "markdown",
   "id": "3defd80b-5db9-4980-96a1-ba40b6b99aa2",
   "metadata": {},
   "source": [
    "# Data"
   ]
  },
  {
   "cell_type": "markdown",
   "id": "5284a005-89f6-49ee-9fc6-de03d8065cfd",
   "metadata": {},
   "source": [
    "Vi bruker housing prices dataset:"
   ]
  },
  {
   "cell_type": "code",
   "execution_count": null,
   "id": "25d85f5d-46fc-4ab1-8ce3-862b926beeb4",
   "metadata": {},
   "outputs": [],
   "source": [
    "df = pd.read_csv('https://www.dropbox.com/s/ml97sjhte1s4dnx/housing_data.csv?dl=1')"
   ]
  },
  {
   "cell_type": "code",
   "execution_count": null,
   "id": "e1c141b2-0ebc-4113-91cb-276b8ff37f2e",
   "metadata": {},
   "outputs": [],
   "source": [
    "df.info()"
   ]
  },
  {
   "cell_type": "markdown",
   "id": "f6165211-8c4c-4311-880e-d37b98a40a37",
   "metadata": {},
   "source": [
    "Vi ser at features i datasettet er på ganske ulike skalaer:"
   ]
  },
  {
   "cell_type": "code",
   "execution_count": null,
   "id": "e7142748",
   "metadata": {},
   "outputs": [],
   "source": [
    "df.head()"
   ]
  },
  {
   "cell_type": "code",
   "execution_count": null,
   "id": "94c5d3f6-daad-4a29-9daa-73d08d6f6c15",
   "metadata": {},
   "outputs": [],
   "source": [
    "df.describe()"
   ]
  },
  {
   "cell_type": "code",
   "execution_count": null,
   "id": "4d6d1e3f",
   "metadata": {},
   "outputs": [],
   "source": [
    "df.info()"
   ]
  },
  {
   "cell_type": "markdown",
   "id": "a46f9dfd-4ce4-447d-9f60-d09634a198cc",
   "metadata": {},
   "source": [
    "Vi ser fra `df.info()` over at alle features utenom `ocean_proximity` er numeriske."
   ]
  },
  {
   "cell_type": "code",
   "execution_count": null,
   "id": "9e221981-dceb-4e0f-9eb9-c216d485f929",
   "metadata": {},
   "outputs": [],
   "source": [
    "df.ocean_proximity.value_counts()"
   ]
  },
  {
   "cell_type": "markdown",
   "id": "f6351122-4a91-4410-9be5-ed3de3177c50",
   "metadata": {},
   "source": [
    "Vi dropper `ocean_proximity` her for å forenkle historien (det er uansett ikke aktuelt å skalere ikke-numeriske features)."
   ]
  },
  {
   "cell_type": "code",
   "execution_count": null,
   "id": "ac087dec-c80e-43d4-af38-4f29300c0da6",
   "metadata": {},
   "outputs": [],
   "source": [
    "df.drop('ocean_proximity', axis=1, inplace=True)"
   ]
  },
  {
   "cell_type": "markdown",
   "id": "03f1393d-26bf-4bb5-833a-774ce1919457",
   "metadata": {},
   "source": [
    "Historien vi skal fortelle om dette har behov for at vi er i en maskinlærings-situasjon med X, y og trenings- og test-data:"
   ]
  },
  {
   "cell_type": "code",
   "execution_count": null,
   "id": "ec39f2d2-15e7-4743-9f34-bad933795a0d",
   "metadata": {},
   "outputs": [],
   "source": [
    "X, y = df.drop('median_house_value', axis=1), df.median_house_value"
   ]
  },
  {
   "cell_type": "code",
   "execution_count": null,
   "id": "81ebca88-263e-45f5-8f4f-75635ae9342f",
   "metadata": {},
   "outputs": [],
   "source": [
    "from sklearn.model_selection import train_test_split"
   ]
  },
  {
   "cell_type": "code",
   "execution_count": null,
   "id": "acc3e87d-cf24-4175-84d7-a2a3788876c4",
   "metadata": {},
   "outputs": [],
   "source": [
    "X_train, X_test, y_train, y_test = train_test_split(X, y, test_size=0.25)"
   ]
  },
  {
   "cell_type": "markdown",
   "id": "b89f541e-b12c-4bae-abc3-230786acadee",
   "metadata": {},
   "source": [
    "# Imputer"
   ]
  },
  {
   "cell_type": "markdown",
   "id": "142576cb-36fc-49fa-9e62-3e824435d099",
   "metadata": {},
   "source": [
    "Vi ser at det er noen manglende verdier i `total_bedrooms`. Vi imputerer:"
   ]
  },
  {
   "cell_type": "code",
   "execution_count": null,
   "id": "4ce7e437-98b0-40e1-83c4-1ece1f68325f",
   "metadata": {},
   "outputs": [],
   "source": [
    "from sklearn.impute import SimpleImputer"
   ]
  },
  {
   "cell_type": "code",
   "execution_count": null,
   "id": "60169fb8-e65a-484d-a888-cba261c1d5d3",
   "metadata": {},
   "outputs": [],
   "source": [
    "features = ['total_bedrooms']\n",
    "imp = SimpleImputer()"
   ]
  },
  {
   "cell_type": "code",
   "execution_count": null,
   "id": "434015d5-6213-40b9-9b2e-7e615447614e",
   "metadata": {},
   "outputs": [],
   "source": [
    "X_train.loc[:, features] = imp.fit_transform(X_train[features])\n",
    "X_test.loc[:, features] = imp.transform(X_test[features])"
   ]
  },
  {
   "cell_type": "code",
   "execution_count": null,
   "id": "cd7335dd-f645-43a6-8461-52f4ee13a3e1",
   "metadata": {},
   "outputs": [],
   "source": [
    "X_train.info()"
   ]
  },
  {
   "cell_type": "code",
   "execution_count": null,
   "id": "706a0a1d-11e7-4870-aac1-565feaec88e3",
   "metadata": {},
   "outputs": [],
   "source": [
    "X_test.info()"
   ]
  },
  {
   "cell_type": "markdown",
   "id": "dcbc8c32-eda3-4af3-b04d-2fa3bb987243",
   "metadata": {},
   "source": [
    "# Skaler features"
   ]
  },
  {
   "cell_type": "markdown",
   "id": "a6239a9c-901b-47f9-8d27-7434cf4d5192",
   "metadata": {},
   "source": [
    "Vi kan plotte features mot hverandre for å se effekten av deres ulike skalaer:"
   ]
  },
  {
   "cell_type": "code",
   "execution_count": null,
   "id": "e5dfcb8c-df95-4e5b-a5db-ba558315a397",
   "metadata": {},
   "outputs": [],
   "source": [
    "sns.jointplot(data=X_train, x=\"population\", y=\"median_income\", marginal_kws=dict(bins=15))\n",
    "plt.show()"
   ]
  },
  {
   "cell_type": "markdown",
   "id": "a4fdc69f-4259-410e-b35a-cb2a63d83fd0",
   "metadata": {},
   "source": [
    "Hvis vi bruker samme verdier på aksene blir dette enda klarere:"
   ]
  },
  {
   "cell_type": "code",
   "execution_count": null,
   "id": "355accd2-5c5b-44f5-ad03-4fccff9fcf06",
   "metadata": {},
   "outputs": [],
   "source": [
    "axes_lim = (0,16000)\n",
    "sns.jointplot(data=X_train, x=\"population\", y=\"median_income\", xlim=axes_lim, ylim=axes_lim, marginal_kws=dict(bins=15))\n",
    "plt.show()"
   ]
  },
  {
   "cell_type": "markdown",
   "id": "b23d3851-89e5-47ef-9b26-3dc9a19237c5",
   "metadata": {},
   "source": [
    "Vi kan skalere features ved hjelp av scikit-learn:"
   ]
  },
  {
   "cell_type": "code",
   "execution_count": null,
   "id": "d7255280-eaf1-4785-a148-fdd87bf4b643",
   "metadata": {},
   "outputs": [],
   "source": [
    "from sklearn.preprocessing import StandardScaler, MinMaxScaler"
   ]
  },
  {
   "cell_type": "code",
   "execution_count": null,
   "id": "7a2fc2eb-d598-4406-a180-a1de25a63e07",
   "metadata": {},
   "outputs": [],
   "source": [
    "?StandardScaler"
   ]
  },
  {
   "cell_type": "code",
   "execution_count": null,
   "id": "4237ac9d-2c8a-4115-bd9b-f1b6f66364f6",
   "metadata": {},
   "outputs": [],
   "source": [
    "?MinMaxScaler"
   ]
  },
  {
   "cell_type": "code",
   "execution_count": null,
   "id": "7e0f9c9f-06c1-4a26-a95b-44b83395c007",
   "metadata": {},
   "outputs": [],
   "source": [
    "std = StandardScaler()\n",
    "mms = MinMaxScaler()"
   ]
  },
  {
   "cell_type": "code",
   "execution_count": null,
   "id": "0007262d-f5bb-4fd6-8b10-111bd89f7f38",
   "metadata": {},
   "outputs": [],
   "source": [
    "X_train_std = std.fit_transform(X_train)\n",
    "X_train_std = pd.DataFrame(data=X_train_std, columns=X_train.columns)\n",
    "X_test_std = std.transform(X_test)\n",
    "\n",
    "X_train_mms = mms.fit_transform(X_train)\n",
    "X_train_mms = pd.DataFrame(data=X_train_mms, columns=X_train.columns)\n",
    "X_test_std = mms.transform(X_test)"
   ]
  },
  {
   "cell_type": "code",
   "execution_count": null,
   "id": "6cb00075-0777-4ab6-adce-b388d04f1356",
   "metadata": {},
   "outputs": [],
   "source": [
    "X_train_std.describe()"
   ]
  },
  {
   "cell_type": "code",
   "execution_count": null,
   "id": "b73fb445-f189-450b-8a8a-789e16c4a3c6",
   "metadata": {},
   "outputs": [],
   "source": [
    "X_train_mms.describe()"
   ]
  },
  {
   "cell_type": "code",
   "execution_count": null,
   "id": "357f42be-47bc-4648-b089-c62f522c2af1",
   "metadata": {},
   "outputs": [],
   "source": [
    "sns.jointplot(data=X_train, x=\"population\", y=\"median_income\", marginal_kws=dict(bins=15))\n",
    "plt.show()"
   ]
  },
  {
   "cell_type": "code",
   "execution_count": null,
   "id": "7dcc8959-363c-4b08-9a20-acc673f9c0ee",
   "metadata": {},
   "outputs": [],
   "source": [
    "sns.jointplot(data=X_train_std, x=\"population\", y=\"median_income\", marginal_kws=dict(bins=15))\n",
    "plt.show()"
   ]
  },
  {
   "cell_type": "code",
   "execution_count": null,
   "id": "d7f43b91-20d0-4e42-bfb3-0e4a14d00f8d",
   "metadata": {},
   "outputs": [],
   "source": [
    "sns.jointplot(data=X_train_mms, x=\"population\", y=\"median_income\", marginal_kws=dict(bins=15))\n",
    "plt.show()"
   ]
  },
  {
   "cell_type": "markdown",
   "id": "adca4703-500c-478a-ad8e-97c31da70bde",
   "metadata": {},
   "source": [
    "**Flere eksempler:**"
   ]
  },
  {
   "cell_type": "code",
   "execution_count": null,
   "id": "35b93d74-5e4f-489d-b184-2656aec9137e",
   "metadata": {},
   "outputs": [],
   "source": [
    "f, ax = plt.subplots(figsize=(10,10))\n",
    "nb_points = 300\n",
    "\n",
    "sns.scatterplot(data=X_train[:nb_points], x=\"housing_median_age\", y=\"median_income\", ax=ax)\n",
    "sns.scatterplot(data=X_train_std[:nb_points], x=\"housing_median_age\", y=\"median_income\", ax=ax)\n",
    "sns.scatterplot(data=X_train_mms[:nb_points], x=\"housing_median_age\", y=\"median_income\", ax=ax)\n",
    "plt.show()"
   ]
  },
  {
   "cell_type": "code",
   "execution_count": null,
   "id": "f7582eaa-3b2e-4945-8d86-7a7676d1fabe",
   "metadata": {},
   "outputs": [],
   "source": [
    "f, ax = plt.subplots(figsize=(10,10))\n",
    "nb_points = 300\n",
    "\n",
    "sns.scatterplot(data=X_train[:nb_points], x=\"housing_median_age\", y=\"latitude\", ax=ax)\n",
    "sns.scatterplot(data=X_train_std[:nb_points], x=\"housing_median_age\", y=\"latitude\", ax=ax)\n",
    "sns.scatterplot(data=X_train_mms[:nb_points], x=\"housing_median_age\", y=\"latitude\", ax=ax)\n",
    "plt.show()"
   ]
  },
  {
   "cell_type": "markdown",
   "id": "3a527bac-504a-4a31-b175-8e6fe37006c8",
   "metadata": {},
   "source": [
    "> Hvilken skalering (om noen) det er naturlig å bruke avhenger av modellen og egenskaper i datasettet (tre-baserte modeller som random forest behøver for eksempel ingen skalering). \n",
    "\n",
    "> I praksis kan en gjerne forsøke flere typer (og bruke ytelsen på valideringssettet til å velge skalerings-strategi). "
   ]
  }
 ],
 "metadata": {
  "kernelspec": {
   "display_name": "Python 3 (ipykernel)",
   "language": "python",
   "name": "python3"
  },
  "language_info": {
   "codemirror_mode": {
    "name": "ipython",
    "version": 3
   },
   "file_extension": ".py",
   "mimetype": "text/x-python",
   "name": "python",
   "nbconvert_exporter": "python",
   "pygments_lexer": "ipython3",
   "version": "3.10.12"
  },
  "vscode": {
   "interpreter": {
    "hash": "3ee5afd07f5471e319be886b61d05d8a642bc66248047b4c0169c6e2f5164b77"
   }
  }
 },
 "nbformat": 4,
 "nbformat_minor": 5
}
