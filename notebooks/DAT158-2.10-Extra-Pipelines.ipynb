{
 "cells": [
  {
   "cell_type": "markdown",
   "id": "d19c4c03",
   "metadata": {},
   "source": [
    "A.S. Lundervold, v111022"
   ]
  },
  {
   "cell_type": "markdown",
   "id": "d6b3e072",
   "metadata": {},
   "source": [
    "> **Note:** This is a short notebook giving a quick taste of a concept that's also covered elsewhere in the course. It should be regarded as extra material. "
   ]
  },
  {
   "cell_type": "markdown",
   "id": "ba308fce-27f6-48a0-948b-7121d05a7d22",
   "metadata": {},
   "source": [
    "# Setup"
   ]
  },
  {
   "cell_type": "code",
   "execution_count": null,
   "id": "a1b76349-871b-4150-8184-296cc41e7a92",
   "metadata": {},
   "outputs": [],
   "source": [
    "%matplotlib inline\n",
    "\n",
    "import numpy as np, pandas as pd\n",
    "import matplotlib.pyplot as plt \n",
    "from pathlib import Path\n",
    "import seaborn as sns \n",
    "import sklearn\n",
    "from sklearn import datasets"
   ]
  },
  {
   "cell_type": "code",
   "execution_count": null,
   "id": "86ce74ab-38aa-4e4d-9745-26c98fe9cdbe",
   "metadata": {},
   "outputs": [],
   "source": [
    "# This is a quick check of whether the notebook is currently running on Google Colaboratory\n",
    "# or on Kaggle, as that makes some difference for the code below.\n",
    "# We'll do this in every notebook of the course.\n",
    "try:\n",
    "    import colab\n",
    "    colab=True\n",
    "except:\n",
    "    colab=False\n",
    "\n",
    "import os\n",
    "kaggle = os.environ.get('KAGGLE_KERNEL_RUN_TYPE', '')"
   ]
  },
  {
   "cell_type": "markdown",
   "id": "3defd80b-5db9-4980-96a1-ba40b6b99aa2",
   "metadata": {},
   "source": [
    "# Data"
   ]
  },
  {
   "cell_type": "markdown",
   "id": "c8dc3b60-6e3f-4b6c-a7bb-2d266651ead4",
   "metadata": {},
   "source": [
    "La oss bruke diabetes-datasettet:"
   ]
  },
  {
   "cell_type": "code",
   "execution_count": null,
   "id": "b9e2233d-2a2b-452e-8953-16968da51967",
   "metadata": {},
   "outputs": [],
   "source": [
    "df = pd.read_csv('https://assets.datacamp.com/production/course_1939/datasets/diabetes.csv')\n",
    "\n",
    "X, y  = df.drop('diabetes', axis=1), df.diabetes\n",
    "\n",
    "from sklearn.model_selection import train_test_split\n",
    "X_train, X_test, y_train, y_test = train_test_split(X, y, random_state=42)"
   ]
  },
  {
   "cell_type": "code",
   "execution_count": null,
   "id": "ebb7e961-6c83-46a2-903a-f301450a51ee",
   "metadata": {},
   "outputs": [],
   "source": [
    "df.head()"
   ]
  },
  {
   "cell_type": "code",
   "execution_count": null,
   "id": "3964f03e-1c40-4835-b302-1442fc77ee28",
   "metadata": {},
   "outputs": [],
   "source": [
    "from sklearn.metrics import accuracy_score"
   ]
  },
  {
   "cell_type": "markdown",
   "id": "4f82b8f5-0d52-4c40-8646-dc32545f7e87",
   "metadata": {},
   "source": [
    "# Pipelines"
   ]
  },
  {
   "cell_type": "markdown",
   "id": "f138eb7d-3d06-4695-b7b3-c940e9f75c01",
   "metadata": {},
   "source": [
    "Som vi har erfart er det en rekke ting en pleier å gjøre med et datasett før en trener modeller: imputering, skalering, feature engineering, feature selection, osv. Generelt, en rekke _transformasjoner_ av data. Disse bestemmes typisk fra et treningsdatasett, og anvendes så både på trening- og testsett (tenk: `.fit_transform` på trening, `.transform` på test). \n",
    "\n",
    "Når en skriver kode for å gjøre alt dette kan det ofte se veldig uryddig ut, noe som øker sjansen for å gjøre feil. Det kan også bli vanskelig å designe eksperiment der en tester ut ulike varianter av disse oppsettene, for eksempel via et grid search. \n",
    "\n",
    "Ved å bruke scikit-learn [Pipelines](https://scikit-learn.org/stable/modules/compose.html#pipeline) kan dette struktureres bedre. "
   ]
  },
  {
   "cell_type": "markdown",
   "id": "b27877c8-0534-473c-88f0-e212a37e16e1",
   "metadata": {},
   "source": [
    "Vi husker for eksempel hvordan vi behandlet datasettet fra innlevering 1 i notebooken om ensembling: \n",
    "\n",
    "1. Imputering\n",
    "2. Skalering\n",
    "3. Prediksjon med et voting ensemble"
   ]
  },
  {
   "cell_type": "markdown",
   "id": "9b3466d3-8779-4d58-a8ad-e5ad78aba907",
   "metadata": {},
   "source": [
    "I større maskinlæringsprosjekt er det gjerne mange slike steg. "
   ]
  },
  {
   "cell_type": "markdown",
   "id": "c0937484-6503-49f1-a56f-1953584ff12a",
   "metadata": {},
   "source": [
    "Her er en måte å bygge dette som en pipeline. "
   ]
  },
  {
   "cell_type": "markdown",
   "id": "f781b77a-dcf0-4882-9a39-8bbbb6f813da",
   "metadata": {},
   "source": [
    "Vi lager først vårt ensemble:"
   ]
  },
  {
   "cell_type": "code",
   "execution_count": null,
   "id": "12326c0a-d743-4139-98d4-4c08002e57f4",
   "metadata": {},
   "outputs": [],
   "source": [
    "from sklearn.ensemble import VotingClassifier\n",
    "\n",
    "from sklearn.ensemble import RandomForestClassifier, GradientBoostingClassifier\n",
    "from sklearn.svm import SVC\n",
    "from sklearn.naive_bayes import GaussianNB\n",
    "\n",
    "rf = RandomForestClassifier(random_state=42, n_jobs=-1)\n",
    "gb = GradientBoostingClassifier(random_state=42)\n",
    "svc = SVC(random_state=42)\n",
    "gnb = GaussianNB()\n",
    "\n",
    "models = [('rf', rf), \n",
    "          ('gb', gb),\n",
    "          ('svc', svc),\n",
    "          ('gnb', gnb)]\n",
    "\n",
    "ensemble = VotingClassifier(models)"
   ]
  },
  {
   "cell_type": "code",
   "execution_count": null,
   "id": "57915dad-8025-4c83-b882-8d4fdbaaadee",
   "metadata": {},
   "outputs": [],
   "source": [
    "from sklearn.impute import SimpleImputer\n",
    "from sklearn.preprocessing import MinMaxScaler"
   ]
  },
  {
   "cell_type": "markdown",
   "id": "9edc83b7-2551-44f1-88ee-80e61bf9b20d",
   "metadata": {},
   "source": [
    "Her er vår pipeline:"
   ]
  },
  {
   "cell_type": "code",
   "execution_count": null,
   "id": "d5755460-dfda-4238-b952-14e116ab9fab",
   "metadata": {},
   "outputs": [],
   "source": [
    "from sklearn.pipeline import make_pipeline"
   ]
  },
  {
   "cell_type": "code",
   "execution_count": null,
   "id": "b7603d97-ac02-4093-b07a-99b3b9c93a01",
   "metadata": {},
   "outputs": [],
   "source": [
    "pipeline = make_pipeline(SimpleImputer(), \n",
    "                         MinMaxScaler(), \n",
    "                         ensemble)"
   ]
  },
  {
   "cell_type": "code",
   "execution_count": null,
   "id": "a876b0f8-13f0-40d1-b8bb-3af6148680a2",
   "metadata": {},
   "outputs": [],
   "source": [
    "pipeline"
   ]
  },
  {
   "cell_type": "markdown",
   "id": "58a80ed8-524f-4dc1-a716-57116c5c1c50",
   "metadata": {},
   "source": [
    "Denne kan så tilpasses treningsdata og brukes til å produsere prediksjoner på testdata:"
   ]
  },
  {
   "cell_type": "code",
   "execution_count": null,
   "id": "3e61b423-c61d-43db-83e5-e053fa8c3ba2",
   "metadata": {},
   "outputs": [],
   "source": [
    "pipeline.fit(X_train, y_train)"
   ]
  },
  {
   "cell_type": "code",
   "execution_count": null,
   "id": "0986385e-f9a0-4f7f-ba9c-dbf6efb02f4e",
   "metadata": {},
   "outputs": [],
   "source": [
    "from sklearn.model_selection import cross_val_score"
   ]
  },
  {
   "cell_type": "code",
   "execution_count": null,
   "id": "7155292b-f39f-4c15-bbf9-a6e34431aa39",
   "metadata": {},
   "outputs": [],
   "source": [
    "cross_val_score(pipeline, X_train, y_train, cv=3, scoring='accuracy')"
   ]
  },
  {
   "cell_type": "markdown",
   "id": "c73530ed-7e59-42c6-999d-cb4a1f057838",
   "metadata": {},
   "source": [
    "## Modifisere pipelines"
   ]
  },
  {
   "cell_type": "markdown",
   "id": "04eed4c7-4c00-47d0-b695-01753307be73",
   "metadata": {},
   "source": [
    "Med pipelines er det enklere å kjøre eksperimenter med ulike oppsett:"
   ]
  },
  {
   "cell_type": "code",
   "execution_count": null,
   "id": "0637c9d6-34cb-41ef-9ac9-2f3e1680f360",
   "metadata": {},
   "outputs": [],
   "source": [
    "from sklearn.preprocessing import StandardScaler"
   ]
  },
  {
   "cell_type": "code",
   "execution_count": null,
   "id": "cf877fc0-6671-401e-a171-b41c9b37faaa",
   "metadata": {},
   "outputs": [],
   "source": [
    "for scaler in [MinMaxScaler(), StandardScaler()]:\n",
    "    pipeline = make_pipeline(SimpleImputer(), scaler, ensemble)\n",
    "    \n",
    "    scores = cross_val_score(pipeline, X_train, y_train, cv=3, scoring='accuracy')\n",
    "    print(f\"Cross val scores for {scaler}: {scores}\")\n",
    "    print(f\"Mean: {np.mean(scores)}\\n\")"
   ]
  },
  {
   "cell_type": "markdown",
   "id": "aeeee397-bdeb-40df-ad8c-683fc3d2e8f1",
   "metadata": {},
   "source": [
    "En kan også bruke GridSearchCV kombinert med pipelines (https://scikit-learn.org/stable/auto_examples/compose/plot_compare_reduction.html#sphx-glr-auto-examples-compose-plot-compare-reduction-py)"
   ]
  }
 ],
 "metadata": {
  "kernelspec": {
   "display_name": "Python 3 (ipykernel)",
   "language": "python",
   "name": "python3"
  },
  "language_info": {
   "codemirror_mode": {
    "name": "ipython",
    "version": 3
   },
   "file_extension": ".py",
   "mimetype": "text/x-python",
   "name": "python",
   "nbconvert_exporter": "python",
   "pygments_lexer": "ipython3",
   "version": "3.10.12"
  }
 },
 "nbformat": 4,
 "nbformat_minor": 5
}
