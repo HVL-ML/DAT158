{
 "cells": [
  {
   "cell_type": "markdown",
   "id": "cac31362",
   "metadata": {},
   "source": [
    "> **Note:** This is a short notebook giving a quick taste of a concept that's also covered elsewhere in the course. It should be regarded as extra material. "
   ]
  },
  {
   "cell_type": "markdown",
   "id": "ba308fce-27f6-48a0-948b-7121d05a7d22",
   "metadata": {},
   "source": [
    "# Setup"
   ]
  },
  {
   "cell_type": "code",
   "execution_count": null,
   "id": "a1b76349-871b-4150-8184-296cc41e7a92",
   "metadata": {},
   "outputs": [],
   "source": [
    "%matplotlib inline\n",
    "\n",
    "import numpy as np, pandas as pd\n",
    "import matplotlib.pyplot as plt \n",
    "from pathlib import Path\n",
    "import seaborn as sns \n",
    "import sklearn\n",
    "from sklearn import datasets"
   ]
  },
  {
   "cell_type": "code",
   "execution_count": null,
   "id": "86ce74ab-38aa-4e4d-9745-26c98fe9cdbe",
   "metadata": {},
   "outputs": [],
   "source": [
    "# This is a quick check of whether the notebook is currently running on Google Colaboratory\n",
    "# or on Kaggle, as that makes some difference for the code below.\n",
    "# We'll do this in every notebook of the course.\n",
    "try:\n",
    "    import colab\n",
    "    colab=True\n",
    "except:\n",
    "    colab=False\n",
    "\n",
    "import os\n",
    "kaggle = os.environ.get('KAGGLE_KERNEL_RUN_TYPE', '')"
   ]
  },
  {
   "cell_type": "markdown",
   "id": "3defd80b-5db9-4980-96a1-ba40b6b99aa2",
   "metadata": {},
   "source": [
    "# Data"
   ]
  },
  {
   "cell_type": "markdown",
   "id": "5284a005-89f6-49ee-9fc6-de03d8065cfd",
   "metadata": {},
   "source": [
    "Vi bruker igjen datasettet om hus-priser kalt \"California Housing Data Set\". Det er som kjent bygget fra data samlet inn av U.S Census Service i 1990, og handler om huspriser i California. Det er gammelt, men mye brukt til illustrasjon av tema fra statistikk og maskinlæring. \n",
    "\n",
    "Beskrivelse sakset fra [artikkelen som introduserte datasettet](https://www.sciencedirect.com/science/article/pii/S016771529600140X):\n",
    "> We collected information on the variables using all the block groups in California from the 1990 Census. In this sample a block group on average includes 1425.5 individuals living in a geographically compact area. Naturally, the geographical area included varies inversely with the population density. We computed distances among the centroids of each block group as measured in latitude and longitude. We excluded all the block groups reporting zero entries for the independent and dependent variables. The final data contained 20,640 observations on 9 characteristics."
   ]
  },
  {
   "cell_type": "markdown",
   "id": "b982138a",
   "metadata": {},
   "source": [
    "Denne gangen bruker vi versjonen som kommer innebygget i scikit-learn:"
   ]
  },
  {
   "cell_type": "code",
   "execution_count": null,
   "id": "2620e156-a0e0-4224-889d-c5447588eded",
   "metadata": {},
   "outputs": [],
   "source": [
    "california = datasets.fetch_california_housing(as_frame=True)"
   ]
  },
  {
   "cell_type": "code",
   "execution_count": null,
   "id": "e33093f4-8153-475d-a3ee-2edbf27fbbaf",
   "metadata": {},
   "outputs": [],
   "source": [
    "print(california.DESCR)"
   ]
  },
  {
   "cell_type": "code",
   "execution_count": null,
   "id": "c452acc9-2fdb-4c0a-ae08-d99ec8dab036",
   "metadata": {},
   "outputs": [],
   "source": [
    "df = california.data"
   ]
  },
  {
   "cell_type": "code",
   "execution_count": null,
   "id": "5acf461e-d4b0-4f74-92f0-05aad6a1cbb1",
   "metadata": {},
   "outputs": [],
   "source": [
    "df.info()"
   ]
  },
  {
   "cell_type": "code",
   "execution_count": null,
   "id": "8a380a12-b6f0-40e4-8730-06f3e3bc1151",
   "metadata": {},
   "outputs": [],
   "source": [
    "df.describe()"
   ]
  },
  {
   "cell_type": "markdown",
   "id": "f8abab94-c2be-4a84-a99a-51a318be3f98",
   "metadata": {},
   "source": [
    "Vi ser at det ikke virker å være noen missing values (strengt tatt bør dette undersøkes nøyere siden missing values kan være representert med tallverdier som f.eks. -1 eller lignende, slik beskrevet i notebooken om \"imputation\". Men i dette tilfellet vet vi fra beskrivelsen av datasettet at det ikke er noen missing values)"
   ]
  },
  {
   "cell_type": "markdown",
   "id": "9330f1cf",
   "metadata": {},
   "source": [
    "Som vanlig splitter vi opp features og target (som her er MedV -- median house value, lagret i `california.target`) i X og y, og lager oss et trenings- og test-sett:"
   ]
  },
  {
   "cell_type": "code",
   "execution_count": null,
   "id": "50388a71-aefa-4559-aecd-70c994a8fc39",
   "metadata": {},
   "outputs": [],
   "source": [
    "X,y = df.copy(), california.target"
   ]
  },
  {
   "cell_type": "code",
   "execution_count": null,
   "id": "6f4cbf47",
   "metadata": {},
   "outputs": [],
   "source": [
    "X.head()"
   ]
  },
  {
   "cell_type": "code",
   "execution_count": null,
   "id": "34f3ba48-a4c2-4d69-bde9-d988e8789062",
   "metadata": {},
   "outputs": [],
   "source": [
    "len(y), y[:5]"
   ]
  },
  {
   "cell_type": "code",
   "execution_count": null,
   "id": "b3216684-e7c9-4381-a04e-69e5e89d9ad6",
   "metadata": {},
   "outputs": [],
   "source": [
    "from sklearn.model_selection import train_test_split"
   ]
  },
  {
   "cell_type": "code",
   "execution_count": null,
   "id": "32c92ff6-f041-465d-9260-f93b47b3a5b3",
   "metadata": {},
   "outputs": [],
   "source": [
    "X_train, X_test, y_train, y_test = train_test_split(X, y, test_size=0.2)"
   ]
  },
  {
   "cell_type": "markdown",
   "id": "69d9efad-1fab-4f4e-a7fc-2844b3a808e0",
   "metadata": {},
   "source": [
    "# Utforsk data"
   ]
  },
  {
   "cell_type": "markdown",
   "id": "f6e4bcd0-552d-4946-a7fe-66c1f167c91e",
   "metadata": {},
   "source": [
    "Som vanlig, etter å ha lastet ned data og tatt en kikk på hvordan data er representert så er neste naturlige steg å utforske og visualisere data. Vi skal ikke gå i detalj med dette nå da vi skal fokusere på feature engineering. Men, som nevnt, dette er en av de viktigste delene av praktisk maskinlæring, og en bruker gjerne en stor andel av tiden på slike utforskinger fordi det kan gi nyttig informasjon om problemstillingen man har satt opp er kompatibel med data en har tilgjengelig, og om hvordan en skal gå frem for å lage en god prediktiv modell (og også hva \"god\" skal bety). "
   ]
  },
  {
   "cell_type": "markdown",
   "id": "85ef6b18-d941-4e9a-b7ea-a014c7e85660",
   "metadata": {},
   "source": [
    "## Se etter korrelasjoner"
   ]
  },
  {
   "cell_type": "markdown",
   "id": "736f84e1-ab7f-4b87-8b9d-912abfb46697",
   "metadata": {},
   "source": [
    "La oss se etter lineære korrelasjoner mellom features, og også korrelasjoner mellom features og target. For å finne korrelasjoner mellom features og target lager vi oss en dataframe `Xy` som også inneholder target:"
   ]
  },
  {
   "cell_type": "code",
   "execution_count": null,
   "id": "ed6d6712-c768-4d3a-bf30-f60f566f7e3d",
   "metadata": {},
   "outputs": [],
   "source": [
    "Xy = X_train.copy()\n",
    "Xy['MedV'] = y_train"
   ]
  },
  {
   "cell_type": "code",
   "execution_count": null,
   "id": "4376cc59-9d5f-456a-b3bb-a8de4cab6524",
   "metadata": {},
   "outputs": [],
   "source": [
    "Xy.head()"
   ]
  },
  {
   "cell_type": "code",
   "execution_count": null,
   "id": "80bb420b-91c9-4321-9f76-9c10380a5469",
   "metadata": {},
   "outputs": [],
   "source": [
    "corr = Xy.corr()"
   ]
  },
  {
   "cell_type": "markdown",
   "id": "a5fe7597-eb1c-4462-845a-01aabc3ab45c",
   "metadata": {},
   "source": [
    "Her er alle parvise korrelasjoner:"
   ]
  },
  {
   "cell_type": "code",
   "execution_count": null,
   "id": "ede7d528-2356-470b-abbe-a97ddc515bd6",
   "metadata": {},
   "outputs": [],
   "source": [
    "corr"
   ]
  },
  {
   "cell_type": "markdown",
   "id": "b754a032-6e72-4b65-b4d8-07bbced82a39",
   "metadata": {},
   "source": [
    "Her er korrelasjonene med target:"
   ]
  },
  {
   "cell_type": "code",
   "execution_count": null,
   "id": "d25ab40b-3e54-4945-9832-f084a33ee49f",
   "metadata": {},
   "outputs": [],
   "source": [
    "corr['MedV'].sort_values(ascending=False)"
   ]
  },
  {
   "cell_type": "markdown",
   "id": "338166a3-9338-4544-a13f-a59d4211ffd6",
   "metadata": {},
   "source": [
    "Vi ser at MedInc (\"median income in block\") er ganske sterkt positivt korrelert med husverdiene (MEDV). Latitude er noe negativt korrelert med MEDV. Dette kan vi også plotte:"
   ]
  },
  {
   "cell_type": "code",
   "execution_count": null,
   "id": "c5e64d8f-2b09-4b6e-8a36-4de01f32052f",
   "metadata": {},
   "outputs": [],
   "source": [
    "Xy.plot.scatter('MedInc', 'MedV', figsize=(10,8))\n",
    "plt.title('Median income versus MEDV')\n",
    "plt.show()"
   ]
  },
  {
   "cell_type": "markdown",
   "id": "0243dd7c-fcaa-4c9c-b079-be518a13fdd1",
   "metadata": {},
   "source": [
    "Fra plottet ser vi at generelt vil høyere median-inntekt svare til høyere median-huspris i de ulike boligkvartalene. "
   ]
  },
  {
   "cell_type": "markdown",
   "id": "17d92f0c-4a26-427a-acc5-43e8211aa649",
   "metadata": {},
   "source": [
    "> Obs: vi observerer at det ser ut til å være satt et tak på 5 (altså $50.000) på median-husverdiene. Dette er noe en burde vurdert hvordan en best kan takle, hvis dette var et mer komplett maskinlæringsprosjekt-eksempel. Vi ser bort i fra dette her. "
   ]
  },
  {
   "cell_type": "markdown",
   "id": "fed33393-8613-4672-ad39-077283113b24",
   "metadata": {},
   "source": [
    "Vi kan også la Pandas lage plots for alle par, og også histogram av feature-verdier."
   ]
  },
  {
   "cell_type": "code",
   "execution_count": null,
   "id": "2c3ab960-6037-43ef-8c34-e4d8b8fb514e",
   "metadata": {},
   "outputs": [],
   "source": [
    "from pandas.plotting import scatter_matrix\n",
    "scatter_matrix(Xy, figsize=(20, 20))\n",
    "plt.show()"
   ]
  },
  {
   "cell_type": "markdown",
   "id": "02ff050d-6967-4a36-a3cf-6ebb15b87eff",
   "metadata": {},
   "source": [
    "# Feature engineering"
   ]
  },
  {
   "cell_type": "markdown",
   "id": "d289067c-fa17-41b0-8d98-535248ac2157",
   "metadata": {},
   "source": [
    "La oss forsøke å designe noen nye features ved å kombinere de vi allerede har. Dette kan gjøres ved å bruke en eller annen form for domenekunnskap (dvs. en idé om hva som vil være nyttige features for å predikere huspriser) og også ved å mer blindt forsøke feature-kombinasjoner. "
   ]
  },
  {
   "cell_type": "markdown",
   "id": "47289bcc-8a2c-45ac-a1eb-9a7b64c2f3b6",
   "metadata": {},
   "source": [
    "Som et eksempel på førstnevnte, kanskje andelen soverom i distriktet? Altså antall soverom delt på totalt antall rom. Det er naturlig å gjette på at dette er negativt korrelert med husprisene: jo flere rom som _ikke_ er soverom, jo dyrere hus. "
   ]
  },
  {
   "cell_type": "code",
   "execution_count": null,
   "id": "0681391d-384e-4546-840c-20eef325340d",
   "metadata": {},
   "outputs": [],
   "source": [
    "Xy['AveBedrmsFraction'] = Xy['AveBedrms'] / Xy['AveRooms']"
   ]
  },
  {
   "cell_type": "markdown",
   "id": "394be25e-af02-4ae1-874f-db9df2872ac9",
   "metadata": {},
   "source": [
    "La oss teste hvordan dette er korrelert med husprisene:"
   ]
  },
  {
   "cell_type": "code",
   "execution_count": null,
   "id": "581e45f3-abef-4ac1-af6e-e0f387b39c0f",
   "metadata": {},
   "outputs": [],
   "source": [
    "corr = Xy.corr()"
   ]
  },
  {
   "cell_type": "code",
   "execution_count": null,
   "id": "0227c301-c6d5-44e1-8f51-d111335ef75b",
   "metadata": {},
   "outputs": [],
   "source": [
    "corr['MedV'].sort_values(ascending=False)"
   ]
  },
  {
   "cell_type": "markdown",
   "id": "d070aa83-2a69-444f-9b78-a5e80b6f1708",
   "metadata": {},
   "source": [
    "Vi ser at gjennomsnittelig andel soverom er vesentlig mer korrelert med huspriser enn både gjennomsnittelig antall rom og gjennomsnittelig antall soverom!"
   ]
  },
  {
   "cell_type": "code",
   "execution_count": null,
   "id": "f8f5cac4-5ddf-48be-89d5-76955ad4485d",
   "metadata": {},
   "outputs": [],
   "source": [
    "Xy.plot.scatter('AveBedrmsFraction', 'MedV', figsize=(10,8))\n",
    "plt.title('Andel soverom versus MedV')\n",
    "plt.show()"
   ]
  },
  {
   "cell_type": "markdown",
   "id": "c4ba01ba-25fa-4146-aeea-ac0b3623bca1",
   "metadata": {},
   "source": [
    "> **Yor turn!** Kan du komme opp med andre, lignende features?"
   ]
  },
  {
   "cell_type": "markdown",
   "id": "948f5311-4b57-400a-8453-49e85b410927",
   "metadata": {},
   "source": [
    "## Automatisk generering av features"
   ]
  },
  {
   "cell_type": "markdown",
   "id": "6078167c-27c2-4e8a-bdc8-67492a03d19b",
   "metadata": {},
   "source": [
    "En annen, mer \"blind\" fremgangsmåte er å generere for eksempel produkter av features, eller _polynomielle_ features for alle numeriske features. Altså nye features ved å multiplisere eksisterende features med hverandre og seg selv. "
   ]
  },
  {
   "cell_type": "code",
   "execution_count": null,
   "id": "bcfdf846-7215-4779-a725-5ec34be2aaa8",
   "metadata": {},
   "outputs": [],
   "source": [
    "print(california.DESCR)"
   ]
  },
  {
   "cell_type": "markdown",
   "id": "a00834bf-06e8-4a8c-b447-66aacaac4689",
   "metadata": {},
   "source": [
    "For noen av features kan dette tolkes fra beskrivelsene av de orginale features, f.eks. produktet AveOccup * Population = (antall hus / populasjon) * populasjon = antall hus, for andre er det mindre tolkbart."
   ]
  },
  {
   "cell_type": "code",
   "execution_count": null,
   "id": "c2462028-32c0-400d-bc1d-10c9a105a618",
   "metadata": {},
   "outputs": [],
   "source": [
    "from sklearn.preprocessing import PolynomialFeatures"
   ]
  },
  {
   "cell_type": "code",
   "execution_count": null,
   "id": "c5d6fb20-021b-4d61-9bed-aa80e5a8c85c",
   "metadata": {},
   "outputs": [],
   "source": [
    "X.head()"
   ]
  },
  {
   "cell_type": "markdown",
   "id": "810881e6-7d7a-4482-a6fc-3272b0181405",
   "metadata": {},
   "source": [
    "La oss lage alle polynom opp til andre grad. Altså $x_i, x_i^2, x_ix_j$ basert på alle features $x_i$.\n",
    "\n",
    "> Hvor mange numeriske features får vi da?\n",
    "\n",
    "> Vi hadde opprinnelig 8 numeriske features. Vi får da alle disse 8 + alle de 8 i andre potens + alle par $x_i x_j$ for alle ulike features. Det blir 8 + 8 + antall par av de åtte man kan velge, uten tilbakelegging = 8 + 8 + antall kombinasjoner:"
   ]
  },
  {
   "cell_type": "code",
   "execution_count": null,
   "id": "7b67b1b9-9c30-4fd3-b231-59a9cafa615e",
   "metadata": {},
   "outputs": [],
   "source": [
    "from math import comb"
   ]
  },
  {
   "cell_type": "code",
   "execution_count": null,
   "id": "c013d568-bd4e-4ea2-82e8-84ab104ba2b6",
   "metadata": {},
   "outputs": [],
   "source": [
    "8 + 8 + comb(8,2)"
   ]
  },
  {
   "cell_type": "code",
   "execution_count": null,
   "id": "e7f3bbb7-4844-477d-8d5f-87a507523336",
   "metadata": {},
   "outputs": [],
   "source": [
    "polys = PolynomialFeatures(degree=2, include_bias=False)"
   ]
  },
  {
   "cell_type": "code",
   "execution_count": null,
   "id": "b4d34d6d-28d1-4307-93b0-8251ae743bb0",
   "metadata": {},
   "outputs": [],
   "source": [
    "polyfeatures = polys.fit_transform(X_train)"
   ]
  },
  {
   "cell_type": "code",
   "execution_count": null,
   "id": "cb8940a1-2846-4cf1-a475-7acce1660f2a",
   "metadata": {},
   "outputs": [],
   "source": [
    "X_train_poly = pd.DataFrame(data=polyfeatures)"
   ]
  },
  {
   "cell_type": "markdown",
   "id": "52c88a12-d3fd-4acb-8d91-d826dfe3e7f3",
   "metadata": {},
   "source": [
    "Vi har nå 44 features:"
   ]
  },
  {
   "cell_type": "code",
   "execution_count": null,
   "id": "e3cd9a3e-a82b-4d40-b641-af7293f38766",
   "metadata": {},
   "outputs": [],
   "source": [
    "X_train_poly.head()"
   ]
  },
  {
   "cell_type": "code",
   "execution_count": null,
   "id": "7a07ca9a-99ee-48f8-a376-83b3aeeb7a29",
   "metadata": {},
   "outputs": [],
   "source": [
    "X_train_poly['MedV'] = y_train"
   ]
  },
  {
   "cell_type": "code",
   "execution_count": null,
   "id": "1af2c029-3443-44d1-a4cb-8364490c75b7",
   "metadata": {},
   "outputs": [],
   "source": [
    "corr_poly = X_train_poly.corr()"
   ]
  },
  {
   "cell_type": "markdown",
   "id": "2ae1d308-d3e1-4e42-9644-8af0ad07d543",
   "metadata": {},
   "source": [
    "Vi kan nå sjekke korrelasjoner med target: "
   ]
  },
  {
   "cell_type": "code",
   "execution_count": null,
   "id": "9c10821f-be5c-46aa-bf0b-efb2e23cf53d",
   "metadata": {},
   "outputs": [],
   "source": [
    "corr_poly['MedV'].sort_values(ascending=False)"
   ]
  },
  {
   "cell_type": "code",
   "execution_count": null,
   "id": "155edc7e",
   "metadata": {},
   "outputs": [],
   "source": []
  }
 ],
 "metadata": {
  "kernelspec": {
   "display_name": "Python 3 (ipykernel)",
   "language": "python",
   "name": "python3"
  },
  "language_info": {
   "codemirror_mode": {
    "name": "ipython",
    "version": 3
   },
   "file_extension": ".py",
   "mimetype": "text/x-python",
   "name": "python",
   "nbconvert_exporter": "python",
   "pygments_lexer": "ipython3",
   "version": "3.10.12"
  }
 },
 "nbformat": 4,
 "nbformat_minor": 5
}
